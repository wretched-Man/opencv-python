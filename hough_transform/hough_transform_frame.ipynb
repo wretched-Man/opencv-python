{
 "cells": [
  {
   "cell_type": "markdown",
   "id": "f7e7b53c-f0db-42bc-b26e-db85183e8668",
   "metadata": {},
   "source": [
    "# Hough Transform for Lane Detection"
   ]
  },
  {
   "cell_type": "markdown",
   "id": "cb58f97b-fe7b-4126-b2f2-cdf68c6092aa",
   "metadata": {},
   "source": [
    "We will use Hough Transform to detect lines in an image."
   ]
  },
  {
   "cell_type": "markdown",
   "id": "93696d1d-e4c7-4d6a-96d1-340e588efc8d",
   "metadata": {},
   "source": [
    "Photo by 李进: [Link](https://www.pexels.com/photo/scenic-photo-of-wooden-dock-during-dawn-2903939/)"
   ]
  },
  {
   "cell_type": "code",
   "execution_count": null,
   "id": "e0fdd3c8-eef2-44be-89e8-d50e63bc86ca",
   "metadata": {},
   "outputs": [],
   "source": [
    "import cv2\n",
    "import numpy as np\n",
    "import matplotlib.pyplot as plt"
   ]
  },
  {
   "cell_type": "code",
   "execution_count": null,
   "id": "f45c4679-6574-42ec-8fdf-999eca403997",
   "metadata": {},
   "outputs": [],
   "source": [
    "import random"
   ]
  },
  {
   "cell_type": "markdown",
   "id": "9e7638c3-5f0e-4640-8158-762d4632b0c7",
   "metadata": {},
   "source": [
    "## Example 1"
   ]
  },
  {
   "cell_type": "markdown",
   "id": "5837f322-9e60-4725-bb4a-d6610cecbd95",
   "metadata": {},
   "source": [
    "We are going to try an example image."
   ]
  },
  {
   "cell_type": "code",
   "execution_count": null,
   "id": "239e4229-79be-4368-921e-e3b841206158",
   "metadata": {},
   "outputs": [],
   "source": [
    "bridge = cv2.imread(\"images/bridge_lanes.jpg\")\n",
    "bridge_gray = cv2.cvtColor(bridge, cv2.COLOR_BGR2GRAY)\n",
    "plt.imshow(bridge_gray, cmap='gray')"
   ]
  },
  {
   "cell_type": "code",
   "execution_count": null,
   "id": "37ffe10e-05e2-4d4a-8627-93db1f66ed9e",
   "metadata": {},
   "outputs": [],
   "source": [
    "bridge_blur = cv2.GaussianBlur(bridge_gray, (7, 7), 18)\n",
    "plt.imshow(bridge_blur, cmap='gray')"
   ]
  },
  {
   "cell_type": "code",
   "execution_count": null,
   "id": "97afcad9-767a-4c7d-b540-4fd8ed61a3e1",
   "metadata": {},
   "outputs": [],
   "source": [
    "bridge_edges = cv2.Canny(bridge_blur, 50, 65)\n",
    "plt.imshow(bridge_edges, cmap='gray')"
   ]
  },
  {
   "cell_type": "code",
   "execution_count": null,
   "id": "03cfea69-a394-445b-af1c-dbfc881ce42f",
   "metadata": {},
   "outputs": [],
   "source": [
    "bridge_lines = cv2.HoughLinesP(bridge_edges, 1, np.pi/180, 10, minLineLength=15, maxLineGap=5)\n",
    "bridge_lines.shape"
   ]
  },
  {
   "cell_type": "code",
   "execution_count": null,
   "id": "51c32688-87ed-42d9-a239-cb9b0a025adc",
   "metadata": {},
   "outputs": [],
   "source": [
    "#We will draw our lines here\n",
    "bridge_drawn = np.zeros_like(bridge)\n",
    "\n",
    "#We now need to segment out the flat regions, whose gradients are small\n",
    "def grad(x1, y1, x2, y2):\n",
    "    point1 = x2 - x1\n",
    "    point2 = y2 - y1\n",
    "    if point1 == 0:\n",
    "        return 0\n",
    "    if point2 == 0:\n",
    "        return 0\n",
    "    return point2 / point1\n",
    "\n",
    "for line in bridge_lines:\n",
    "    for x1, y1, x2, y2 in line:\n",
    "        line_gradient = grad(x1, y1, x2, y2)\n",
    "        if np.abs(line_gradient) > .2 and np.abs(line_gradient) < 1:\n",
    "            cv2.line(bridge_drawn, (x1, y1), (x2, y2), (255, 255, 0), thickness = 3)\n",
    "\n",
    "\n",
    "plt.imshow(bridge_drawn, cmap='gray')"
   ]
  },
  {
   "cell_type": "code",
   "execution_count": null,
   "id": "c358aee5-45b7-44a6-a480-d741142fc21d",
   "metadata": {},
   "outputs": [],
   "source": [
    "plt.imshow(bridge_drawn[720:,:950])"
   ]
  },
  {
   "cell_type": "markdown",
   "id": "5255144c-5c8a-4d82-b208-500377c976b4",
   "metadata": {},
   "source": [
    "We now separate our lines into left and right based on gradient. -ve grad to the left and +ve grad to the right. We will use x = 950 as our centre. Lines to the left of this are ignored if they have a +ve gradient."
   ]
  },
  {
   "cell_type": "code",
   "execution_count": null,
   "id": "eb870e5a-b9e8-4777-af0a-bb7bd63f4711",
   "metadata": {},
   "outputs": [],
   "source": [
    "def draw_lines(img, lines, color = [255, 0, 0], thickness = 2):\n",
    "    \"\"\"Utility for drawing lines.\"\"\"\n",
    "    if lines is not None:\n",
    "        for line in lines:\n",
    "            for x1,y1,x2,y2 in line:\n",
    "                cv2.line(img, (x1, y1), (x2, y2), color, thickness)\n",
    "\n",
    "def separate_lines(lines, centre = 950):\n",
    "    \"Segment into either left or right.\"\n",
    "    left = []\n",
    "    right = []\n",
    "    \n",
    "    for line in lines:\n",
    "        for x1, y1, x2, y2 in line:\n",
    "            line_gradient = grad(x1, y1, x2, y2)\n",
    "            if np.abs(line_gradient) > .2 and np.abs(line_gradient) < 1:\n",
    "                if line_gradient < 0 and x2 < centre:\n",
    "                    left.append(line)\n",
    "                elif line_gradient > 0 and x2 > centre:\n",
    "                    right.append(line)\n",
    "\n",
    "    return left, right"
   ]
  },
  {
   "cell_type": "code",
   "execution_count": null,
   "id": "c0e0859e-7800-410f-8185-7bf95739099b",
   "metadata": {},
   "outputs": [],
   "source": [
    "left_lines, right_lines = separate_lines(bridge_lines)\n",
    "#well_segmented lines\n",
    "seg_lines = np.zeros_like(bridge)\n",
    "draw_lines(seg_lines, left_lines, color = [255, 255, 0], thickness = 3)\n",
    "draw_lines(seg_lines, right_lines, color = [255, 255, 0], thickness = 3)\n",
    "plt.imshow(seg_lines)"
   ]
  },
  {
   "cell_type": "code",
   "execution_count": null,
   "id": "d45da140-5f10-486f-baa9-c29a16c694c2",
   "metadata": {},
   "outputs": [],
   "source": [
    "#calculate averages\n",
    "def average(data):\n",
    "    if data is not None:\n",
    "        n = 1\n",
    "        if len(data) > 0:\n",
    "            n = len(data)\n",
    "\n",
    "    return sum(data)/n\n",
    "\n",
    "# Since the lines break apart, we extrapolate the lines by\n",
    "# finding the average slope and line and extending it from\n",
    "# the lower border to upper border\n",
    "def extrapolate_lanes(lines, upper_border, lower_border):\n",
    "    slopes = []\n",
    "    consts = []\n",
    "    for line in lines:\n",
    "        for x1, y1, x2, y2 in line:\n",
    "            line_gradient = grad(x1, y1, x2, y2)\n",
    "            slopes.append(line_gradient)\n",
    "            const = y1 - line_gradient * x1\n",
    "            consts.append(const)\n",
    "\n",
    "    avg_slopes = average(slopes)\n",
    "    avg_consts = average(consts)\n",
    "\n",
    "    # Calculate average intersection at lower_border.\n",
    "    x_lane_lower_point = int((lower_border - avg_consts) / avg_slopes)\n",
    "    \n",
    "    # Calculate average intersection at upper_border.\n",
    "    x_lane_upper_point = int((upper_border - avg_consts) / avg_slopes)\n",
    "    \n",
    "    return [x_lane_lower_point, lower_border, x_lane_upper_point, upper_border]"
   ]
  },
  {
   "cell_type": "code",
   "execution_count": null,
   "id": "aa93cbf6-bcdb-4351-bcf3-4edc07fb9999",
   "metadata": {},
   "outputs": [],
   "source": [
    "final_lanes = np.zeros_like(bridge)\n",
    "\n",
    "extrapolate_left = extrapolate_lanes(left_lines, 720, 1200)\n",
    "extrapolate_right = extrapolate_lanes(right_lines, 720, bridge.shape[0]-1)\n",
    "\n",
    "draw_lines(final_lanes, [[extrapolate_left]], color = [255, 255, 0], thickness = 10)\n",
    "draw_lines(final_lanes, [[extrapolate_right]], color = [255, 255, 0], thickness = 10)\n",
    "plt.imshow(final_lanes)"
   ]
  },
  {
   "cell_type": "code",
   "execution_count": null,
   "id": "f64dbd8a-cdae-4d06-8b41-7cac8f13eeee",
   "metadata": {},
   "outputs": [],
   "source": [
    "resulting_img = cv2.addWeighted(bridge, 1, final_lanes, 0.6, 0)\n",
    "plt.imshow(resulting_img[:, :, ::-1])"
   ]
  },
  {
   "cell_type": "markdown",
   "id": "74218c68-dfb0-44b8-bab7-e8d7362fa5c9",
   "metadata": {},
   "source": [
    "## Example 2"
   ]
  },
  {
   "cell_type": "markdown",
   "id": "61bc3425-138f-4515-abe6-49145cc49f17",
   "metadata": {},
   "source": [
    "We can now list down the actions to come up with a segmentation for the images.\n",
    "1. Take an image.\n",
    "2. Convert the image to grayscale.\n",
    "3. Find the appropriate edges using Canny's\n",
    "4. Use the Hough transform to find lines\n",
    "5. Segment the lines into left or right depending on gradient\n",
    "6. Extrapolate the lines in each of the right and left lanes to find one line that runs the whole length\n",
    "7. Draw the final line on the original image"
   ]
  },
  {
   "cell_type": "code",
   "execution_count": null,
   "id": "668520a3-a653-44d7-aecf-0eea7b0f7e11",
   "metadata": {},
   "outputs": [],
   "source": [
    "road = cv2.imread(\"images/road.jpg\")\n",
    "plt.imshow(road[:, :, ::-1])"
   ]
  },
  {
   "cell_type": "code",
   "execution_count": null,
   "id": "7c2db4ee-9584-4bc2-9eaa-c69d52ea1e74",
   "metadata": {},
   "outputs": [],
   "source": [
    "road_gray = cv2.cvtColor(road, cv2.COLOR_BGR2GRAY)\n",
    "road_blur = cv2.GaussianBlur(road_gray, (7, 7), 4)\n",
    "road_edges = cv2.Canny(road_blur, 50, 100)\n",
    "plt.imshow(road_edges, cmap='gray')"
   ]
  },
  {
   "cell_type": "code",
   "execution_count": null,
   "id": "ba8ab312-e530-447c-8d65-c1ead1b74f1f",
   "metadata": {},
   "outputs": [],
   "source": [
    "#We will now find lines\n",
    "lines = cv2.HoughLinesP(road_edges, 1, np.pi/180, 10, minLineLength=6, maxLineGap=5)\n",
    "lines.shape"
   ]
  },
  {
   "cell_type": "code",
   "execution_count": null,
   "id": "2b18e351-c37a-41ab-b0b8-105f1a0aa081",
   "metadata": {},
   "outputs": [],
   "source": [
    "road_lines = np.zeros_like(road)\n",
    "clean_lines = []\n",
    "\n",
    "#draw the lines\n",
    "# Only take the necessary lines\n",
    "for line in lines:\n",
    "    for x1, y1, x2, y2 in line:\n",
    "        line_gradient = grad(x1, y1, x2, y2)\n",
    "        if np.abs(line_gradient) > .2 and np.abs(line_gradient) < 1:\n",
    "            clean_lines.append(line)\n",
    "\n",
    "draw_lines(road_lines, clean_lines, thickness=3)\n",
    "plt.imshow(road_lines)"
   ]
  },
  {
   "cell_type": "code",
   "execution_count": null,
   "id": "3460af5c-c955-4509-b02c-425f6b49ca16",
   "metadata": {},
   "outputs": [],
   "source": [
    "#segment left-right\n",
    "left_lines_road, right_lines_road = separate_lines(clean_lines, 480)\n",
    "separated_lines_image = np.zeros_like(road)\n",
    "\n",
    "#draw segmented lines\n",
    "draw_lines(separated_lines_image, left_lines_road)\n",
    "draw_lines(separated_lines_image, right_lines_road)\n",
    "plt.imshow(separated_lines_image)"
   ]
  },
  {
   "cell_type": "markdown",
   "id": "de55197e-befd-4968-b71b-6d8e591cf885",
   "metadata": {},
   "source": [
    "As we can see from the above image, where the left and right lines have been divided, there are more lines than those on the road. Because of this, while extrapolating, the noisy lines may affect the averages. One way we can deal with this is by using a mask to only mask out the road. Another way, the one used here, is by grouping the lines based on gradient. Lines in the same 'line' are likely to have similar gradients. Hence, we use this fact to segment the lines and choose one group."
   ]
  },
  {
   "cell_type": "code",
   "execution_count": null,
   "id": "a62fa6b4-8e6a-44d5-88f7-26e7433891b6",
   "metadata": {},
   "outputs": [],
   "source": [
    "def sort_lines_gradient(lines):\n",
    "    \"Sort lines according to gradient.\"\n",
    "    if len(lines) < 2:\n",
    "        return lines\n",
    "\n",
    "    all_gradients = []\n",
    "    sorted_lines = []\n",
    "    for line in lines:\n",
    "        for x1, y1, x2, y2 in line:\n",
    "            line_gradient = grad(x1, y1, x2, y2)\n",
    "            all_gradients.append(line_gradient)\n",
    "\n",
    "    sorted_gradients = np.argsort(all_gradients)\n",
    "    for pos in range(len(lines)):\n",
    "        sorted_lines.append(lines[sorted_gradients[pos]])\n",
    "\n",
    "    all_gradients.sort()\n",
    "\n",
    "    return sorted_lines, all_gradients "
   ]
  },
  {
   "cell_type": "code",
   "execution_count": null,
   "id": "7527c6d1-c4c8-48c7-8cc7-746bfc560f86",
   "metadata": {},
   "outputs": [],
   "source": [
    "def gradient_cluster(lines, difference = 0.5):\n",
    "    \"\"\"\n",
    "    Group into clusters.\n",
    "    difference tells us the max difference in a cluster\n",
    "    \"\"\"\n",
    "    if len(lines) < 2:\n",
    "        return lines\n",
    "\n",
    "    final_lines = []\n",
    "    #sort lines\n",
    "    sorted_lines, sorted_grads = sort_lines_gradient(lines)\n",
    "    ungrouped_lines = sorted_lines.copy()\n",
    "    ungrouped_grads = sorted_grads.copy()\n",
    "\n",
    "    while len(ungrouped_lines) > 1:\n",
    "        grouped_lines = []\n",
    "        grouped_lines.append(ungrouped_lines[0])\n",
    "        \n",
    "        for _ in range(1, len(ungrouped_lines)):\n",
    "            if abs(ungrouped_grads[0] - ungrouped_grads[1]) > difference:\n",
    "                break\n",
    "            else:\n",
    "                grouped_lines.append(ungrouped_lines[1])\n",
    "                ungrouped_lines.pop(1)\n",
    "                ungrouped_grads.pop(1)\n",
    "\n",
    "        ungrouped_lines.pop(0)\n",
    "        ungrouped_grads.pop(0)\n",
    "        \n",
    "        final_lines.append(grouped_lines)\n",
    "        # sort from smallest to largest group\n",
    "        final_lines.sort(key = len)\n",
    "    return final_lines"
   ]
  },
  {
   "cell_type": "code",
   "execution_count": null,
   "id": "f6be0df9-2416-44f2-bdf4-6762499f8ae6",
   "metadata": {},
   "outputs": [],
   "source": [
    "grouped_left_lanes = gradient_cluster(left_lines_road, 0.05)\n",
    "grouped_right_lanes = gradient_cluster(right_lines_road, 0.001)"
   ]
  },
  {
   "cell_type": "code",
   "execution_count": null,
   "id": "53fa67dd-8aa9-42bd-93cd-fa31c9d54647",
   "metadata": {},
   "outputs": [],
   "source": [
    "final_lanes_road = np.zeros_like(road)\n",
    "\n",
    "extra_left = extrapolate_lanes(grouped_left_lanes[0], 310, road.shape[0])\n",
    "extra_right = extrapolate_lanes(grouped_right_lanes[-1], 310, road.shape[0])\n",
    "\n",
    "draw_lines(final_lanes_road, [[extra_left]], color = [255, 255, 0], thickness = 10)\n",
    "draw_lines(final_lanes_road, [[extra_right]], color = [255, 255, 0], thickness = 10)\n",
    "plt.imshow(final_lanes_road)"
   ]
  },
  {
   "cell_type": "code",
   "execution_count": null,
   "id": "87a9e513-e01d-4e6b-a5f2-faf4d349479f",
   "metadata": {},
   "outputs": [],
   "source": [
    "final_road_colored = cv2.addWeighted(road, 1, final_lanes_road, 0.6, 0)\n",
    "plt.imshow(final_road_colored[:, :, ::-1])"
   ]
  },
  {
   "cell_type": "markdown",
   "id": "742465b3-823d-48d7-b5c0-7228dbb10b79",
   "metadata": {},
   "source": [
    "We can now use these methods for a video."
   ]
  }
 ],
 "metadata": {
  "kernelspec": {
   "display_name": "opencv-env",
   "language": "python",
   "name": "opencv-env"
  },
  "language_info": {
   "codemirror_mode": {
    "name": "ipython",
    "version": 3
   },
   "file_extension": ".py",
   "mimetype": "text/x-python",
   "name": "python",
   "nbconvert_exporter": "python",
   "pygments_lexer": "ipython3",
   "version": "3.12.2"
  }
 },
 "nbformat": 4,
 "nbformat_minor": 5
}
