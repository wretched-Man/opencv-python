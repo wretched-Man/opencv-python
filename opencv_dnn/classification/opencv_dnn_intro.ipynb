{
 "cells": [
  {
   "cell_type": "markdown",
   "id": "57ecf230-8c62-4622-a570-a266bb34b0fa",
   "metadata": {},
   "source": [
    "# OpenCV deep learning module"
   ]
  },
  {
   "cell_type": "markdown",
   "id": "39ec7de4-a5d5-4a5e-9372-dbe4ab95841c",
   "metadata": {},
   "source": [
    "Deep learning is a subset of machine learning. OpenCV provides us with a deep learning module that allows us to do inferencing. This module is its own namespace `dnn`. A deep neural network is an ANN with multiple hidden layers of units between the input and output layers, which are composed of multiple linear and non-linear transformations. Unlike a shallow neural network, a dnn has multiple hidden layers which allows it perform better. "
   ]
  },
  {
   "cell_type": "markdown",
   "id": "525294b6-e2c5-4e5f-8ea7-950519e05249",
   "metadata": {},
   "source": [
    "OpenCV supports models from various frameworks including Caffe, TensorFlow, Darknet, Pytorch and ONNX through the various methods it offers. All this functionality is available in the `dnn` class. It has support for many types of neural networks including CNNs, LSTMs, RNNs, GRUs and others."
   ]
  },
  {
   "cell_type": "markdown",
   "id": "9ed694e0-edeb-4952-a769-00f0f99c1dfe",
   "metadata": {},
   "source": [
    "## `dnn` module for inference"
   ]
  },
  {
   "cell_type": "markdown",
   "id": "f3bd4d84-e163-43fd-87e5-918b3a843cc9",
   "metadata": {},
   "source": [
    "The OpenCV dnn module allows inference only. That is, you cannot train a model but you can get the trained inputs of a model. That said, however, you can add layers to current models and also add trained weights to those layers."
   ]
  },
  {
   "cell_type": "markdown",
   "id": "72156149-713a-4e4e-ba9b-02d488abef0d",
   "metadata": {},
   "source": [
    "## Supported layers"
   ]
  },
  {
   "cell_type": "markdown",
   "id": "9d1e33db-0a41-4649-a846-597ef0eb7d92",
   "metadata": {},
   "source": [
    "OpenCV has support for a plethora of layers. The complete list can be found [here](https://docs.opencv.org/4.x/dd/d6b/all__layers_8hpp.html)."
   ]
  },
  {
   "cell_type": "markdown",
   "id": "6b8ef9b8-f16d-40bd-aed1-e2878aeba3a8",
   "metadata": {},
   "source": [
    "## What we can do with this"
   ]
  },
  {
   "cell_type": "markdown",
   "id": "9e28a517-d043-4ac2-9eaf-be16ff3db209",
   "metadata": {},
   "source": [
    "We can run inference on any model created using the supported frameworks. This means that we can do quite a number of things using this dnn module. Furthermore, since we can add layers and populate them, we can increase the functionality even more. Remember, the reason that OpenCV supports this module is because most Computer Vision tasks these days are done using deep learning, in the place of algorithms since deep learning solutions are more effective.\n",
    "\n",
    "This means that we can do many computer vision tasks such as object detection and classification, segmentation and inpainting, color correction among others. We will see more applications and explain more in the upcoming notebooks."
   ]
  },
  {
   "cell_type": "markdown",
   "id": "b33281dd-aef2-4e6d-935f-a1a221a2a3c1",
   "metadata": {},
   "source": [
    "## Also Note"
   ]
  },
  {
   "cell_type": "markdown",
   "id": "5476e811-758e-423a-8272-ee2aaa2e659f",
   "metadata": {},
   "source": [
    "OpenCV `dnn` module supports deep learning, a subset of machine learning. Hence other ML algorithms like decision trees, SVMs and clustering algorithms are not supported in this module."
   ]
  }
 ],
 "metadata": {
  "kernelspec": {
   "display_name": "opencv-env",
   "language": "python",
   "name": "opencv-env"
  },
  "language_info": {
   "codemirror_mode": {
    "name": "ipython",
    "version": 3
   },
   "file_extension": ".py",
   "mimetype": "text/x-python",
   "name": "python",
   "nbconvert_exporter": "python",
   "pygments_lexer": "ipython3",
   "version": "3.12.2"
  }
 },
 "nbformat": 4,
 "nbformat_minor": 5
}
