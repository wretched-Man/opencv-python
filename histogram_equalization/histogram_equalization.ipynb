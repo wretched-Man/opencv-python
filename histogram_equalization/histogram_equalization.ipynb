{
 "cells": [
  {
   "cell_type": "markdown",
   "id": "8ea7f8df-8cd5-4568-aff9-b10c6e709603",
   "metadata": {},
   "source": [
    "# Histograms and color Segmentation"
   ]
  },
  {
   "cell_type": "markdown",
   "id": "90ea9328-afea-4df4-836d-24d30d583f32",
   "metadata": {},
   "source": [
    "## Histograms"
   ]
  },
  {
   "cell_type": "markdown",
   "id": "9db9c2d0-ead7-4374-a141-29570ad760e8",
   "metadata": {},
   "source": [
    "A histogram is a visual representation of the distribution of quantitative data. Data is grouped into bars. The length of the bars represents the frequencies of the group, while the width of the bars represents the size of the group (known as bin). Essentially, each bar tells us that there are `n` occurrences (reading from the vertical axis) of values in the range `x - y` (reading from the horizontal axis)."
   ]
  },
  {
   "cell_type": "markdown",
   "id": "cbe215fd-2189-4c10-993e-17d71b5ea70c",
   "metadata": {},
   "source": [
    "We can develop histograms of images to see how the color values are distributed. Let us see a few examples."
   ]
  },
  {
   "cell_type": "code",
   "execution_count": null,
   "id": "7c66778e-d693-47eb-9493-2f7171c514e8",
   "metadata": {},
   "outputs": [],
   "source": [
    "#Load images\n",
    "import numpy as np\n",
    "import matplotlib.pyplot as plt\n",
    "import cv2\n",
    "\n",
    "plt.rcParams['image.cmap'] = 'gray'\n",
    "plt.rcParams['figure.figsize'] = [20, 5]"
   ]
  },
  {
   "cell_type": "markdown",
   "id": "6cdd4278-a143-48fe-a701-9baead38f0bf",
   "metadata": {},
   "source": [
    "We will first examine a black image."
   ]
  },
  {
   "cell_type": "code",
   "execution_count": null,
   "id": "dc52fae9-1f10-48a1-bbdb-bbfc15d920c8",
   "metadata": {},
   "outputs": [],
   "source": [
    "bw_img = np.zeros([20, 20])\n",
    "\n",
    "plt.figure()\n",
    "plt.subplot(121); plt.imshow(bw_img); plt.title('Black Image');\n",
    "plt.subplot(122); plt.hist(np.ravel(bw_img), range=[0, 255]); plt.title('Histogram'); plt.xlabel('Bins'); plt.ylabel('frequencies')"
   ]
  },
  {
   "cell_type": "markdown",
   "id": "2676d98a-eb81-4e6d-a4bf-40ec985a7412",
   "metadata": {},
   "source": [
    "Above, we plot an image and its corresponding histogram. We use the default binsize of 10 and tell that the range of values is 0 - 255. Hence each bin has a width of 25.5.\n",
    "We can interpret the histogram as: there are at most 400 values in the image, all falling in the range 0 - 25."
   ]
  },
  {
   "cell_type": "markdown",
   "id": "94a1f058-2051-43a9-9258-6c99ef093072",
   "metadata": {},
   "source": [
    "Let us now read a b/w image."
   ]
  },
  {
   "cell_type": "code",
   "execution_count": null,
   "id": "f7a6e20c-9251-4414-b59f-4f2610297ab1",
   "metadata": {},
   "outputs": [],
   "source": [
    "checker = cv2.imread('images/checker_pattern.png', cv2.IMREAD_GRAYSCALE)\n",
    "\n",
    "plt.figure()\n",
    "plt.subplot(131); plt.imshow(checker); plt.title('CheckerBoard');\n",
    "plt.subplot(132); plt.hist(np.ravel(checker), range=[0, 255]); plt.title('Histogram (10 Bins)'); plt.xlabel('Bins'); plt.ylabel('frequencies')\n",
    "plt.subplot(133); plt.hist(np.ravel(checker), 50, range=[0, 255]); plt.title('Histogram (50 Bins)'); plt.xlabel('Bins'); plt.ylabel('frequencies')"
   ]
  },
  {
   "cell_type": "markdown",
   "id": "71b3b40b-237f-49be-b1eb-7599868cfecf",
   "metadata": {},
   "source": [
    "We can see that changing the number of bins changes the shape of the histograms. We see that the values are not pure b/w but rather there are smaller transitions to the blacks and whites."
   ]
  },
  {
   "cell_type": "markdown",
   "id": "c15b0272-581d-423f-8575-405b5a6f506e",
   "metadata": {},
   "source": [
    "We now look at another b/w image. We will use both numpy's `hist` and OpenCV's `CalcHist` function."
   ]
  },
  {
   "cell_type": "code",
   "execution_count": null,
   "id": "27f6011a-5ad5-4895-9a2c-dc40aa5b5736",
   "metadata": {},
   "outputs": [],
   "source": [
    "chaplin = cv2.imread('images/charlie_chaplin_bw.jpg', cv2.IMREAD_GRAYSCALE)\n",
    "\n",
    "chap_hist = cv2.calcHist([chaplin], [0], None, [256], ranges=[0, 255])\n",
    "plt.figure()\n",
    "plt.subplot(131); plt.imshow(chaplin); plt.title('Charlie Chaplin');\n",
    "plt.subplot(132); plt.hist(np.ravel(chaplin), 256, range=[0, 255]); plt.title('Pyplot Histogram'); plt.xlabel('Bins'); plt.ylabel('frequencies')\n",
    "plt.subplot(133); plt.plot(chap_hist); plt.title('OpenCV Histogram'); plt.xlabel('Bins'); plt.ylabel('frequencies')"
   ]
  },
  {
   "cell_type": "markdown",
   "id": "12520d6a-318f-423c-819a-4a3c91930b16",
   "metadata": {},
   "source": [
    "In the plot above, we have used 256 bins, so that each value is in its own range. We see that the pics are majorly close to the ends, both left and right."
   ]
  },
  {
   "cell_type": "markdown",
   "id": "e1943bdf-87ae-4b9a-bb26-cc1255b98c00",
   "metadata": {},
   "source": [
    "## Color Histograms"
   ]
  },
  {
   "cell_type": "markdown",
   "id": "d80df59f-d7fe-48f1-861f-ff6440ea95d1",
   "metadata": {},
   "source": [
    "We can also view histograms of color images."
   ]
  },
  {
   "cell_type": "code",
   "execution_count": null,
   "id": "bf818b7a-77b8-4e67-8ee6-73374d9ce7ca",
   "metadata": {},
   "outputs": [],
   "source": [
    "hibiscus = cv2.imread('images/red_hibiscus.jpg')\n",
    "\n",
    "#The 3 channels\n",
    "blue = cv2.calcHist([hibiscus], [0], None, [256], ranges=[0, 256])\n",
    "green = cv2.calcHist([hibiscus], [1], None, [256], ranges=[0, 256])\n",
    "red = cv2.calcHist([hibiscus], [2], None, [256], ranges=[0, 256])\n",
    "\n",
    "plt.figure()\n",
    "plt.subplot(131); plt.imshow(hibiscus); plt.title('Hibiscus');\n",
    "plt.subplot(132); plt.plot(blue, 'b');\n",
    "plt.subplot(132); plt.plot(green, 'g');\n",
    "plt.subplot(132); plt.plot(red, 'r');"
   ]
  },
  {
   "cell_type": "markdown",
   "id": "f70fc281-1a3d-45cf-a805-882ddbeab7c7",
   "metadata": {},
   "source": [
    "### Applying a mask "
   ]
  },
  {
   "cell_type": "markdown",
   "id": "f21f8356-c525-45d7-996b-20d30ea50424",
   "metadata": {},
   "source": [
    "We can apply a mask to our image to only get the histogram from a specific portion."
   ]
  },
  {
   "cell_type": "code",
   "execution_count": null,
   "id": "053e9484-5cd7-45ff-8a36-7942a71fda90",
   "metadata": {},
   "outputs": [],
   "source": [
    "mask = np.zeros_like(hibiscus)\n",
    "\n",
    "mask[840:1050, 320:600] = [255, 255, 255]\n",
    "\n",
    "hibiscus_mask = cv2.bitwise_and(hibiscus, mask)\n",
    "\n",
    "#The 3 channels\n",
    "blue = cv2.calcHist([hibiscus], [0], mask[:, :, 0], [256], ranges=[0, 256])\n",
    "green = cv2.calcHist([hibiscus], [1], mask[:, :, 0], [256], ranges=[0, 256])\n",
    "red = cv2.calcHist([hibiscus], [2], mask[:, :, 0], [256], ranges=[0, 256])\n",
    "\n",
    "plt.figure()\n",
    "plt.subplot(131); plt.imshow(hibiscus_mask); plt.title('Hibiscus');\n",
    "plt.subplot(132); plt.plot(blue, 'b'); plt.title('HIstogram');\n",
    "plt.subplot(132); plt.plot(green, 'g');\n",
    "plt.subplot(132); plt.plot(red, 'r');"
   ]
  },
  {
   "cell_type": "markdown",
   "id": "06ce19f8-75ac-40c9-9587-73ac80c2aa18",
   "metadata": {},
   "source": [
    "This has given us the histogram values of the desired petal."
   ]
  },
  {
   "cell_type": "markdown",
   "id": "142e85e1-0d88-41f7-b2a2-6dbff5b799a3",
   "metadata": {},
   "source": [
    "## Histogram Equalization for Gray Images"
   ]
  },
  {
   "cell_type": "markdown",
   "id": "c3366d06-34d2-40c3-b217-b8e2f1acae5c",
   "metadata": {},
   "source": [
    "We can use histogram equalization to increase contrast in an image. OpenCV provides the `cv2.equalizeHist` function. We will forst load up a gray image."
   ]
  },
  {
   "cell_type": "code",
   "execution_count": null,
   "id": "2680b6b0-3d03-4bad-8575-76c49b247b33",
   "metadata": {},
   "outputs": [],
   "source": [
    "unequalized_bw = cv2.imread('images/overexposed_kids_playing.jpg', cv2.IMREAD_GRAYSCALE)\n",
    "\n",
    "uneqhist = cv2.calcHist([unequalized_bw], [0], None, [256], ranges=[0, 255])\n",
    "\n",
    "plt.figure()\n",
    "plt.subplot(121); plt.imshow(unequalized_bw); plt.title('Unequalized Image')\n",
    "plt.subplot(122); plt.plot(uneqhist); plt.title('Histogram')"
   ]
  },
  {
   "cell_type": "markdown",
   "id": "4b5cbb71-263e-4b94-b063-256843f7f6c7",
   "metadata": {},
   "source": [
    "We can see that the image is overexposed and that the values is not evenly distributed. Let us look at it after equalizing the histogram."
   ]
  },
  {
   "cell_type": "code",
   "execution_count": null,
   "id": "23a16842-8036-4a77-9355-699e2537966c",
   "metadata": {},
   "outputs": [],
   "source": [
    "#Equalize histogram\n",
    "equalized_bw = cv2.equalizeHist(unequalized_bw)\n",
    "\n",
    "equalhist = cv2.calcHist([equalized_bw], [0], None, [256], ranges=[0, 255])\n",
    "\n",
    "plt.figure()\n",
    "plt.subplot(121); plt.imshow(equalized_bw); plt.title('Equalized Image')\n",
    "plt.subplot(122); plt.plot(equalhist); plt.title('Histogram')"
   ]
  },
  {
   "cell_type": "markdown",
   "id": "0376cf73-1516-4b25-b882-703b00fc7eea",
   "metadata": {},
   "source": [
    "We can now see that the colors are now better distributed than in the original image."
   ]
  },
  {
   "cell_type": "markdown",
   "id": "2a122cd1-a348-4e58-93b3-f0f275c05851",
   "metadata": {},
   "source": [
    "## Histogram Equalization for Color Images"
   ]
  },
  {
   "cell_type": "markdown",
   "id": "b6dfbcb5-fec1-47f7-97ca-a0522b2c3057",
   "metadata": {},
   "source": [
    "Equalizing color images is not as straightfoward as gray images. We cannot simply equalize the channels and output the resulting image. This naive approach is shown below."
   ]
  },
  {
   "cell_type": "code",
   "execution_count": null,
   "id": "0c13875d-4890-417e-9941-d0fff70566dc",
   "metadata": {},
   "outputs": [],
   "source": [
    "#The naive approach\n",
    "unequalized_color = cv2.imread('images/dim_color_unequalized_hist.jpg')\n",
    "\n",
    "naive_equalize = unequalized_color.copy()\n",
    "\n",
    "for x in range(3):\n",
    "    naive_equalize[:, :, x] = cv2.equalizeHist(naive_equalize[:, :, x])\n",
    "\n",
    "plt.figure(figsize=[10, 5])\n",
    "plt.subplot(121); plt.imshow(unequalized_color[:, :, ::-1]); plt.title('Original color Image')\n",
    "plt.subplot(122); plt.imshow(naive_equalize[:, :, ::-1]); plt.title('Naively Equalized Image')"
   ]
  },
  {
   "cell_type": "markdown",
   "id": "bdb3efdf-a511-4612-8334-dd4c3193d2c8",
   "metadata": {},
   "source": [
    "From the equalized image, we see that artifacts have been introduced. We can see that colors that don't exist have been introduced. A better way is to convert the image into HSV color space and equalizing the Value channel."
   ]
  },
  {
   "cell_type": "code",
   "execution_count": null,
   "id": "185eb4ba-5c80-464e-8762-64178f97069f",
   "metadata": {},
   "outputs": [],
   "source": [
    "#convert to hsv\n",
    "unequalized_hsv = cv2.cvtColor(unequalized_color, cv2.COLOR_BGR2HSV)\n",
    "\n",
    "#equalize the value channel\n",
    "unequalized_hsv[:, :, 2] = cv2.equalizeHist(unequalized_hsv[:, :, 2])\n",
    "\n",
    "pro_equalized = cv2.cvtColor(unequalized_hsv, cv2.COLOR_HSV2BGR)\n",
    "\n",
    "plt.figure(figsize=[10, 5])\n",
    "plt.subplot(121); plt.imshow(unequalized_color[:, :, ::-1]); plt.title('Original color Image')\n",
    "plt.subplot(122); plt.imshow(pro_equalized[:, :, ::-1]); plt.title('Pro Equalized Image')"
   ]
  },
  {
   "cell_type": "markdown",
   "id": "bb4eb5ad-fb72-4613-9275-00feedc60a89",
   "metadata": {},
   "source": [
    "We see that the resultant image is better than the one we had previously. Let us plot the histograms to see."
   ]
  },
  {
   "cell_type": "code",
   "execution_count": null,
   "id": "870a267f-a0e3-4526-a04d-87ba7ddeef4d",
   "metadata": {},
   "outputs": [],
   "source": [
    "#plotting histograms\n",
    "\n",
    "#Original image\n",
    "blue_org = cv2.calcHist([unequalized_color], [0], None, [256], ranges=[0, 255])\n",
    "green_org = cv2.calcHist([unequalized_color], [1], None, [256], ranges=[0, 255])\n",
    "red_org = cv2.calcHist([unequalized_color], [2], None, [256], ranges=[0, 255])\n",
    "\n",
    "#Naively equalized color\n",
    "blue_naive = cv2.calcHist([naive_equalize], [0], None, [256], ranges=[0, 255])\n",
    "green_naive = cv2.calcHist([naive_equalize], [1], None, [256], ranges=[0, 255])\n",
    "red_naive = cv2.calcHist([naive_equalize], [2], None, [256], ranges=[0, 255])\n",
    "\n",
    "#Pro equalized color\n",
    "blue_pro = cv2.calcHist([pro_equalized], [0], None, [256], ranges=[0, 255])\n",
    "green_pro = cv2.calcHist([pro_equalized], [1], None, [256], ranges=[0, 255])\n",
    "red_pro = cv2.calcHist([pro_equalized], [2], None, [256], ranges=[0, 255])\n",
    "\n",
    "#Plotting\n",
    "plt.figure(figsize=[20, 5])\n",
    "\n",
    "#Original image\n",
    "plt.subplot(131); plt.plot(blue_org, 'b'); plt.title('Original Color Image');\n",
    "plt.subplot(131); plt.plot(green_org, 'g');\n",
    "plt.subplot(131); plt.plot(red_org, 'r');\n",
    "\n",
    "#Naively equalized color\n",
    "plt.subplot(132); plt.plot(blue_naive, 'b'); plt.title('Naively Equalized Image');\n",
    "plt.subplot(132); plt.plot(green_naive, 'g'); \n",
    "plt.subplot(132); plt.plot(red_naive, 'r');\n",
    "\n",
    "#Pro equalized color\n",
    "plt.subplot(133); plt.plot(blue_pro, 'b'); plt.title('Pro Equalized Image');\n",
    "plt.subplot(133); plt.plot(green_pro, 'g'); \n",
    "plt.subplot(133); plt.plot(red_pro, 'r');"
   ]
  },
  {
   "cell_type": "markdown",
   "id": "13642f84-db72-419a-8df3-87a7978b3b6b",
   "metadata": {},
   "source": [
    "We see that there are differences between the two histograms. Whereas the naively equalized image seems more equalized, the pro equalized image gives better results."
   ]
  }
 ],
 "metadata": {
  "kernelspec": {
   "display_name": "opencv-env",
   "language": "python",
   "name": "opencv-env"
  },
  "language_info": {
   "codemirror_mode": {
    "name": "ipython",
    "version": 3
   },
   "file_extension": ".py",
   "mimetype": "text/x-python",
   "name": "python",
   "nbconvert_exporter": "python",
   "pygments_lexer": "ipython3",
   "version": "3.12.2"
  }
 },
 "nbformat": 4,
 "nbformat_minor": 5
}
