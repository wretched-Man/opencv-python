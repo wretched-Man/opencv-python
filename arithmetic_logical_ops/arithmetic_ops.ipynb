{
 "cells": [
  {
   "cell_type": "markdown",
   "id": "434cc847-5dcc-41d4-853a-c4130f756326",
   "metadata": {},
   "source": [
    "# Arithmetic Operations"
   ]
  },
  {
   "cell_type": "markdown",
   "id": "c596534f-0991-4f9a-9950-5b4d712fcdfd",
   "metadata": {},
   "source": [
    "OpenCV allows us to perform arithmetic operations on images. It provides methods like:\n",
    "* `add()`\n",
    "* `subtract()`\n",
    "* `multiply()`"
   ]
  },
  {
   "cell_type": "code",
   "execution_count": null,
   "id": "667e3448-0f6b-4765-8889-b6ae8ee44871",
   "metadata": {},
   "outputs": [],
   "source": [
    "import cv2\n",
    "import numpy as np\n",
    "import matplotlib.pyplot as plt\n",
    "import matplotlib\n",
    "%matplotlib inline"
   ]
  },
  {
   "cell_type": "markdown",
   "id": "0e4917d0-19ac-4efb-b4e2-dee2e906e071",
   "metadata": {},
   "source": [
    "### Addition and Subtraction"
   ]
  },
  {
   "cell_type": "code",
   "execution_count": null,
   "id": "1c41252f-1b54-4a3e-a556-12117579df61",
   "metadata": {},
   "outputs": [],
   "source": [
    "img = cv2.imread('images/mountains.jpg', cv2.IMREAD_COLOR)\n",
    "plt.figure(figsize=[5, 5])\n",
    "plt.imshow(img[:, :, ::-1])"
   ]
  },
  {
   "cell_type": "code",
   "execution_count": null,
   "id": "71360f3d-1fff-47bf-b617-98cb5efe309b",
   "metadata": {},
   "outputs": [],
   "source": [
    "#Let's add using OpenCV\n",
    "matrix = np.ones(img.shape, np.uint8) * 45\n",
    "(matrix == 45).all()"
   ]
  },
  {
   "cell_type": "code",
   "execution_count": null,
   "id": "1f0811dc-56fc-4d3e-921b-62a052215cf7",
   "metadata": {},
   "outputs": [],
   "source": [
    "img_add = cv2.add(img, matrix)\n",
    "plt.imshow(img_add[:, :, ::-1])"
   ]
  },
  {
   "cell_type": "code",
   "execution_count": null,
   "id": "63468335-b348-467e-9da3-7eb5afca7210",
   "metadata": {},
   "outputs": [],
   "source": [
    "#Let's now subtract\n",
    "img_sub = cv2.subtract(img, matrix)\n",
    "plt.imshow(img_sub[:, :, ::-1])"
   ]
  },
  {
   "cell_type": "markdown",
   "id": "c996a030-b9b3-494e-bc42-6e85baac1a69",
   "metadata": {},
   "source": [
    "Let us plot all together."
   ]
  },
  {
   "cell_type": "code",
   "execution_count": null,
   "id": "74296218-2d00-4fa3-8e29-b82ea8bb86cc",
   "metadata": {},
   "outputs": [],
   "source": [
    "plt.figure(figsize=[20, 5])\n",
    "plt.subplot(131); plt.imshow(img_sub[:, :, ::-1]); plt.title('Subtracted (Darker)')\n",
    "plt.subplot(132); plt.imshow(img[:, :, ::-1]);     plt.title('Original')\n",
    "plt.subplot(133); plt.imshow(img_add[:, :, ::-1]); plt.title('Added (Brighter)')"
   ]
  },
  {
   "cell_type": "markdown",
   "id": "dc718d6d-61a6-4efe-8bbc-60649a253e82",
   "metadata": {},
   "source": [
    "As you can see, addition can be used to make an image brighter. Subtraction can be used to make an image darker."
   ]
  },
  {
   "cell_type": "markdown",
   "id": "bcd6f9ca-9218-4f4d-bc68-5787c6498db5",
   "metadata": {},
   "source": [
    "### An NB about addition & subtraction"
   ]
  },
  {
   "cell_type": "markdown",
   "id": "2b27567e-717f-4ae5-b8fb-0644b715d1fc",
   "metadata": {},
   "source": [
    "To illustrate this, we are going to use a matrix of value `100`."
   ]
  },
  {
   "cell_type": "code",
   "execution_count": null,
   "id": "c199cc6c-5aa5-4425-80dd-0409fe5501b8",
   "metadata": {},
   "outputs": [],
   "source": [
    "#Building the matrix\n",
    "matrix_2 = np.ones(img.shape, np.uint8) * 100"
   ]
  },
  {
   "cell_type": "code",
   "execution_count": null,
   "id": "c24dbeac-dcbc-4b5d-89af-857ce4c2bcd2",
   "metadata": {},
   "outputs": [],
   "source": [
    "cv_add = cv2.add(img, matrix_2)\n",
    "\n",
    "#Since the images are np arrays, we can just add using numpy\n",
    "np_add = img + matrix_2"
   ]
  },
  {
   "cell_type": "code",
   "execution_count": null,
   "id": "a11b5c54-ffd9-4106-93b1-e67aa3647c9a",
   "metadata": {},
   "outputs": [],
   "source": [
    "#plotting\n",
    "plt.figure(figsize=[13, 5])\n",
    "plt.subplot(131); plt.imshow(cv_add[:, :, ::-1]); plt.title('OpenCV Addition')\n",
    "plt.subplot(133); plt.imshow(np_add[:, :, ::-1]); plt.title('NumPy Addition')\n",
    "plt.subplot(132); plt.imshow(img[:, :, ::-1]); plt.title('Original')"
   ]
  },
  {
   "cell_type": "markdown",
   "id": "ae81263f-f3ba-4590-8a64-84bb51f2989d",
   "metadata": {},
   "source": [
    "Since OpenCV `Mat` objects are numpy arrays, we can also use numpy addition to add the images. However, when we do that we see that the operations yield very different results for OpenCV and for NumPy. Compared to the original, the OpenCV added image appears brighter - as expected- whereas the Numpy added image contains artifacts. This is because the way Numpy and OpenCV add differs significantly, as shown below."
   ]
  },
  {
   "cell_type": "code",
   "execution_count": null,
   "id": "357f175b-e111-4968-b919-c74497fb1960",
   "metadata": {},
   "outputs": [],
   "source": [
    "#A little examination\n",
    "print('cv_add', len(cv_add[cv_add == 255]))\n",
    "print('np_add', len(np_add[np_add == 255]))"
   ]
  },
  {
   "cell_type": "markdown",
   "id": "fe6faaea-a7b5-4ead-9b90-e77b896b5205",
   "metadata": {},
   "source": [
    "The above results may not tell us much, only that cv_add has more `255` than np_add. How does that help us, you ask? It's significant since it shows us how NumPy and OpenCV differ in addition. OpenCV clips overflow values (values greater than 255) at 255, whereas NumPy performs addition modulo `%` 256 (that is, it takes the remainder of dividing a number by 256).\n",
    "<br>\n",
    "For example:\n",
    "<br>\n",
    "For NumPy, `100 + 236 = 336 % 256 = 80`\n",
    "<br>\n",
    "For OpenCV, `100 + 236 = 336 = 255`\n",
    "<br>\n",
    "<br>\n",
    "Hence the reason why we have more `255`'s in the OpenCV added image than in the NumPy one. The NumPy one has artifacts which develop from the modulo operation."
   ]
  },
  {
   "cell_type": "markdown",
   "id": "e9d74205-7cda-481f-808a-e62f8ec1b3db",
   "metadata": {},
   "source": [
    "We can prevent this behavior in NumPy by using `np.clip()`, and specify the values from `0` to `255`."
   ]
  },
  {
   "cell_type": "code",
   "execution_count": null,
   "id": "56961dbd-6d7d-4d27-af5c-5525c8a2bb7b",
   "metadata": {},
   "outputs": [],
   "source": [
    "np_add2 = np.uint8(np.clip(np.add(img, matrix_2, dtype=np.int32), 0, 255))"
   ]
  },
  {
   "cell_type": "markdown",
   "id": "2d4b467d-d8fb-4983-bb18-6eab6b5cc4c3",
   "metadata": {},
   "source": [
    "Instead of using the `+` operator, we have used `np.add`. Although they serve the same functionality, `np.add` allows more operations. For example, here we specify that we want the result to be of type `int32`. We then cast the clipped image `uint8`."
   ]
  },
  {
   "cell_type": "code",
   "execution_count": null,
   "id": "be2d9275-fedf-445d-a5fd-7bb73513b8cc",
   "metadata": {},
   "outputs": [],
   "source": [
    "#We can easily check even without plotting\n",
    "(np_add2 == cv_add).all()"
   ]
  },
  {
   "cell_type": "markdown",
   "id": "7254bc9b-303b-4856-8e81-d6e8b5cd4b92",
   "metadata": {},
   "source": [
    "### What of Subtraction?"
   ]
  },
  {
   "cell_type": "code",
   "execution_count": null,
   "id": "1db4b536-fb21-46b0-b2f5-ca38a0e3a64c",
   "metadata": {},
   "outputs": [],
   "source": [
    "cv_sub = cv2.subtract(img, matrix_2)\n",
    "np_sub = img - matrix_2"
   ]
  },
  {
   "cell_type": "code",
   "execution_count": null,
   "id": "4b570c1e-05f8-407c-bc40-d8fd3c123abf",
   "metadata": {},
   "outputs": [],
   "source": [
    "#plotting\n",
    "plt.figure(figsize=[13, 5])\n",
    "plt.subplot(131); plt.imshow(cv_sub[:, :, ::-1]); plt.title('OpenCV Subtraction')\n",
    "plt.subplot(133); plt.imshow(np_sub[:, :, ::-1]); plt.title('NumPy Subtraction')\n",
    "plt.subplot(132); plt.imshow(img[:, :, ::-1]); plt.title('Original')"
   ]
  },
  {
   "cell_type": "markdown",
   "id": "7cff04db-1520-488b-b06d-5eee8601d93b",
   "metadata": {},
   "source": [
    "We see that, as expected, the OpenCV image gets darker whereas the NumPy image has artifacts. Let us examine the image."
   ]
  },
  {
   "cell_type": "code",
   "execution_count": null,
   "id": "ae7f3be3-46bc-4b05-8259-0f49108c704b",
   "metadata": {},
   "outputs": [],
   "source": [
    "#Let us observe a single point [0, 0]\n",
    "print('Original', img[0, 0])\n",
    "print('np_sub  ', np_sub[0, 0])\n",
    "print('cv_sub  ', cv_sub[0, 0])"
   ]
  },
  {
   "cell_type": "markdown",
   "id": "4777eec9-cb25-432d-bd5d-691417c7bbbe",
   "metadata": {},
   "source": [
    "We observe for the first point they are similar.\n",
    "<br>\n",
    "<br>\n",
    "`B` channel\n",
    "<br>\n",
    "`120 - 100 = 20` for both of them.\n",
    "<br>\n",
    "<br>\n",
    "`G` channel\n",
    "<br>\n",
    "OpenCV Subtraction\n",
    "<br>\n",
    "`45 - 100 = -55 = 0`\n",
    "<br>\n",
    "Numpy Subtraction\n",
    "<br>\n",
    "`45 - 100 = -55 + 256 = 201 `\n",
    "<br>\n",
    "<br>\n",
    "`R` channel\n",
    "<br>\n",
    "OpenCV Subtraction\n",
    "<br>\n",
    "`19 - 100 = -81 = 0`\n",
    "<br>\n",
    "Numpy Subtraction\n",
    "<br>\n",
    "`19 - 100 = -81 + 256 = 175 `"
   ]
  },
  {
   "cell_type": "markdown",
   "id": "0c937433-ccb3-4813-91e1-a7cdda95d314",
   "metadata": {},
   "source": [
    "So, we see that for numpy, the values wrap around since we are using `uint8` (0 - 255). There's also another way to see this. Since the matrix is full of `100`, the largest negative value we expect is `-100` which wraps to `156`. Hence, where `np_sub` and `cv-sub` deviate, we expect to see the values range from `156 - 255`. At the same time, at those indices, `cv_sub` should have a value of `0` since OpenCV clips values not in the range (0, 255). Let's test this out."
   ]
  },
  {
   "cell_type": "code",
   "execution_count": null,
   "id": "80cb6b74-8541-4f64-90c7-a88cefe714f5",
   "metadata": {},
   "outputs": [],
   "source": [
    "#We first find the places where they deviate...\n",
    "deviate_arr = np.array((np_sub != cv_sub).flat)\n",
    "#True values indicate that the arrays deviate\n",
    "deviate_arr"
   ]
  },
  {
   "cell_type": "code",
   "execution_count": null,
   "id": "04e3668f-0a4a-4166-8349-4be12e0695d4",
   "metadata": {},
   "outputs": [],
   "source": [
    "#We expect that, in np_sub, the values of the indices that deviate range from [156 - 255]\n",
    "print(np_sub.flat[deviate_arr].min(), '-', np_sub.flat[deviate_arr].max())"
   ]
  },
  {
   "cell_type": "code",
   "execution_count": null,
   "id": "a8ed0140-c21c-4739-897b-ade9746ad55d",
   "metadata": {},
   "outputs": [],
   "source": [
    "#We also expect that, in cv_sub, the values of the indices that deviate are 0\n",
    "uniqv, = np.unique(cv_sub.flat[deviate_arr])\n",
    "#We create an array of unique(non-repeating) values in the deviating indices of cv_sub,\n",
    "#we expect only one unique value, 0\n",
    "uniqv"
   ]
  },
  {
   "cell_type": "markdown",
   "id": "ed3a48f8-75e5-49cf-a622-0f94436d5efe",
   "metadata": {},
   "source": [
    "As we expected, so have we seen! "
   ]
  },
  {
   "cell_type": "markdown",
   "id": "3f3c8cc5-f512-4404-bc33-007070ddfb82",
   "metadata": {},
   "source": [
    "## Multiplication"
   ]
  },
  {
   "cell_type": "markdown",
   "id": "d51807bd-4041-4701-93d3-a60699a97ebc",
   "metadata": {},
   "source": [
    "We can also multiply images in OpenCV using `cv2.multiply()`."
   ]
  },
  {
   "cell_type": "code",
   "execution_count": null,
   "id": "365cdecc-4ab5-4e79-96b4-15adef3945a4",
   "metadata": {},
   "outputs": [],
   "source": [
    "bright = cv2.imread('images/outdoor_colorful.jpg', cv2.IMREAD_COLOR)\n",
    "\n",
    "plt.figure(figsize=[5, 5])\n",
    "plt.imshow(bright[:, :, ::-1])"
   ]
  },
  {
   "cell_type": "code",
   "execution_count": null,
   "id": "798bff65-519e-40d6-abe4-0951b87e1985",
   "metadata": {},
   "outputs": [],
   "source": [
    "mult_ax = np.ones(bright.shape, np.float64) * 0.8\n",
    "mult_ax2 = np.ones(bright.shape, np.float64) * 1.2"
   ]
  },
  {
   "cell_type": "code",
   "execution_count": null,
   "id": "8de300e3-f8c2-4ed2-87a6-d2003a8ac0aa",
   "metadata": {},
   "outputs": [],
   "source": [
    "#We pass bright as float64 to cv2.multiply\n",
    "#We cast the result to uint8\n",
    "low_bright = np.uint8(cv2.multiply(np.float64(bright), mult_ax))\n",
    "high_bright = np.uint8(cv2.multiply(np.float64(bright), mult_ax2))"
   ]
  },
  {
   "cell_type": "code",
   "execution_count": null,
   "id": "e44483e0-e269-4704-a324-b686304672c6",
   "metadata": {},
   "outputs": [],
   "source": [
    "plt.figure(figsize=[13, 5])\n",
    "plt.subplot(131); plt.imshow(low_bright[:, :, ::-1]); plt.title('Low contrast')\n",
    "plt.subplot(133); plt.imshow(high_bright[:, :, ::-1]); plt.title('High contrast')\n",
    "plt.subplot(132); plt.imshow(bright[:, :, ::-1]); plt.title('Original')"
   ]
  },
  {
   "cell_type": "markdown",
   "id": "4285db75-a568-4f66-bcd6-7dc49d984eab",
   "metadata": {},
   "source": [
    "One thing to note is that we cast the result to `np.uint8` and the reason for this is that Matplotlib's `imshow` function expects the range `0, 1` for floats, hence it truncates the values."
   ]
  },
  {
   "cell_type": "markdown",
   "id": "bee9318b-391d-42b8-919b-a70ee781e265",
   "metadata": {},
   "source": [
    "As we can see, multiplication is concerned with changing the contrast of the image. In the high contrast image, we see artifacts. Let us examine those."
   ]
  },
  {
   "cell_type": "code",
   "execution_count": null,
   "id": "b602f070-8282-47ea-adbe-0bf0ef66e4af",
   "metadata": {},
   "outputs": [],
   "source": [
    "#Let us multiply using numpy to see if we get the same image.\n",
    "np_high_bright = np.uint8(bright * mult_ax2)\n",
    "#Let's compare\n",
    "(np_high_bright == high_bright).all()"
   ]
  },
  {
   "cell_type": "markdown",
   "id": "f2d01d4a-2dad-4fc7-93a0-8026fb1becce",
   "metadata": {},
   "source": [
    "The images are similar, showing us that for multiplication, unlike addition and subtraction, OpenCV behaves just like NumPy and does not clip the values but performs modulo operation on them. We can prevent this, just like we did for addition, using NumPy's `np.clip()`."
   ]
  },
  {
   "cell_type": "code",
   "execution_count": null,
   "id": "128afaf9-c345-4c59-801e-9221782ffd4f",
   "metadata": {},
   "outputs": [],
   "source": [
    "cv_high_bright2 = np.uint8(np.clip(cv2.multiply(np.float64(bright), mult_ax2), 0, 255))"
   ]
  },
  {
   "cell_type": "code",
   "execution_count": null,
   "id": "81f6db16-25f7-446a-b493-3aa5ac0c0897",
   "metadata": {},
   "outputs": [],
   "source": [
    "#Plotting\n",
    "plt.figure(figsize=[13, 5])\n",
    "plt.subplot(131); plt.imshow(low_bright[:, :, ::-1]); plt.title('Low contrast')\n",
    "plt.subplot(133); plt.imshow(cv_high_bright2[:, :, ::-1]); plt.title('High contrast')\n",
    "plt.subplot(132); plt.imshow(bright[:, :, ::-1]); plt.title('Original')"
   ]
  },
  {
   "cell_type": "markdown",
   "id": "e4b0757f-5277-4f3b-ba04-8b99a2a846b6",
   "metadata": {},
   "source": [
    "We now have a high contrast image - although we have also lost some detail. We can also achieve this with NumPy."
   ]
  },
  {
   "cell_type": "code",
   "execution_count": null,
   "id": "8f8c7c9d-cf5b-4a75-b575-771a0f03ae44",
   "metadata": {},
   "outputs": [],
   "source": [
    "np_high_bright2 = np.uint8(np.clip(np.multiply(bright, mult_ax2), 0, 255))\n",
    "#Compare\n",
    "(np_high_bright2 == cv_high_bright2).all()"
   ]
  },
  {
   "cell_type": "markdown",
   "id": "1c97d472-5b3b-4722-b8bd-bf4859b90624",
   "metadata": {},
   "source": [
    "To recap, OpenCV supports arithmetic operations such as addition, subtraction and multiplication. For addition and subtraction, these operations differ significantly with NumPy, since OpenCV clips the values to the range `[0, 255]`, whereas NumPy wraps around the value (assuming `np.uint8`).\n",
    "<br>\n",
    "For multiplication, NumPy and OpenCV behave similarly by wrapping around excess values. We can change this behavior and perform clipping by using `numpy.clip()` method."
   ]
  }
 ],
 "metadata": {
  "kernelspec": {
   "display_name": "opencv-env",
   "language": "python",
   "name": "opencv-env"
  },
  "language_info": {
   "codemirror_mode": {
    "name": "ipython",
    "version": 3
   },
   "file_extension": ".py",
   "mimetype": "text/x-python",
   "name": "python",
   "nbconvert_exporter": "python",
   "pygments_lexer": "ipython3",
   "version": "3.12.2"
  }
 },
 "nbformat": 4,
 "nbformat_minor": 5
}
