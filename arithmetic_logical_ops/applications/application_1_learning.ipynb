{
 "cells": [
  {
   "cell_type": "markdown",
   "id": "c8dad220-cdb3-4742-81b0-f1aad5acd984",
   "metadata": {},
   "source": [
    "# Testing a light watermark on an image"
   ]
  },
  {
   "cell_type": "markdown",
   "id": "dbae4e89-e14c-4720-a2b4-35689ecbe52f",
   "metadata": {},
   "source": [
    "Given an ROI and the same ROI with a light watermark (one added using `cv2.addWeighted`), what differentiates the two images?"
   ]
  },
  {
   "cell_type": "code",
   "execution_count": null,
   "id": "6aa25215-2f22-479c-a3cb-1a456769970c",
   "metadata": {},
   "outputs": [],
   "source": [
    "#Testing what a light watermark does to an image\n",
    "#loading up the image\n",
    "import cv2\n",
    "import numpy as np\n",
    "import matplotlib.pyplot as plt\n",
    "import matplotlib\n",
    "plt.rcParams['image.cmap'] = 'gray'\n",
    "plt.rcParams['figure.figsize'] = [10, 5]"
   ]
  },
  {
   "cell_type": "code",
   "execution_count": null,
   "id": "6288f3d2-702c-41dc-a3b1-a4022ac92dfd",
   "metadata": {},
   "outputs": [],
   "source": [
    "roi = cv2.imread('images/adventure_roi_nowatermark.jpg', cv2.IMREAD_COLOR)\n",
    "w_roi = cv2.imread('images/roi_light_python_watermark.jpg', cv2.IMREAD_COLOR)\n",
    "\n",
    "print(roi.shape)\n",
    "print(w_roi.shape)"
   ]
  },
  {
   "cell_type": "code",
   "execution_count": null,
   "id": "a88170aa-cbc1-4a8d-a447-3083dbbe3e1c",
   "metadata": {},
   "outputs": [],
   "source": [
    "plt.figure()\n",
    "plt.subplot(121); plt.imshow(roi[:, :, ::-1]); plt.title(\"ROI\")\n",
    "plt.subplot(122); plt.imshow(w_roi[:, :, ::-1]); plt.title(\"Watermarked ROI\")"
   ]
  },
  {
   "cell_type": "markdown",
   "id": "ff425a3a-226a-46dd-ac15-e2aedd33fcf1",
   "metadata": {},
   "source": [
    "What is curious with this question is the fact that the watermark is transparent. It looks as if it is floating? Is it only a lighter color or what is it?"
   ]
  },
  {
   "cell_type": "code",
   "execution_count": null,
   "id": "af57fc67-fb38-444c-9855-be10c19d90c0",
   "metadata": {},
   "outputs": [],
   "source": [
    "plt.figure()\n",
    "plt.subplot(121); plt.imshow(roi[:, :, 1]); plt.title('ROI Green')\n",
    "plt.subplot(122); plt.imshow(w_roi[:, :, 1]); plt.title('WaterMarked ROI Green')"
   ]
  },
  {
   "cell_type": "markdown",
   "id": "f24ace47-72c7-4250-a3a6-e9b05e5833fc",
   "metadata": {},
   "source": [
    "We will examine the green channel of both images now. In it, most of the logo watermark is bright in most portions. We will first begin with comparing in numpy the values that are not equal."
   ]
  },
  {
   "cell_type": "code",
   "execution_count": null,
   "id": "bbd2f8ba-9353-45bb-8785-9cf4d5920a5a",
   "metadata": {},
   "outputs": [],
   "source": [
    "#isolate the greens\n",
    "w_green = w_roi[:, :, 1]\n",
    "roi_green = roi[:, :, 1]\n",
    "\n",
    "#build a boolean array of unequal coordinates\n",
    "unequal_total = (w_green != roi_green)\n",
    "\n",
    "#Use the boolean array to isolate those values in\n",
    "#w_green and roi_green\n",
    "w_unequal = w_green[unequal_total]\n",
    "roi_unequal = roi_green[unequal_total]\n",
    "\n",
    "#Should print True... test condition\n",
    "print('All unequal?', (w_unequal != roi_unequal).all())\n",
    "\n",
    "#Print percentage of unequal values\n",
    "print('Percentage unequal:', 100 * np.prod(w_unequal.shape)/np.prod(w_green.shape), '%')"
   ]
  },
  {
   "cell_type": "markdown",
   "id": "a7d8839f-4d74-47b8-bd9a-57ced0b63a88",
   "metadata": {},
   "source": [
    "We see that 63% of the values are unequal. For the true test, we want to see where this inequality lies. Is one greater, and another less? For this we can plot the values and see."
   ]
  },
  {
   "cell_type": "code",
   "execution_count": null,
   "id": "2fe9ce58-caad-4353-8020-244bed27a7be",
   "metadata": {},
   "outputs": [],
   "source": [
    "plt.figure(figsize=[20, 7])\n",
    "plt.subplot(211); plt.plot(roi_unequal, color='green'); plt.title('ROI Green Values')\n",
    "plt.subplot(212); plt.plot(w_unequal, color='blue'); plt.title('Watermarked ROI Green Values')"
   ]
  },
  {
   "cell_type": "markdown",
   "id": "7495cc37-8238-4e79-8139-91e15d8af039",
   "metadata": {},
   "source": [
    "What we see from the above graphs is that for the Watermarked ROI, the values are higher. Let us see the 3D plots."
   ]
  },
  {
   "cell_type": "code",
   "execution_count": null,
   "id": "51323dcc-f03d-47f2-a292-87d7dbe3ca7a",
   "metadata": {},
   "outputs": [],
   "source": [
    "#Build mosaic\n",
    "mosaic = [['Green ROI Top',            'Green ROI Side'],\n",
    "         ['Watermarked ROI Top', 'Watermarked ROI Side']]\n",
    "\n",
    "#Build X, Y coordinates\n",
    "X = np.arange(538)\n",
    "Y = np.arange(652)\n",
    "X, Y = np.meshgrid(X, Y)\n",
    "fig, axs = plt.subplot_mosaic(mosaic, subplot_kw={\"projection\": \"3d\"})\n",
    "\n",
    "\n",
    "#Green ROI top\n",
    "axs['Green ROI Top'].plot_surface(X, Y, roi_green, vmin=0, cmap=matplotlib.cm.Greens)\n",
    "axs['Green ROI Top'].elev = 90\n",
    "axs['Green ROI Top'].azim = 90\n",
    "\n",
    "#Green ROI Side\n",
    "axs['Green ROI Side'].plot_surface(X, Y, roi_green, vmin=0, cmap=matplotlib.cm.Greens)\n",
    "axs['Green ROI Side'].elev = 0\n",
    "axs['Green ROI Side'].azim = 180\n",
    "\n",
    "#Watermarked ROI Top\n",
    "axs['Watermarked ROI Top'].plot_surface(X, Y, w_green, vmin=0, cmap=matplotlib.cm.Greens)\n",
    "axs['Watermarked ROI Top'].elev = 90\n",
    "axs['Watermarked ROI Top'].azim = 90\n",
    "\n",
    "#Watermarked ROI Side\n",
    "axs['Watermarked ROI Side'].plot_surface(X, Y, w_green, vmin=0, cmap=matplotlib.cm.Greens)\n",
    "axs['Watermarked ROI Side'].elev = 0\n",
    "axs['Watermarked ROI Side'].azim = 180"
   ]
  },
  {
   "cell_type": "markdown",
   "id": "715ffab2-3000-4c0e-9f0d-c3917e15b00c",
   "metadata": {},
   "source": [
    "Here, we see that the only difference between these two is the pixel values only."
   ]
  }
 ],
 "metadata": {
  "kernelspec": {
   "display_name": "opencv-env",
   "language": "python",
   "name": "opencv-env"
  },
  "language_info": {
   "codemirror_mode": {
    "name": "ipython",
    "version": 3
   },
   "file_extension": ".py",
   "mimetype": "text/x-python",
   "name": "python",
   "nbconvert_exporter": "python",
   "pygments_lexer": "ipython3",
   "version": "3.12.2"
  }
 },
 "nbformat": 4,
 "nbformat_minor": 5
}
