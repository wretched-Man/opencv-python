{
 "cells": [
  {
   "cell_type": "markdown",
   "id": "bdccfdc2-fa95-49b3-b2c7-e6ae59de0efb",
   "metadata": {},
   "source": [
    "# Application 2 - Digital signature"
   ]
  },
  {
   "cell_type": "markdown",
   "id": "a6506ad8-c2f4-4995-bb85-a96ca97b6f19",
   "metadata": {},
   "source": [
    "For the second application of bitwise operations, we are going to create a digital signature from a user's signature image."
   ]
  },
  {
   "cell_type": "code",
   "execution_count": null,
   "id": "3ac39b81-5be6-4161-9b7d-67f8ff2dd841",
   "metadata": {},
   "outputs": [],
   "source": [
    "import cv2\n",
    "import numpy as np\n",
    "import matplotlib.pyplot as plt\n",
    "\n",
    "plt.rcParams['figure.figsize'] = [10, 5]\n",
    "plt.rcParams['image.cmap'] = 'gray'"
   ]
  },
  {
   "cell_type": "code",
   "execution_count": null,
   "id": "3e535fc1-8c60-46ad-9b19-3155b0180fe8",
   "metadata": {},
   "outputs": [],
   "source": [
    "#lets load up the images\n",
    "rawsig = cv2.imread('images/application_2_raw_signature.jpg', cv2.IMREAD_COLOR)\n",
    "\n",
    "plt.figure()\n",
    "plt.imshow(rawsig[:, :, ::-1])"
   ]
  },
  {
   "cell_type": "code",
   "execution_count": null,
   "id": "a5d96425-3a81-45c2-8663-482cc66db1ff",
   "metadata": {},
   "outputs": [],
   "source": [
    "#We crop the signature\n",
    "croppedsig = rawsig.copy()[500:1400, 1250:2700]\n",
    "\n",
    "plt.figure()\n",
    "plt.imshow(croppedsig[:, :, ::-1])\n",
    "croppedsig.shape"
   ]
  },
  {
   "cell_type": "markdown",
   "id": "b0cf77b1-417a-42ef-8006-27e13dd33c75",
   "metadata": {},
   "source": [
    "The signature is of dimension `1450 x 900`. We may want to keep it this way for quality purposes."
   ]
  },
  {
   "cell_type": "code",
   "execution_count": null,
   "id": "dbe55db4-bea5-4f7e-a391-98e6795c071f",
   "metadata": {},
   "outputs": [],
   "source": [
    "#Next, we create a mask for the image\n",
    "_, croppedmask = cv2.threshold(cv2.cvtColor(croppedsig, cv2.COLOR_RGB2GRAY), 110, 255, cv2.THRESH_BINARY)\n",
    "\n",
    "plt.figure()\n",
    "plt.imshow(croppedmask)"
   ]
  },
  {
   "cell_type": "code",
   "execution_count": null,
   "id": "42de8265-7097-4e7e-b509-78bff0329db7",
   "metadata": {},
   "outputs": [],
   "source": [
    "#using erosion and dilaiton to remove some artifacts\n",
    "\n",
    "kernel = np.ones((4, 4), np.uint8)\n",
    "croppeddilate = cv2.dilate(croppedmask, kernel, iterations=1)\n",
    "\n",
    "croppederode = cv2.erode(croppeddilate, kernel, iterations=1)\n",
    "\n",
    "plt.figure()\n",
    "plt.imshow(croppederode)"
   ]
  },
  {
   "cell_type": "code",
   "execution_count": null,
   "id": "9cd4027d-f4ad-4696-8fb5-65c1c92bcf7b",
   "metadata": {},
   "outputs": [],
   "source": [
    "#create a blue mask\n",
    "bluemask = np.ones(croppedsig.shape, dtype=np.uint8) * np.uint8((255, 0, 0))\n",
    "\n",
    "plt.figure()\n",
    "plt.imshow(bluemask[:, :, ::-1])"
   ]
  },
  {
   "cell_type": "code",
   "execution_count": null,
   "id": "04ced8c2-a84a-40f3-9202-366907d6a8bc",
   "metadata": {},
   "outputs": [],
   "source": [
    "#Since bluemask is 3-channel, we now make croppederode so\n",
    "bwsig = cv2.merge([croppederode, croppederode, croppederode])\n",
    "\n",
    "#We then add. Since a darker blue gives it a more realistic feel,\n",
    "#we use addWeighted.\n",
    "cleansig = cv2.addWeighted(bwsig, 1, bluemask, 0.6, 0)\n",
    "\n",
    "plt.figure()\n",
    "plt.imshow(cleansig[:, :, ::-1])"
   ]
  },
  {
   "cell_type": "markdown",
   "id": "aa34d503-fe3a-44bc-b6e6-47ebbec68f96",
   "metadata": {},
   "source": [
    "We now have our signature. Let's save it."
   ]
  },
  {
   "cell_type": "code",
   "execution_count": null,
   "id": "cb73b13e-c912-47aa-a6d3-b2d6f9e6289f",
   "metadata": {},
   "outputs": [],
   "source": [
    "cv2.imwrite('application_2_final_signature.jpg', cleansig)"
   ]
  },
  {
   "cell_type": "markdown",
   "id": "ffe05230-e5e8-462c-af36-8d49f987396b",
   "metadata": {},
   "source": [
    "## Making our signature transparent."
   ]
  },
  {
   "cell_type": "markdown",
   "id": "eb68e8fb-1393-4577-93a2-c5097f43173b",
   "metadata": {},
   "source": [
    "We can do more to our signature, we can make it transparent. This, we can do simply."
   ]
  },
  {
   "cell_type": "code",
   "execution_count": null,
   "id": "665c3763-fd6e-4634-9d5d-b02e1c9a11d1",
   "metadata": {},
   "outputs": [],
   "source": [
    "cleansig_alpha = cv2.merge([cleansig, cv2.bitwise_not(croppederode)])\n",
    "\n",
    "cv2.imwrite('application_2_final_alpha_signature.png', cleansig_alpha)"
   ]
  },
  {
   "cell_type": "markdown",
   "id": "c7c20a1e-06da-4868-a506-454166576998",
   "metadata": {},
   "source": [
    "We read the image again to see it."
   ]
  },
  {
   "cell_type": "code",
   "execution_count": null,
   "id": "2889fa38-8887-423f-824a-8f865b2811f0",
   "metadata": {},
   "outputs": [],
   "source": [
    "from IPython.display import Image\n",
    "\n",
    "Image(filename='application_2_final_alpha_signature.png', width=300)"
   ]
  },
  {
   "cell_type": "markdown",
   "id": "0848632b-c702-4f82-a0f5-19efabfde06b",
   "metadata": {},
   "source": [
    "There we have it, our transparent signature."
   ]
  }
 ],
 "metadata": {
  "kernelspec": {
   "display_name": "opencv-env",
   "language": "python",
   "name": "opencv-env"
  },
  "language_info": {
   "codemirror_mode": {
    "name": "ipython",
    "version": 3
   },
   "file_extension": ".py",
   "mimetype": "text/x-python",
   "name": "python",
   "nbconvert_exporter": "python",
   "pygments_lexer": "ipython3",
   "version": "3.12.2"
  }
 },
 "nbformat": 4,
 "nbformat_minor": 5
}
