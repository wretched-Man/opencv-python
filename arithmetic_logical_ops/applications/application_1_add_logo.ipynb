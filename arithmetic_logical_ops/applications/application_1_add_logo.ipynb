{
 "cells": [
  {
   "cell_type": "markdown",
   "id": "7e97392b-ebd3-4144-934c-ea6eada04213",
   "metadata": {},
   "source": [
    "# Applications of bitwise Operations"
   ]
  },
  {
   "cell_type": "markdown",
   "id": "030410de-6562-4b9f-be57-8beae4c64d63",
   "metadata": {},
   "source": [
    "## Watermarking"
   ]
  },
  {
   "cell_type": "markdown",
   "id": "cd6b1225-0749-410f-a31e-c449eb00fccd",
   "metadata": {},
   "source": [
    "We are going to add a watermark logo to an image. Let's load up the images."
   ]
  },
  {
   "cell_type": "code",
   "execution_count": null,
   "id": "8797251a-e1a3-42ad-b943-8cfc2a0236cb",
   "metadata": {},
   "outputs": [],
   "source": [
    "import cv2\n",
    "import numpy as np\n",
    "import matplotlib.pyplot as plt\n",
    "plt.rcParams['image.cmap'] = 'gray'\n",
    "plt.rcParams['figure.figsize'] = [10, 5]"
   ]
  },
  {
   "cell_type": "code",
   "execution_count": null,
   "id": "c084b7f3-1bad-4041-8f96-0076f1dc4287",
   "metadata": {},
   "outputs": [],
   "source": [
    "watermark = cv2.imread('images/python-logo-only.png', cv2.IMREAD_UNCHANGED)\n",
    "img = cv2.imread('images/adventure_nowatermark.jpg', cv2.IMREAD_COLOR)\n",
    "\n",
    "watermark_show = cv2.cvtColor(watermark, cv2.COLOR_BGRA2RGBA)\n",
    "\n",
    "plt.figure()\n",
    "plt.subplot(121); plt.imshow(img[:, :, ::-1]); plt.title('Image to Watermark')\n",
    "plt.subplot(122); plt.imshow(watermark_show);  plt.title('Watermark')"
   ]
  },
  {
   "cell_type": "markdown",
   "id": "d45d8992-6f45-48e5-ac1c-9069d9afb62d",
   "metadata": {},
   "source": [
    "The image is okay. We may need to resize it, however."
   ]
  },
  {
   "cell_type": "code",
   "execution_count": null,
   "id": "86f498fd-00eb-42b1-b54f-453053dfd3a5",
   "metadata": {},
   "outputs": [],
   "source": [
    "r_watermark = cv2.resize(watermark, None, fx=2, fy=2, interpolation=cv2.INTER_LINEAR)\n",
    "r_watermark_show = cv2.cvtColor(r_watermark, cv2.COLOR_BGRA2RGBA)\n",
    "plt.figure()\n",
    "plt.imshow(r_watermark_show)"
   ]
  },
  {
   "cell_type": "code",
   "execution_count": null,
   "id": "0a518adf-ae15-40ff-aa52-04d656ddc1d6",
   "metadata": {},
   "outputs": [],
   "source": [
    "r_watermark.shape"
   ]
  },
  {
   "cell_type": "markdown",
   "id": "40f87dd2-f0ad-4da7-9802-c15d17d87fb5",
   "metadata": {},
   "source": [
    "Now we can begin."
   ]
  },
  {
   "cell_type": "code",
   "execution_count": null,
   "id": "73dcfd25-f4cc-4932-b392-19a1fcfc7840",
   "metadata": {},
   "outputs": [],
   "source": [
    "#First, we take a ROI, centre\n",
    "logo_r = r_watermark.shape[0]\n",
    "logo_c = r_watermark.shape[1]\n",
    "row0 = int((img.shape[0] - logo_r)/2)\n",
    "col0 = int((img.shape[1] - logo_c)/2)\n",
    "roi = img[row0:row0 + logo_r, col0:col0 + logo_c]\n",
    "\n",
    "plt.figure()\n",
    "plt.imshow(roi[:, :, ::-1])"
   ]
  },
  {
   "cell_type": "code",
   "execution_count": null,
   "id": "e00fe99d-0d51-4f12-8b4b-f517857ed1d7",
   "metadata": {},
   "outputs": [],
   "source": [
    "#Next, we want to make the ROI the background of our image\n",
    "#We can use the alpha channel in case of a 4-channel image \n",
    "\n",
    "#We first split the bgr and alpha portions of the logo\n",
    "logo_bgr = r_watermark[:, :, :3] #BGR\n",
    "logo_alpha = r_watermark[:, :, 3] #alpha\n",
    "\n",
    "#We then replicate the alpha channel to fit 3 channels, this\n",
    "#so as to use in the bitwise_and operation\n",
    "alpha_3channel = cv2.merge([logo_alpha, logo_alpha, logo_alpha])\n",
    "\n",
    "#We mask the ROI image with inverse(logo_alpha)\n",
    "masked_roi = cv2.bitwise_and(roi, roi, mask=cv2.bitwise_not(logo_alpha))\n",
    "\n",
    "#We then combine the BGR image with the alpha image to\n",
    "#isolate the logo portion. The outer region is value 0\n",
    "combined_alpha_bgr = cv2.bitwise_and(logo_bgr, alpha_3channel)\n",
    "\n",
    "#We then add/ or the masked ROI image with the\n",
    "#combined_alpha_bgr to have our watermark\n",
    "roi_watermark = cv2.add(masked_roi, combined_alpha_bgr)\n",
    "\n",
    "plt.figure(figsize=[20, 20])\n",
    "plt.subplot(331); plt.imshow(logo_bgr[:, :, ::-1]); plt.title(\"Logo BGR\")\n",
    "plt.subplot(332); plt.imshow(logo_alpha); plt.title(\"Logo Alpha\")\n",
    "plt.subplot(333); plt.imshow(alpha_3channel[:, :, ::-1]); plt.title(\"3-Channel Alpha\")\n",
    "plt.subplot(334); plt.imshow(masked_roi[:, :, ::-1]); plt.title(\"Masked ROI\")\n",
    "plt.subplot(335); plt.imshow(combined_alpha_bgr[:, :, ::-1]); plt.title(\"Combined Alpha BGR\")\n",
    "plt.subplot(336); plt.imshow(roi_watermark[:, :, ::-1]); plt.title(\"ROI Watermark\")"
   ]
  },
  {
   "cell_type": "markdown",
   "id": "c85315ae-6cef-422a-ba69-081d18cb118b",
   "metadata": {},
   "source": [
    "Whereas the logo is black on white, it stands out of the background as white, hence we made it so. Otherwise, `roi_temp"
   ]
  },
  {
   "cell_type": "code",
   "execution_count": null,
   "id": "99d295e9-0575-4846-b147-718aecb59aec",
   "metadata": {},
   "outputs": [],
   "source": [
    "#Now we return the roi to the original image\n",
    "img_1 = img.copy()\n",
    "img_1[row0:row0 + logo_r, col0:col0 + logo_c] = roi_watermark\n",
    "plt.figure()\n",
    "plt.imshow(img_1[:, :, ::-1])"
   ]
  },
  {
   "cell_type": "markdown",
   "id": "b9e9c740-87c1-4059-87c6-b9f327b97908",
   "metadata": {},
   "source": [
    "There we have it, our watermark right in the middle. Although it is too visible. We want to make it less bright. This, we can simply do by changing the `cv2.add` function and using `cv2.addWeighted`."
   ]
  },
  {
   "cell_type": "markdown",
   "id": "3c85a942-b86e-4694-be27-15bef0ed8a1a",
   "metadata": {},
   "source": [
    "For any point `P(x, y)`, the value of the destination pixel is calculated as:\n",
    "``` python\n",
    "dst = src1*alpha + src2*beta + gamma\n",
    "```"
   ]
  },
  {
   "cell_type": "code",
   "execution_count": null,
   "id": "50c21cf2-07fc-475f-95dc-31786d25167b",
   "metadata": {},
   "outputs": [],
   "source": [
    "#[row0:row0 + 730, col0:col0 + 730]\n",
    "roi_2 = roi.copy()\n",
    "roi_light_watermark = cv2.addWeighted(roi_2, 1, combined_alpha_bgr, 0.5, 0)\n",
    "plt.figure()\n",
    "plt.imshow(roi_light_watermark[:, :, ::-1])"
   ]
  },
  {
   "cell_type": "code",
   "execution_count": null,
   "id": "d75ae0bc-9d09-49b0-ac4c-ba2877d97603",
   "metadata": {},
   "outputs": [],
   "source": [
    "img_2 = img.copy()\n",
    "img_2[row0:row0 + logo_r, col0:col0 + logo_c] = roi_light_watermark\n",
    "plt.figure()\n",
    "plt.imshow(img_2[:, :, ::-1])"
   ]
  },
  {
   "cell_type": "code",
   "execution_count": null,
   "id": "7c1a93ce-b03e-4ed4-9abd-0b9adc2b7305",
   "metadata": {},
   "outputs": [],
   "source": [
    "cv2.imwrite('adventure_light_python_watermark.jpg', img_2)\n",
    "cv2.imwrite('adventure_solid_python_watermark.jpg', img_1)\n",
    "cv2.imwrite('adventure_roi_nowatermark.jpg', roi)\n",
    "cv2.imwrite('roi_light_python_watermark.jpg', roi_light_watermark)"
   ]
  },
  {
   "cell_type": "code",
   "execution_count": null,
   "id": "3e61863b-2827-4f23-963f-bc9133a0c9be",
   "metadata": {},
   "outputs": [],
   "source": []
  }
 ],
 "metadata": {
  "kernelspec": {
   "display_name": "opencv-env",
   "language": "python",
   "name": "opencv-env"
  },
  "language_info": {
   "codemirror_mode": {
    "name": "ipython",
    "version": 3
   },
   "file_extension": ".py",
   "mimetype": "text/x-python",
   "name": "python",
   "nbconvert_exporter": "python",
   "pygments_lexer": "ipython3",
   "version": "3.12.2"
  }
 },
 "nbformat": 4,
 "nbformat_minor": 5
}
