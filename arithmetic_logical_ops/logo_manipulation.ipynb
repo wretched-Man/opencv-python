{
 "cells": [
  {
   "cell_type": "markdown",
   "id": "f348c4f6-7a3e-4646-8ed6-5b31be742a11",
   "metadata": {},
   "source": [
    "# Logo Manipulation"
   ]
  },
  {
   "cell_type": "markdown",
   "id": "d10b30b5-98b5-4dfe-ac56-7d4a8c3f1074",
   "metadata": {},
   "source": [
    "We are going to learn how to manipulate logos, that is, change the background/ foreground. For that, we need to understand **logical operations**."
   ]
  },
  {
   "cell_type": "markdown",
   "id": "2dfd9de6-d17b-4ddf-b7ab-d97d552fc89c",
   "metadata": {},
   "source": [
    "## Logical Operations"
   ]
  },
  {
   "cell_type": "markdown",
   "id": "b42f8970-9cac-4fd2-bc53-cc8c21dde020",
   "metadata": {},
   "source": [
    "OpenCV also supports bitwise logical operations that are supported in Python. They are known as bitwise since they operate on the bits of a number. OpenCV provides `bitwise_and`, `bitwise_or`, `bitwise_not` and `bitwise_xor`. These operations are useful in the logo manipulation we are going to do. In case you are unfamiliar with logical operations in Python, here is a good [article](https://www.geeksforgeeks.org/python-bitwise-operators/) to the same."
   ]
  },
  {
   "cell_type": "markdown",
   "id": "8f85d335-91cd-4a37-8f96-88f44d0801f1",
   "metadata": {},
   "source": [
    "Here is what we aim to achieve.\n",
    "![logo image](https://opencv.org/wp-content/uploads/2021/08/c0-m2-logo-manipulation-cr.png)"
   ]
  },
  {
   "cell_type": "code",
   "execution_count": null,
   "id": "28fa00a2-dadc-4ac6-80be-eed5c65fd8ba",
   "metadata": {},
   "outputs": [],
   "source": [
    "#loading\n",
    "import cv2\n",
    "import matplotlib.pyplot as plt\n",
    "import numpy as np\n",
    "import matplotlib"
   ]
  },
  {
   "cell_type": "code",
   "execution_count": null,
   "id": "f2f5747d-e8a6-4356-8629-7c560c5f90a7",
   "metadata": {},
   "outputs": [],
   "source": [
    "#load the images\n",
    "img_main = cv2.imread(\"images/CR_Logo.png\", cv2.IMREAD_COLOR)\n",
    "plt.figure(figsize=[3, 3])\n",
    "plt.imshow(img_main[:, :, ::-1])\n",
    "#Save shape to resize checkerboard, which is smaller\n",
    "logo_w = img_main.shape[1]\n",
    "logo_h = img_main.shape[0]"
   ]
  },
  {
   "cell_type": "code",
   "execution_count": null,
   "id": "d734550d-6b5b-487f-9844-4ced27ea8bb7",
   "metadata": {},
   "outputs": [],
   "source": [
    "#load checkerboard\n",
    "img_check = cv2.imread(\"images/checkerboard_color.png\", cv2.IMREAD_COLOR)\n",
    "plt.figure(figsize=[3, 3])\n",
    "plt.imshow(img_check[:, :, ::-1])"
   ]
  },
  {
   "cell_type": "code",
   "execution_count": null,
   "id": "8c6842ad-e71a-4333-a2b9-bf460e3bbec7",
   "metadata": {},
   "outputs": [],
   "source": [
    "#Resizing the image\n",
    "img_check = cv2.resize(img_check.copy(), dsize=(logo_w, logo_h), interpolation=cv2.INTER_AREA)\n",
    "plt.figure(figsize=[3, 3])\n",
    "plt.imshow(img_check[:, :, ::-1])\n",
    "print(img_check.shape)"
   ]
  },
  {
   "cell_type": "code",
   "execution_count": null,
   "id": "d283c7d6-e569-41e4-ad0e-ce9d219c6f4d",
   "metadata": {},
   "outputs": [],
   "source": [
    "#similar size\n",
    "img_check.shape == img_main.shape"
   ]
  },
  {
   "cell_type": "markdown",
   "id": "20e28fa9-19d3-4887-b5a4-83fa337d9ace",
   "metadata": {},
   "source": [
    "## The process"
   ]
  },
  {
   "cell_type": "markdown",
   "id": "f1ecdda7-9059-4c29-92d3-6d5033d5d603",
   "metadata": {},
   "source": [
    "The process of achieving this is as simple as it is intuitive. We will build 2 images.\n",
    "1. **Image1**\n",
    "\n",
    "Image1 will contain 2 parts: A `black background` and a `colored foreground`.\n",
    "\n",
    "2. **Image2**\n",
    "\n",
    "Image2 will also contain 2 parts: A `colored foreground` and a `black background`.\n",
    "\n",
    "As you can see, Image1 is an 'inverse' of Image2. As we continue we will see and expain why these two images are necessary."
   ]
  },
  {
   "cell_type": "markdown",
   "id": "fe2fa9f6-269d-4c03-b180-827e0e479da7",
   "metadata": {},
   "source": [
    "### Image1"
   ]
  },
  {
   "cell_type": "markdown",
   "id": "9c794b74-e3fd-4bc8-a978-d9d5b2660488",
   "metadata": {},
   "source": [
    "### 1. Black Background"
   ]
  },
  {
   "cell_type": "markdown",
   "id": "7becebdb-50c7-45c0-b873-f533c0b041b9",
   "metadata": {},
   "source": [
    "We can do this easily by thresholding the image."
   ]
  },
  {
   "cell_type": "code",
   "execution_count": null,
   "id": "2503bb44-2df6-4e4c-bd62-7b881e15d05b",
   "metadata": {},
   "outputs": [],
   "source": [
    "#\n",
    "_, img1_background = cv2.threshold(cv2.cvtColor(img_main.copy(), cv2.COLOR_BGR2GRAY), 127, 255, cv2.THRESH_BINARY)\n",
    "plt.figure(figsize=[3, 3])\n",
    "plt.imshow(img1_background, 'gray')"
   ]
  },
  {
   "cell_type": "markdown",
   "id": "3a24f164-06ab-4dea-b63a-55c4f8cf622d",
   "metadata": {},
   "source": [
    "We now have Image1's image background. Now for the colored foreground. By colored foreground we mean that the logo part is changed from white to the checkered background. We do this by applying `img1_background` as a mask on the check image. Performing a bitwise AND operation on an image with itself returns the image. When the mask is provided, the `bitwise_and` operation is true if at that evaluated pixel the value of the mask is non-zero."
   ]
  },
  {
   "cell_type": "markdown",
   "id": "c8ca085b-990c-4b49-8511-1f23706d2926",
   "metadata": {},
   "source": [
    "### 2. Colored foreground"
   ]
  },
  {
   "cell_type": "code",
   "execution_count": null,
   "id": "21411daf-0e61-4134-87c7-d8b5490eb18f",
   "metadata": {},
   "outputs": [],
   "source": [
    "img1_foreground = cv2.bitwise_and(img_check, img_check, mask=img1_background)\n",
    "plt.figure(figsize=[3, 3])\n",
    "plt.imshow(img1_foreground[:, :, ::-1])\n",
    "img1_foreground.shape"
   ]
  },
  {
   "cell_type": "markdown",
   "id": "727263ea-8257-4e5d-bc6a-0aa09c97d1cb",
   "metadata": {},
   "source": [
    "We now have the Image1."
   ]
  },
  {
   "cell_type": "markdown",
   "id": "b757c2ee-c39f-43ee-ace8-3f25bbfcbf13",
   "metadata": {},
   "source": [
    "### Image2"
   ]
  },
  {
   "cell_type": "markdown",
   "id": "0b1f0db6-1a95-4ba2-8497-e8f51d5362c7",
   "metadata": {},
   "source": [
    "### 1. Black foreground"
   ]
  },
  {
   "cell_type": "markdown",
   "id": "35a767ae-7023-4c59-81b6-5bc9b0047273",
   "metadata": {},
   "source": [
    "For Image2, we begin by creating the black foreground. i.e. the logo part should be made black. We do this simply by inverting the thresholded black foreground of Image1."
   ]
  },
  {
   "cell_type": "code",
   "execution_count": null,
   "id": "1e7a99d8-efcf-4184-9af3-75f4d944cf3d",
   "metadata": {},
   "outputs": [],
   "source": [
    "img2_foreground = cv2.bitwise_not(img1_background)\n",
    "plt.figure(figsize=[3, 3])\n",
    "plt.imshow(img2_foreground, 'gray')"
   ]
  },
  {
   "cell_type": "markdown",
   "id": "24d10922-ea69-42ed-8d1f-938f8ed0a1ac",
   "metadata": {},
   "source": [
    "### 2. Colored Background"
   ]
  },
  {
   "cell_type": "markdown",
   "id": "4f6901d6-198e-45ed-b2f4-616449d82eff",
   "metadata": {},
   "source": [
    "We will now create a colored background for the image. This will mean taking the green color from the original logo. We can do this using the bitwise AND operation as you will see below."
   ]
  },
  {
   "cell_type": "code",
   "execution_count": null,
   "id": "7d954149-6882-4223-a741-e9730d1bf2ec",
   "metadata": {},
   "outputs": [],
   "source": [
    "img2_background = cv2.bitwise_and(img_main, img_main, mask=img2_foreground)\n",
    "plt.figure(figsize=[3, 3])\n",
    "plt.imshow(img2_background[:, :, ::-1])\n",
    "img2_background.shape"
   ]
  },
  {
   "cell_type": "markdown",
   "id": "ca87da56-93c1-4953-a0ca-b783677c044e",
   "metadata": {},
   "source": [
    "Now we have all the images, let us see them in one grid."
   ]
  },
  {
   "cell_type": "code",
   "execution_count": null,
   "id": "84017ad2-9577-48f3-ac4f-67c1c7607ac5",
   "metadata": {},
   "outputs": [],
   "source": [
    "plt.figure(figsize=[8, 8])\n",
    "plt.subplot(221); plt.imshow(img1_background, 'gray'); plt.title(\"Image 1 Background\")\n",
    "plt.subplot(222); plt.imshow(img1_foreground[:, :, ::-1]); plt.title(\"Image 1 Foreground\")\n",
    "plt.subplot(224); plt.imshow(img2_background[:, :, ::-1]); plt.title(\"Image 2 Background\")\n",
    "plt.subplot(223); plt.imshow(img2_foreground, 'gray'); plt.title(\"Image 2 Foreground\")"
   ]
  },
  {
   "cell_type": "markdown",
   "id": "f74886f3-7c89-41c6-96b4-d552bc247831",
   "metadata": {},
   "source": [
    "There we have it. What we are interested in now is the two color images i.e. Image 1 foreground and Image 2 Background. We can easily combine these images using OpenCV's `add()` functionality. The reason this will work is because, essentially, the places with color on one image are 0 on the other image i.e. if Image_1_foreground(x, y) != 0, Image_2_background(x, y) == 0 and viceversa. Hence all we are doing is addition by zero."
   ]
  },
  {
   "cell_type": "code",
   "execution_count": null,
   "id": "6bba1186-34b4-4451-ba4b-a7086f178c65",
   "metadata": {},
   "outputs": [],
   "source": [
    "#To demonstrate, multiplying the two images should yield 0 at every point\n",
    "val, = np.unique(img1_foreground * img2_background)\n",
    "val"
   ]
  },
  {
   "cell_type": "code",
   "execution_count": null,
   "id": "cc050fe0-1ee6-4abc-88bd-d54afa2ed478",
   "metadata": {},
   "outputs": [],
   "source": [
    "#Let's add up the images\n",
    "#We use cv2.add to properly handle overflow\n",
    "fin_img = cv2.add(img1_foreground, img2_background)\n",
    "plt.figure(figsize=[3, 3])\n",
    "plt.imshow(fin_img[:, :, ::-1])"
   ]
  },
  {
   "cell_type": "markdown",
   "id": "7157fec6-d573-4939-8206-d323535e9dcf",
   "metadata": {},
   "source": [
    "Voila!!!"
   ]
  },
  {
   "cell_type": "markdown",
   "id": "abf591b9-0947-4c54-977c-1658cd083cd6",
   "metadata": {},
   "source": [
    "## Exercise"
   ]
  },
  {
   "cell_type": "markdown",
   "id": "95c026a0-e146-4e49-aacd-ec42de58246f",
   "metadata": {},
   "source": [
    "You are given two images, generate the following result.\n",
    "\n",
    "![Exercise-03-preview](https://opencv.org/wp-content/uploads/2021/08/c0-m2-Exercise-03-preview.png)"
   ]
  },
  {
   "cell_type": "code",
   "execution_count": null,
   "id": "a84970fd-76be-4ff4-b60e-d0778fed372a",
   "metadata": {},
   "outputs": [],
   "source": [
    "#load the images\n",
    "green_circle = cv2.imread('images/green_circle.png', cv2.IMREAD_COLOR)\n",
    "#generate a yellow square\n",
    "yellow_square = np.ones_like(green_circle) * [255, 255, 0]\n",
    "\n",
    "#plotting\n",
    "plt.figure(figsize=[8, 3])\n",
    "plt.subplot(121); plt.imshow(green_circle)\n",
    "plt.subplot(122); plt.imshow(yellow_square)"
   ]
  },
  {
   "cell_type": "code",
   "execution_count": null,
   "id": "00d7aa51-33a4-4e4a-947f-d17ce5b957b4",
   "metadata": {},
   "outputs": [],
   "source": [
    "#We want to create a black circle from the green_circle\n",
    "_, green_circ_thresh = cv2.threshold(cv2.cvtColor(green_circle.copy(), cv2.COLOR_BGR2GRAY), 128, 255, cv2.THRESH_BINARY)\n",
    "plt.figure(figsize=[3, 3])\n",
    "plt.imshow(green_circ_thresh, 'gray')"
   ]
  },
  {
   "cell_type": "code",
   "execution_count": null,
   "id": "7e50f2ca-7971-4a2a-bf37-53ba95353104",
   "metadata": {},
   "outputs": [],
   "source": [
    "#Simply, bitwise_and(yellow_square, yellow_square, mask= \"the inverse of green_circ_thresh\")\n",
    "inv_thresh = cv2.bitwise_not(green_circ_thresh)\n",
    "final = cv2.bitwise_and(yellow_square, yellow_square, mask=inv_thresh)\n",
    "plt.figure(figsize=[3, 3])\n",
    "plt.imshow(final)"
   ]
  },
  {
   "cell_type": "markdown",
   "id": "dd7bd3ad-7267-4c7a-a9dc-e885ae325566",
   "metadata": {},
   "source": [
    "Voila!!!"
   ]
  },
  {
   "cell_type": "markdown",
   "id": "2e0f6c90-f62d-407d-91fa-f0552c046582",
   "metadata": {},
   "source": [
    "We have now seen how to apply the mask and have gone on to apply it to another example."
   ]
  },
  {
   "cell_type": "markdown",
   "id": "3a024e86-021f-4766-a137-c603a108ef08",
   "metadata": {},
   "source": [
    "## Another Exercise: adding An image onto another"
   ]
  },
  {
   "cell_type": "markdown",
   "id": "8dec6c74-57fd-4958-8b0f-5a19c45394b4",
   "metadata": {},
   "source": [
    "We are going to add two images, i.e. add a small image to a bigger image. Let's load up the images."
   ]
  },
  {
   "cell_type": "code",
   "execution_count": null,
   "id": "d4a3db87-5528-4667-9457-645e4c72dea3",
   "metadata": {},
   "outputs": [],
   "source": [
    "smaller = cv2.imread(\"X.png\", cv2.IMREAD_COLOR)\n",
    "bigger = cv2.imread(\"images/colorful_wallpaper.jpg\", cv2.IMREAD_COLOR)\n",
    "\n",
    "#showing the images\n",
    "plt.figure(figsize=[8, 3])\n",
    "plt.subplot(121); plt.imshow(smaller[:, :, ::-1])\n",
    "plt.subplot(122); plt.imshow(bigger[:, :, ::-1])"
   ]
  },
  {
   "cell_type": "code",
   "execution_count": null,
   "id": "e7651132-3a15-4aee-a683-42c0e6a14dc1",
   "metadata": {},
   "outputs": [],
   "source": [
    "#We want to place X in the centre of the wallpaper,\n",
    "#so we take the ROI\n",
    "cols = bigger.shape[1]\n",
    "rows = bigger.shape[0]\n",
    "roi = bigger[int(rows/4):int(rows*0.75), int(cols/4):int(cols*0.75)]\n",
    "plt.figure(figsize=[3, 3])\n",
    "plt.imshow(roi[:, :, ::-1])"
   ]
  },
  {
   "cell_type": "markdown",
   "id": "b3f6cfcc-2929-4036-8a7f-268178bfc884",
   "metadata": {},
   "source": [
    "We will now place on this `roi` image, the smaller image, the X logo."
   ]
  },
  {
   "cell_type": "code",
   "execution_count": null,
   "id": "ef33e1ab-1935-468e-a757-f12b5804cdc3",
   "metadata": {},
   "outputs": [],
   "source": [
    "#The bitwise_and operation will help us achieve this\n",
    "#bitwise_and on the roi returns the roi\n",
    "#We then and it with the mask which is only true where the mask != 0\n",
    "#hence we invert the smaller\n",
    "_, smaller_thresh = cv2.threshold(cv2.cvtColor(smaller.copy(), cv2.COLOR_BGR2GRAY), 127, 255, cv2.THRESH_BINARY_INV)\n",
    "smaller_roi = cv2.bitwise_and(roi, roi, mask=smaller_thresh)\n",
    "plt.figure(figsize=[3, 3])\n",
    "plt.imshow(smaller_roi[:, :, ::-1])"
   ]
  },
  {
   "cell_type": "code",
   "execution_count": null,
   "id": "a5e0b656-a59e-4b4c-ba3f-76ff40fd4621",
   "metadata": {},
   "outputs": [],
   "source": [
    "#Now return the image to the original image\n",
    "bigger[int(rows/4):int(rows*0.75), int(cols/4):int(cols*0.75)] = smaller_roi\n",
    "plt.figure(figsize=[5, 5])\n",
    "plt.imshow(bigger[:, :, ::-1])"
   ]
  },
  {
   "cell_type": "code",
   "execution_count": null,
   "id": "8ef59dec-93fc-4ef1-8927-217e84cf60da",
   "metadata": {},
   "outputs": [],
   "source": [
    "#Saving the image\n",
    "cv2.imwrite('embedded_logo.png', bigger)"
   ]
  }
 ],
 "metadata": {
  "kernelspec": {
   "display_name": "opencv-env",
   "language": "python",
   "name": "opencv-env"
  },
  "language_info": {
   "codemirror_mode": {
    "name": "ipython",
    "version": 3
   },
   "file_extension": ".py",
   "mimetype": "text/x-python",
   "name": "python",
   "nbconvert_exporter": "python",
   "pygments_lexer": "ipython3",
   "version": "3.12.2"
  }
 },
 "nbformat": 4,
 "nbformat_minor": 5
}
