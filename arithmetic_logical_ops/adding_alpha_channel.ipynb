{
 "cells": [
  {
   "cell_type": "markdown",
   "id": "28b45466-6380-4085-9127-001d27172e93",
   "metadata": {},
   "source": [
    "# The Alpha Channel"
   ]
  },
  {
   "cell_type": "markdown",
   "id": "b123a1e5-0b53-4679-b17b-aa0a288d128c",
   "metadata": {},
   "source": [
    "This is the fourth channel and exists in formats such as PNG. It has a range of **0 - 255** with **0** signifying full transparency."
   ]
  },
  {
   "cell_type": "markdown",
   "id": "96e7c0cb-ae04-4099-b244-747cd6b6cc04",
   "metadata": {},
   "source": [
    "## Examine Alpha Channel"
   ]
  },
  {
   "cell_type": "markdown",
   "id": "a904dff8-9963-4c10-bc56-04e89cc60491",
   "metadata": {},
   "source": [
    "We will examine the Alpha Channel of a logo."
   ]
  },
  {
   "cell_type": "code",
   "execution_count": null,
   "id": "dacfe3a5-0910-47a1-bedf-a1eba9e8921b",
   "metadata": {},
   "outputs": [],
   "source": [
    "import cv2\n",
    "import matplotlib.pyplot as plt\n",
    "import numpy as np\n",
    "from IPython.display import Image\n",
    "plt.rcParams['image.cmap'] = 'gray' #colormap for gray images"
   ]
  },
  {
   "cell_type": "code",
   "execution_count": null,
   "id": "d9ae004d-e765-4b85-bfa8-cd09c8d61cca",
   "metadata": {},
   "outputs": [],
   "source": [
    "fblogo = cv2.imread('images/Facebook_Logo_Primary.png', cv2.IMREAD_UNCHANGED)\n",
    "print(fblogo.shape)"
   ]
  },
  {
   "cell_type": "code",
   "execution_count": null,
   "id": "3e40e2a4-ada4-46b7-bbeb-0556e6ae6c20",
   "metadata": {},
   "outputs": [],
   "source": [
    "#Split the image to requisite channels\n",
    "b, g, r, a = cv2.split(fblogo)\n",
    "\n",
    "plt.figure(figsize=[14, 5])\n",
    "plt.subplot(141); plt.imshow(b, vmin=0, vmax=255); plt.title('Blue Channel')\n",
    "plt.subplot(142); plt.imshow(g, vmin=0, vmax=255); plt.title('Green Channel')\n",
    "plt.subplot(143); plt.imshow(r, vmin=0, vmax=255); plt.title('Red Channel')\n",
    "plt.subplot(144); plt.imshow(a, vmin=0, vmax=255); plt.title('Alpha Channel')"
   ]
  },
  {
   "cell_type": "code",
   "execution_count": null,
   "id": "68249bdb-ff3e-4b43-ba53-46c57900a693",
   "metadata": {},
   "outputs": [],
   "source": [
    "print('Blue', np.unique(fblogo[:, :, 0]))\n",
    "print('Green', np.unique(fblogo[:, :, 1]))\n",
    "print('Red', np.unique(fblogo[:, :, 2]))\n",
    "print('Alpha', np.unique(fblogo[:, :, 3]))"
   ]
  },
  {
   "cell_type": "markdown",
   "id": "f302c0a8-7857-434a-bc88-465d7c881d17",
   "metadata": {},
   "source": [
    "A few observations:\n",
    "1. We can see that all the blue channel is saturated (fully white).\n",
    "2. We can see that, outside the circle, the green and red are also saturated (Also white).\n",
    "3. The Alpha channel is white within the circle and black outside the circle - this means that allows transparency only within the circle.\n",
    "4. There are different levels of transparency in the alpha channel. We see this from the fact that it has values ranging from `0 - 255` (in the code above.)"
   ]
  },
  {
   "cell_type": "markdown",
   "id": "889cd9e7-d1cd-43d9-900c-2cbc4c094845",
   "metadata": {},
   "source": [
    "We note that although the other channels have intense values outside the circle, the alpha channel ensures that the only colors that can be seen are those within the circle as the ones outside made transparent."
   ]
  },
  {
   "cell_type": "markdown",
   "id": "616ea03f-fc78-465d-ba7b-a7a06c8ccabf",
   "metadata": {},
   "source": [
    "## Adding an Alpha channel to an image"
   ]
  },
  {
   "cell_type": "markdown",
   "id": "f4e41518-5ca5-49ba-ad17-3c6bf2c03870",
   "metadata": {},
   "source": [
    "We want to add an Alpha channel to an image. In order to do this, we need to specify what parts of the image we want to hide and those we want to see."
   ]
  },
  {
   "cell_type": "code",
   "execution_count": null,
   "id": "49af4e4f-121c-4d01-b283-6fd4017ceeea",
   "metadata": {},
   "outputs": [],
   "source": [
    "#Let's load up the image\n",
    "comp_noalpha = cv2.imread(\"images/company_noalpha.jpg\", cv2.IMREAD_UNCHANGED)\n",
    "print(comp_noalpha.shape)\n",
    "\n",
    "plt.figure(figsize=[3, 3])\n",
    "plt.imshow(comp_noalpha[:, :, ::-1])"
   ]
  },
  {
   "cell_type": "markdown",
   "id": "444b6c70-be07-430c-8acc-dfcf21e794bd",
   "metadata": {},
   "source": [
    "We see that the unchanged image has 3 channels. We aim to make the background transparent."
   ]
  },
  {
   "cell_type": "code",
   "execution_count": null,
   "id": "14b4c2c9-3a31-47ef-809b-c68e08d458ae",
   "metadata": {},
   "outputs": [],
   "source": [
    "#First, we make a mask\n",
    "_, noalpha_thresh = cv2.threshold(cv2.cvtColor(comp_noalpha, cv2.COLOR_BGR2GRAY), 127, 255, cv2.THRESH_BINARY)\n",
    "\n",
    "plt.figure(figsize=[3, 3])\n",
    "plt.imshow(noalpha_thresh, vmin=0, vmax=255)"
   ]
  },
  {
   "cell_type": "markdown",
   "id": "866908e3-b3ed-4ff5-a85d-5da62d26d617",
   "metadata": {},
   "source": [
    "If you can believe it, we now have our mask. The dark areas will be completely hidden and the white areas completely revealed. Let's now add the channel."
   ]
  },
  {
   "cell_type": "code",
   "execution_count": null,
   "id": "b4d65ad0-b1ec-4a28-93b8-9c9c245ba90c",
   "metadata": {},
   "outputs": [],
   "source": [
    "#adding the alpha channel\n",
    "comp_withalpha = np.ones((comp_noalpha.shape[0], comp_noalpha.shape[1], 4), dtype = comp_noalpha.dtype)\n",
    "comp_withalpha[:, :, 0:3] = comp_noalpha\n",
    "comp_withalpha[:, :, 3] = noalpha_thresh #adding the alpha channel\n",
    "\n",
    "print(comp_withalpha.shape)"
   ]
  },
  {
   "cell_type": "code",
   "execution_count": null,
   "id": "3e33a34e-77f2-41fb-826e-0ab6e739d3d2",
   "metadata": {},
   "outputs": [],
   "source": [
    "#In order to see the image, we use Ipython since it is a BGR image... so we save it first\n",
    "cv2.imwrite(\"company_withalpha.png\", comp_withalpha) #We save as png which supports alpha channel\n",
    "\n",
    "#Loading up the image\n",
    "Image(filename=\"company_withalpha.png\", width=300)"
   ]
  },
  {
   "cell_type": "markdown",
   "id": "73f82821-0761-48f7-af9a-cd8fff752c96",
   "metadata": {},
   "source": [
    "Voila! Our image is now transparent. Because of the alpha channel"
   ]
  },
  {
   "cell_type": "markdown",
   "id": "7c32081e-cfd9-4b4e-b2da-607142e577d7",
   "metadata": {},
   "source": [
    "### Comparing with vs without alpha"
   ]
  },
  {
   "cell_type": "code",
   "execution_count": null,
   "id": "e9d85070-84b3-4af1-8a92-ee6c9b2e9d41",
   "metadata": {},
   "outputs": [],
   "source": [
    "#To plot with matplotlib, we convert to RGBA\n",
    "comp_withalpha = cv2.cvtColor(comp_withalpha.copy(), cv2.COLOR_BGRA2RGBA)\n",
    "\n",
    "plt.figure(figsize=[10, 4])\n",
    "plt.subplot(121); plt.imshow(comp_noalpha[:, :, ::-1]); plt.title('Without Alpha'); plt.axis('off')\n",
    "plt.subplot(122); plt.imshow(comp_withalpha); plt.title('With Alpha'); plt.axis('off')"
   ]
  },
  {
   "cell_type": "markdown",
   "id": "84962318-d63d-4458-89fe-a1f362a90b38",
   "metadata": {},
   "source": [
    "The with_alpha image is transparent and blends into any background whereas the without_alpha image black and will only 'blend' with a black background."
   ]
  }
 ],
 "metadata": {
  "kernelspec": {
   "display_name": "opencv-env",
   "language": "python",
   "name": "opencv-env"
  },
  "language_info": {
   "codemirror_mode": {
    "name": "ipython",
    "version": 3
   },
   "file_extension": ".py",
   "mimetype": "text/x-python",
   "name": "python",
   "nbconvert_exporter": "python",
   "pygments_lexer": "ipython3",
   "version": "3.12.2"
  }
 },
 "nbformat": 4,
 "nbformat_minor": 5
}
