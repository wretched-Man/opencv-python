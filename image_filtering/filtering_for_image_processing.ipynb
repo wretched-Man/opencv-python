{
 "cells": [
  {
   "cell_type": "markdown",
   "id": "fe681022-5cec-4164-8e28-1e7fa797b6b1",
   "metadata": {},
   "source": [
    "# Filtering in Image Processing"
   ]
  },
  {
   "cell_type": "markdown",
   "id": "01d34988-c4e0-4a29-ab27-4fbd6a48cf2f",
   "metadata": {},
   "source": [
    "Today, we will look at a concept I found very interesting, the concept of convolution. Convolution is a filtering operation, specifically, a convolution is a linear, shift-invariant system. In case you are wondering what all this means, don't worry, we will look at all of it and I hope you will see what I found so interesting with this concept and be interested in it too! But first things first!"
   ]
  },
  {
   "cell_type": "markdown",
   "id": "989b9aa2-28a8-4d80-a43f-080200ad1c9a",
   "metadata": {},
   "source": [
    "# What is filtering in image processing"
   ]
  },
  {
   "cell_type": "markdown",
   "id": "ff8fc231-56fb-4b12-9020-6cbca6d0b24f",
   "metadata": {},
   "source": [
    "Filtering is a technique for modifying images. Think of a normal filter, what it does. For example, it could block solid particles from passing through and allow a liquid to pass through, if we are filtering a liquid. In the same way a filter in image processing is used to remove features that are unwanted and enhance features that we want. Through filtering, we can:\n",
    "* Enhance images - sharpen(accentuate edges)\n",
    "* Smooth images\n",
    "* Remove noise\n",
    "\n",
    "Filtering is a neighborhood operation. This means that the value of the pixel at any point is found by applying some algorithm to the values of the pixels in the neighborhood of the corresponding input pixel{[1](https://www.mathworks.com/help/images/what-is-image-filtering-in-the-spatial-domain.html)}."
   ]
  },
  {
   "cell_type": "markdown",
   "id": "b3a50fa1-271f-499b-8fbb-e62266102db0",
   "metadata": {},
   "source": [
    "## Images as functions"
   ]
  },
  {
   "cell_type": "markdown",
   "id": "d7cce05a-f476-476c-a239-5b126abb9310",
   "metadata": {},
   "source": [
    "In order to understand what we mean by filtering as a neighborhood operation, it helps to think of images not just as pixel values but as a function. Consider a gray image. It can be represented as a 2D matrix. It can also be represented as a function `f(x, y)` where x and y are the width and height, respectively. At any valid x and y, the value of the function is equal to the pixel intensity at that point.\n",
    "\n",
    "We could define a function g(x, y) as f(x, y) + 20. This would essentially mean that we increase the value of every pixel by 20 points. In code, this would essentially mean iterating over every pixel and adding 20.\n",
    "\n",
    "Filtering as a neighborhood operation works in the same way. The only difference in this case would be that G(x, y), the resultant value of the pixel P at (x, y) is set by aggregating the results from a range of values surrounding P and P itself i.e. perform an operation on every pixel f(X, Y) (where X and Y are ranges, not single values), add the results of each pixel and set the value of summation to P. We will see more of this later, so don't worry if its not immediately clear.\n",
    "\n",
    "With this in mind, we can now go one step further."
   ]
  },
  {
   "cell_type": "markdown",
   "id": "b2eaa4c6-7d32-492d-ae56-1f51ada830fd",
   "metadata": {},
   "source": [
    "## Linear filters"
   ]
  },
  {
   "cell_type": "markdown",
   "id": "5fec4466-ca91-4c33-a867-a0398a4ec4c7",
   "metadata": {},
   "source": [
    "Early on in our definition, we said that a convolution is a linear filter. We have said that a filter is a neighborhood operation, that is, the final value of the pixel P is a combination of the values of an operation H done on the range of pixels f(X, Y) which are in the neighborhood of P. A linear filter simply menas that this combination of the resultant values of the neighboring pixels is a linear combination (weighted sum)."
   ]
  },
  {
   "cell_type": "markdown",
   "id": "5c3f5940-84f6-4222-bb61-aff293336b0e",
   "metadata": {},
   "source": [
    "## Kernels"
   ]
  },
  {
   "cell_type": "markdown",
   "id": "a49f980e-57f9-4289-8758-9a2f3e74e1b3",
   "metadata": {},
   "source": [
    "We cannot get to a discussion about convolution without talking about kernels. We can define a kernel as a (usually) small `N * M` region that is slid over every image. In other words, a kernel defines the size of the neighborhood in a filtering operation. The size of the kernel defines the number of pixels that weigh in on the final pixel's value. To better understand things, let us look at an example:\n",
    "\n",
    "We will define a kernel like  so:\n",
    "$$\\frac{1}{9}\\begin{bmatrix} 1 & 1 & 1 \\\\ 1 & 1 & 1 \\\\ 1 & 1 & 1 \\end{bmatrix}$$\n",
    "\n",
    "Above, we have a `3 * 3` matrix, of all ones. The matrix is multiplied by 1/9, this is called weighting. This is to ensure that the resulting pixel's value is within the range of its neighborhood (otherwise, it would be 9 times greater). The anchor of the kernel (in this case, the centre) defines how the kernel will be aligned with the underlying image. To clarify, let's apply this kernel on a `3 * 3` image. (In this case, we can only affect the central pixel, since the rest are border pixels and the kernel will be out of range for them.\n",
    "\n",
    "The matrix is:\n",
    "$$\\begin{bmatrix} 36 & 131 & 251 \\\\ 203 & 234 & 228 \\\\ 79 & 29 & 153 \\end{bmatrix}$$\n",
    "\n",
    "Say we want to apply a linear filter on  the matrix above with the kernel we defined before. We will overlay the kernel on the matrix and at every point we will multiply `kernel[x, y]` with `matrix[x, y]`. We will then add the values of the individual multiplications and divide by 9 (weighting). We will then set this as the value of the central matrix element at (1, 1). The resulting array will look like so:\n",
    "\n",
    "$$\\begin{bmatrix} 36 & 131 & 251 \\\\ 203 & 149 & 228 \\\\ 79 & 29 & 153 \\end{bmatrix}$$\n",
    "\n",
    "Mathematically, a linear filter looks like:\n",
    "$I'(x, y) = \\sigma{k_{i, j\\sigma{kernel}} k_{i, j} \\dot I(x + i, y + j)}$\n",
    "I ′(x, y) = Σ\n",
    "i, j∈kernel\n",
    "ki, j ⋅ I (x + i, y + j)\n",
    "\n",
    "Let us try the same in Python."
   ]
  },
  {
   "cell_type": "code",
   "execution_count": 82,
   "id": "8e2e3c96-98ac-46f0-8595-ab49250a3134",
   "metadata": {},
   "outputs": [],
   "source": [
    "import numpy as np"
   ]
  },
  {
   "cell_type": "code",
   "execution_count": 83,
   "id": "251309e3-5c6d-4d64-83c8-7582e302f448",
   "metadata": {},
   "outputs": [
    {
     "data": {
      "text/plain": [
       "array([[0.11111111, 0.11111111, 0.11111111],\n",
       "       [0.11111111, 0.11111111, 0.11111111],\n",
       "       [0.11111111, 0.11111111, 0.11111111]], dtype=float32)"
      ]
     },
     "execution_count": 83,
     "metadata": {},
     "output_type": "execute_result"
    }
   ],
   "source": [
    "#creating and weighting the kernel\n",
    "ones_kernel = np.ones((3, 3), np.float32)\n",
    "ones_kernel = ones_kernel/np.sum(ones_kernel)\n",
    "ones_kernel"
   ]
  },
  {
   "cell_type": "code",
   "execution_count": 85,
   "id": "f347cc3f-ae3d-4f8a-8b30-711150804c87",
   "metadata": {},
   "outputs": [],
   "source": [
    "#creating the matrix\n",
    "matrix = np.array([[ 36, 131, 251],\n",
    "                      [203, 234, 228],\n",
    "                      [ 79,  29, 153]])"
   ]
  },
  {
   "cell_type": "code",
   "execution_count": 86,
   "id": "310ff31b-793e-497d-9a19-92dd21c17efd",
   "metadata": {},
   "outputs": [
    {
     "name": "stdout",
     "output_type": "stream",
     "text": [
      "149\n"
     ]
    },
    {
     "data": {
      "text/plain": [
       "array([[ 36, 131, 251],\n",
       "       [203, 149, 228],\n",
       "       [ 79,  29, 153]])"
      ]
     },
     "execution_count": 86,
     "metadata": {},
     "output_type": "execute_result"
    }
   ],
   "source": [
    "#We now simulate a simple filter operation, a mean filter\n",
    "value = np.uint8(np.sum(im_sample * ones_kernel))\n",
    "print(value)\n",
    "matrix[1, 1] = value\n",
    "matrix"
   ]
  },
  {
   "cell_type": "markdown",
   "id": "19573276-9726-43ab-8ecf-692e62636638",
   "metadata": {},
   "source": [
    "The filter that we have implemented above is called a mean filter. When you look at what we've done, we have simply replaced the middle pixel by the mean of the neighborhood defined by the kernel.\n",
    "\n",
    "Suppose, we had not wieghted the value by 9, what do you think would be the value of the resultant centre pixel?"
   ]
  },
  {
   "cell_type": "markdown",
   "id": "7a8a1460-dd2f-4d09-961d-2c26d53af655",
   "metadata": {},
   "source": [
    "## Convolution"
   ]
  },
  {
   "cell_type": "markdown",
   "id": "e2cfc65e-5809-4cb1-9ce6-614fc1b673d3",
   "metadata": {},
   "source": [
    "We will now look at the way in which linear filters are implemented. To convolve an image, we use a convolution kernel. We flip the kernel left-to-right and bottom-up and place it over the image and convolve the image with it. For example, given the kernel below:\n",
    "\n",
    "$$\\begin{bmatrix} 1 & 0 & 0 \\\\ 0 & 0 & 0 \\\\ 0 & 0 & 0 \\end{bmatrix}$$\n",
    "\n",
    "Before we place it over the image, we rotate it 180 degrees to look like so:\n",
    "\n",
    "$$\\begin{bmatrix} 0 & 0 & 0 \\\\ 0 & 0 & 0 \\\\ 0 & 0 & 1 \\end{bmatrix}$$"
   ]
  },
  {
   "cell_type": "markdown",
   "id": "7db26e36-e673-46d7-8374-b1faf4665e29",
   "metadata": {},
   "source": [
    "## Correlation"
   ]
  },
  {
   "cell_type": "markdown",
   "id": "54ed1ec4-8899-427e-8224-30b78e6094e7",
   "metadata": {},
   "source": [
    "Correlation is similar to convolution. The only difference between the two is that in correlation, the correlation kernel is not flipped. Hence the kernel:\n",
    "\n",
    "$$\\begin{bmatrix} 1 & 0 & 0 \\\\ 0 & 0 & 0 \\\\ 0 & 0 & 0 \\end{bmatrix}$$\n",
    "\n",
    "will be used just as it is.\n",
    "\n",
    "For a kernel that is symmetrical, like the one that we used in the illustration of kernels, convolution and correlation are exactly the same."
   ]
  },
  {
   "cell_type": "markdown",
   "id": "d5699069-46e2-4522-a31e-1c48bedbc6b9",
   "metadata": {},
   "source": [
    "# In practice"
   ]
  },
  {
   "cell_type": "markdown",
   "id": "ee80f273-f28d-401f-929d-f909956c5b51",
   "metadata": {},
   "source": [
    "We will now see this in practice. We will use OpenCV."
   ]
  },
  {
   "cell_type": "markdown",
   "id": "be08b57a-7c2a-47b2-8313-2dd7ace77622",
   "metadata": {},
   "source": [
    "## Convolution and Correlation in OpenCV"
   ]
  },
  {
   "cell_type": "markdown",
   "id": "fc610db9-3232-4a43-911a-8e9f9a565866",
   "metadata": {},
   "source": [
    "OpenCV provides us with a method for linear filtering known as `filter2D`. According to the documentation, we see that the filter operation actually calculates the correlation and not the convolution of the image. The documentation also states how to do the convolution using the method. We will define a kernel, see what it does to the image in both correlation and convolution."
   ]
  },
  {
   "cell_type": "markdown",
   "id": "61d387bc-aec2-4727-a4e4-bb7dc3a30911",
   "metadata": {},
   "source": [
    "### Example 1: A symmetrical Kernel"
   ]
  },
  {
   "cell_type": "markdown",
   "id": "15afe9da-db64-4de6-8fe7-3f0bb6db5374",
   "metadata": {},
   "source": [
    "kernel = \n",
    "$$\\frac{1}{9}\\begin{bmatrix} 1 & 1 & 1 \\\\ 1 & 1 & 1 \\\\ 1 & 1 & 1 \\end{bmatrix}$$"
   ]
  },
  {
   "cell_type": "code",
   "execution_count": 88,
   "id": "5197c54d-095d-4464-b6db-b6d3cb16cf05",
   "metadata": {},
   "outputs": [],
   "source": [
    "import cv2\n",
    "import matplotlib.pyplot as plt\n",
    "\n",
    "plt.rcParams['image.cmap'] = 'gray'"
   ]
  },
  {
   "cell_type": "code",
   "execution_count": 208,
   "id": "1be2d1ec-6f5b-4afa-afc1-3dfe3cca7474",
   "metadata": {},
   "outputs": [
    {
     "data": {
      "text/plain": [
       "<matplotlib.image.AxesImage at 0x1a2dbd85b50>"
      ]
     },
     "execution_count": 208,
     "metadata": {},
     "output_type": "execute_result"
    },
    {
     "data": {
      "image/png": "[encoded data removed]",
      "text/plain": [
       "<Figure size 640x480 with 1 Axes>"
      ]
     },
     "metadata": {},
     "output_type": "display_data"
    }
   ],
   "source": [
    "#load the image\n",
    "dino = cv2.imread('images/dino.png', 0)\n",
    "plt.imshow(dino)"
   ]
  },
  {
   "cell_type": "code",
   "execution_count": 209,
   "id": "9861200b-5d24-4af8-ac6f-d653c4a34f40",
   "metadata": {},
   "outputs": [],
   "source": [
    "#correlate\n",
    "dino_corr = cv2.filter2D(dino, -1, ones_kernel)"
   ]
  },
  {
   "cell_type": "markdown",
   "id": "e97dab12-8ea7-45d4-ba2d-133a9c23f88a",
   "metadata": {},
   "source": [
    "We will now use the same method to calculate the convolution of the image. For this, we will use flip the kernel and set the kernel."
   ]
  },
  {
   "cell_type": "code",
   "execution_count": 99,
   "id": "0d439c15-1834-4274-84d3-d8b86887fe2d",
   "metadata": {},
   "outputs": [
    {
     "data": {
      "text/plain": [
       "array([[0.11111111, 0.11111111, 0.11111111],\n",
       "       [0.11111111, 0.11111111, 0.11111111],\n",
       "       [0.11111111, 0.11111111, 0.11111111]], dtype=float32)"
      ]
     },
     "execution_count": 99,
     "metadata": {},
     "output_type": "execute_result"
    }
   ],
   "source": [
    "flipp_kernel = cv2.flip(ones_kernel, -1)\n",
    "flipp_kernel"
   ]
  },
  {
   "cell_type": "code",
   "execution_count": 210,
   "id": "d47dd005-8b2d-4ca7-8073-36df2d98df1d",
   "metadata": {},
   "outputs": [],
   "source": [
    "dino_conv = cv2.filter2D(dino, -1, flipp_kernel, anchor=(1, 1))"
   ]
  },
  {
   "cell_type": "code",
   "execution_count": 211,
   "id": "4bf00a4f-5054-4d1f-8fe0-2f33a09422e7",
   "metadata": {},
   "outputs": [
    {
     "data": {
      "text/plain": [
       "Text(0.5, 1.0, 'Convolution')"
      ]
     },
     "execution_count": 211,
     "metadata": {},
     "output_type": "execute_result"
    },
    {
     "data": {
      "image/png": "[encoded data removed]",
      "text/plain": [
       "<Figure size 2000x500 with 3 Axes>"
      ]
     },
     "metadata": {},
     "output_type": "display_data"
    }
   ],
   "source": [
    "fig = plt.figure(figsize=[20, 5])\n",
    "plt.subplot(131); plt.imshow(dino); plt.title('Original')\n",
    "plt.subplot(132); plt.imshow(dino_corr); plt.title('Correlation')\n",
    "plt.subplot(133); plt.imshow(dino_conv); plt.title('Convolution')"
   ]
  },
  {
   "cell_type": "markdown",
   "id": "5b8fa446-b560-4081-bf72-7f7169d036d1",
   "metadata": {},
   "source": [
    "We can see that the last two images are slightly blurred. However, both these images are similar since the kernel used is symmetrical. Let's use a different kernel.\n",
    "\n",
    "kernel = \n",
    "$$\\begin{bmatrix} 1 & 0 & 0 \\\\ 0 & 0 & 0 \\\\ 0 & 0 & 0 \\end{bmatrix}$$"
   ]
  },
  {
   "cell_type": "code",
   "execution_count": 169,
   "id": "2d3f9145-d30d-430a-a31f-632e66a48397",
   "metadata": {},
   "outputs": [
    {
     "data": {
      "text/plain": [
       "array([[1, 0, 0],\n",
       "       [0, 0, 0],\n",
       "       [0, 0, 0]], dtype=uint8)"
      ]
     },
     "execution_count": 169,
     "metadata": {},
     "output_type": "execute_result"
    }
   ],
   "source": [
    "second_kernel = np.zeros((3, 3), np.uint8)\n",
    "second_kernel[0, 0] = 1\n",
    "second_kernel"
   ]
  },
  {
   "cell_type": "code",
   "execution_count": 213,
   "id": "940b347b-8da0-4163-aed8-aa906c7db559",
   "metadata": {},
   "outputs": [],
   "source": [
    "equal = cv2.imread('images/equal.png', cv2.IMREAD_COLOR)"
   ]
  },
  {
   "cell_type": "code",
   "execution_count": 214,
   "id": "7c1ffd19-e61b-470d-8c26-b772d98ecdf4",
   "metadata": {},
   "outputs": [],
   "source": [
    "#correlation\n",
    "eq_corr = cv2.filter2D(equal, -1, second_kernel)"
   ]
  },
  {
   "cell_type": "code",
   "execution_count": 170,
   "id": "759ab15b-780e-4e6e-a41c-88bac5cbdeab",
   "metadata": {},
   "outputs": [
    {
     "data": {
      "text/plain": [
       "array([[0, 0, 0],\n",
       "       [0, 0, 0],\n",
       "       [0, 0, 1]], dtype=uint8)"
      ]
     },
     "execution_count": 170,
     "metadata": {},
     "output_type": "execute_result"
    }
   ],
   "source": [
    "second_flip = cv2.flip(second_kernel, -1)\n",
    "second_flip"
   ]
  },
  {
   "cell_type": "code",
   "execution_count": 215,
   "id": "96096289-b1c3-4c35-ac09-8b3bd4bf238a",
   "metadata": {},
   "outputs": [],
   "source": [
    "eq_conv = cv2.filter2D(equal, -1, second_flip, anchor=(1, 1))"
   ]
  },
  {
   "cell_type": "code",
   "execution_count": 216,
   "id": "b1353493-4e80-4b4f-8718-24f046b6604d",
   "metadata": {},
   "outputs": [
    {
     "data": {
      "text/plain": [
       "Text(0.5, 1.0, 'Convolution')"
      ]
     },
     "execution_count": 216,
     "metadata": {},
     "output_type": "execute_result"
    },
    {
     "data": {
      "image/png": "[encoded data removed]",
      "text/plain": [
       "<Figure size 1500x500 with 3 Axes>"
      ]
     },
     "metadata": {},
     "output_type": "display_data"
    }
   ],
   "source": [
    "plt.figure(figsize=[15, 5])\n",
    "plt.subplot(131); plt.imshow(equal[:, :, ::-1]); plt.title('Original')\n",
    "plt.subplot(132); plt.imshow(eq_corr[:, :, ::-1]); plt.title('Correlation')\n",
    "plt.subplot(133); plt.imshow(eq_conv[:, :, ::-1]); plt.title('Convolution')"
   ]
  },
  {
   "cell_type": "markdown",
   "id": "66a7c0f1-bdc1-4b7b-a521-fec91c175fd3",
   "metadata": {},
   "source": [
    "We see here that there is a difference between all the results. Significantly, there is a difference between the correlation and convolution results. We see the equal sign shifted from the original position in both cases, but in different places between correlation and convolution."
   ]
  },
  {
   "cell_type": "markdown",
   "id": "62383ccd-8783-4804-8797-ac7dda5e189d",
   "metadata": {},
   "source": [
    "### A last example"
   ]
  },
  {
   "cell_type": "code",
   "execution_count": 247,
   "id": "cb57d897-87e6-4138-9cff-4b6b39f51785",
   "metadata": {},
   "outputs": [],
   "source": [
    "icon = cv2.imread('images/python.bmp', cv2.IMREAD_COLOR)"
   ]
  },
  {
   "cell_type": "code",
   "execution_count": 261,
   "id": "a51016ed-98f7-417c-9595-53b3bcd93be8",
   "metadata": {},
   "outputs": [
    {
     "data": {
      "text/plain": [
       "array([[0., 0., 0., 0., 0.],\n",
       "       [0., 0., 0., 0., 0.],\n",
       "       [0., 0., 0., 0., 0.],\n",
       "       [0., 0., 0., 0., 0.],\n",
       "       [0., 0., 0., 0., 1.]], dtype=float32)"
      ]
     },
     "execution_count": 261,
     "metadata": {},
     "output_type": "execute_result"
    }
   ],
   "source": [
    "#gaussian kernel\n",
    "kern = np.array([[0, 0, 0, 0, 0],\n",
    "                 [0, 0, 0, 0, 0],\n",
    "                 [0, 0, 0, 0, 0],\n",
    "                 [0, 0, 0, 0, 0],\n",
    "                 [0, 0, 0, 0, 1]], np.float32)\n",
    "\n",
    "kern = kern / np.sum(kern)\n",
    "kern"
   ]
  },
  {
   "cell_type": "code",
   "execution_count": 262,
   "id": "812067c1-380c-40be-861d-e28fe61f105e",
   "metadata": {},
   "outputs": [],
   "source": [
    "icon_corr = cv2.filter2D(icon, -1, kern)"
   ]
  },
  {
   "cell_type": "code",
   "execution_count": 263,
   "id": "251063d0-550e-450f-89b2-76711294001a",
   "metadata": {},
   "outputs": [
    {
     "data": {
      "text/plain": [
       "array([[1., 0., 0., 0., 0.],\n",
       "       [0., 0., 0., 0., 0.],\n",
       "       [0., 0., 0., 0., 0.],\n",
       "       [0., 0., 0., 0., 0.],\n",
       "       [0., 0., 0., 0., 0.]], dtype=float32)"
      ]
     },
     "execution_count": 263,
     "metadata": {},
     "output_type": "execute_result"
    }
   ],
   "source": [
    "kern_flip = cv2.flip(kern, -1)\n",
    "icon_conv = cv2.filter2D(icon, -1, kern_flip, anchor=(1, 1))\n",
    "kern_flip"
   ]
  },
  {
   "cell_type": "code",
   "execution_count": 264,
   "id": "6e37a764-63ee-4580-ad25-595d36fd7ccd",
   "metadata": {},
   "outputs": [
    {
     "data": {
      "text/plain": [
       "Text(0.5, 1.0, 'Convolution')"
      ]
     },
     "execution_count": 264,
     "metadata": {},
     "output_type": "execute_result"
    },
    {
     "data": {
      "image/png": "[encoded data removed]",
      "text/plain": [
       "<Figure size 2000x500 with 3 Axes>"
      ]
     },
     "metadata": {},
     "output_type": "display_data"
    }
   ],
   "source": [
    "fig = plt.figure(figsize=[20, 5])\n",
    "plt.subplot(131); plt.imshow(icon); plt.title('Original')\n",
    "plt.subplot(132); plt.imshow(icon_corr); plt.title('Correlation')\n",
    "plt.subplot(133); plt.imshow(icon_conv); plt.title('Convolution')"
   ]
  },
  {
   "cell_type": "code",
   "execution_count": 265,
   "id": "b29f0498-a9f9-4118-a676-243c51bfb81a",
   "metadata": {},
   "outputs": [
    {
     "data": {
      "text/plain": [
       "False"
      ]
     },
     "execution_count": 265,
     "metadata": {},
     "output_type": "execute_result"
    }
   ],
   "source": [
    "(icon_conv == icon_corr).all()"
   ]
  },
  {
   "cell_type": "markdown",
   "id": "bec98880-69da-4d94-b161-0a3ce060831c",
   "metadata": {},
   "source": [
    "We can see that in both cases, the values have been shifted. In correlation the image is shifted up and to the left, while in convolution, the image is shifted down and to the right. Again, if the kernels were symmetric, the two results will be similar. "
   ]
  },
  {
   "cell_type": "markdown",
   "id": "529f1cb1-9584-4c01-a014-9502c5d34fb2",
   "metadata": {},
   "source": [
    "Now, to the interesting part I told you about."
   ]
  }
 ],
 "metadata": {
  "kernelspec": {
   "display_name": "opencv-env",
   "language": "python",
   "name": "opencv-env"
  },
  "language_info": {
   "codemirror_mode": {
    "name": "ipython",
    "version": 3
   },
   "file_extension": ".py",
   "mimetype": "text/x-python",
   "name": "python",
   "nbconvert_exporter": "python",
   "pygments_lexer": "ipython3",
   "version": "3.12.2"
  }
 },
 "nbformat": 4,
 "nbformat_minor": 5
}
