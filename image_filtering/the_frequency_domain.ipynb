{
 "cells": [
  {
   "cell_type": "markdown",
   "id": "9f93f8dc-7aea-4fa0-b492-790fa5ac50da",
   "metadata": {},
   "source": [
    "# The frequency domain"
   ]
  },
  {
   "cell_type": "markdown",
   "id": "934a924b-1b0b-4ef6-92da-9ed80b0857ba",
   "metadata": {},
   "source": [
    "We have already talked briefly about convolutions. Turns out there is another way to do them. To see why this would be important, let us consider the time it takes to do one convolution. Suppose we covolve an image (M * M) with a kernel (N * N), the time it takes to do this convolution is O(M^2*N^2). For sufficiently large N, this can be very slow. Before we look at the other method, it is helpful to understand two ways of representing images:\n",
    "<br><br>\n",
    "**Spatial Domain**\n",
    "This is how we've been representing images. An image is represented by its pixel values. In this domain we can manipulate images either through point operations, where we can set the value of each individual pixel independent of its neighbors or through a filter, like we have been doing with convolution [1](https://www.dynamsoft.com/blog/insights/image-processing/image-processing-101-image-enhancement/).\n",
    "<br><br>\n",
    "**Frequency Domain**\n",
    "This is another way to look at images. In this domain, we analyze images according to their frequencies."
   ]
  },
  {
   "cell_type": "code",
   "execution_count": null,
   "id": "9a2f80d3-20c4-4e24-bcc3-b389aeffe80b",
   "metadata": {},
   "outputs": [],
   "source": [
    "#We will read-in and convert an image from the spatial domain\n",
    "# to the frequency domain.\n",
    "# We will use OpenCV's dct function to do this as the Fourier\n",
    "# transform helps us view an image in the frequency domain.\n",
    "\n",
    "import cv2\n",
    "import matplotlib.pyplot as plt\n",
    "import numpy as np"
   ]
  },
  {
   "cell_type": "code",
   "execution_count": null,
   "id": "ec209df5-c6f5-42ac-a7da-6698bf277c5c",
   "metadata": {},
   "outputs": [],
   "source": [
    "plt.rcParams['image.cmap'] = 'gray'"
   ]
  },
  {
   "cell_type": "code",
   "execution_count": null,
   "id": "fca014d6-2be8-4c71-ad7b-90c157232595",
   "metadata": {},
   "outputs": [],
   "source": [
    "img = cv2.imread('images/bluebird.jpg', cv2.IMREAD_GRAYSCALE)\n",
    "plt.imshow(img)"
   ]
  },
  {
   "cell_type": "code",
   "execution_count": null,
   "id": "d7e5656e-989d-49b4-bfb3-10089f80e6ac",
   "metadata": {},
   "outputs": [],
   "source": [
    "bird_dft = np.fft.fft2(img)"
   ]
  },
  {
   "cell_type": "code",
   "execution_count": null,
   "id": "605b2a93-2d4f-4b27-8e54-593eaedb8fe5",
   "metadata": {},
   "outputs": [],
   "source": [
    "bird_dft_plot = 20 * np.log(np.abs(bird_dft))"
   ]
  },
  {
   "cell_type": "code",
   "execution_count": null,
   "id": "f261b27b-f9f4-40f3-9e01-b89310756a62",
   "metadata": {},
   "outputs": [],
   "source": [
    "plt.imshow(bird_dft_plot)"
   ]
  },
  {
   "cell_type": "markdown",
   "id": "4e336345-ee1b-4655-a2ea-fb9d08059010",
   "metadata": {},
   "source": [
    "We now shift to the middle to see the centre."
   ]
  },
  {
   "cell_type": "code",
   "execution_count": null,
   "id": "dde904dc-d234-472f-b60e-a33bf70fe0e1",
   "metadata": {},
   "outputs": [],
   "source": [
    "bird_dft_shift = np.fft.fftshift(bird_dft)"
   ]
  },
  {
   "cell_type": "code",
   "execution_count": null,
   "id": "64180f21-3fc9-463a-8321-34befa6346b0",
   "metadata": {},
   "outputs": [],
   "source": [
    "bird_dft_shift_plot = 20 * np.log(np.abs(bird_dft_shift))"
   ]
  },
  {
   "cell_type": "code",
   "execution_count": null,
   "id": "12f15cee-22e9-4c58-94a7-21687aefed3d",
   "metadata": {},
   "outputs": [],
   "source": [
    "plt.imshow(bird_dft_shift_plot)"
   ]
  },
  {
   "cell_type": "code",
   "execution_count": null,
   "id": "ac4458d8-8b59-415d-b6f8-ad1da06e9703",
   "metadata": {},
   "outputs": [],
   "source": [
    "print(bird_dft_shift[0, 0], bird_dft_shift[0, 473])\n",
    "print(bird_dft_shift[354, 0], bird_dft_shift[354, 473])"
   ]
  },
  {
   "cell_type": "code",
   "execution_count": null,
   "id": "7d3528b9-8824-46fb-ad1b-a63497218683",
   "metadata": {},
   "outputs": [],
   "source": [
    "print(bird_dft[0, 0], bird_dft[0, 473])\n",
    "print(bird_dft[354, 0], bird_dft[354, 473])"
   ]
  },
  {
   "cell_type": "code",
   "execution_count": null,
   "id": "735d4c38-495c-4350-b2da-148cfc7ae265",
   "metadata": {},
   "outputs": [],
   "source": [
    "np.fft.fft2??"
   ]
  },
  {
   "cell_type": "code",
   "execution_count": null,
   "id": "c1c3767f-06be-4a59-8506-11f7127e6d76",
   "metadata": {},
   "outputs": [],
   "source": [
    "Ts = 1/50\n",
    "t = np.arange(0, 10, Ts)\n",
    "x = np.sin(2 * np.pi * 15 * t) + np.sin(2 * np.pi * 20 * t) #sin(2 pi frequency time)\n",
    "plt.plot(t, x)"
   ]
  },
  {
   "cell_type": "code",
   "execution_count": null,
   "id": "21d6c708-83eb-404d-a0fc-c60d2435ed86",
   "metadata": {},
   "outputs": [],
   "source": [
    "y = np.fft.fft(x)\n",
    "fs = 1/Ts\n",
    "f = np.arange(0, len(y)) * fs/len(y) #k(index)/N(no of elements in fft) * R(sampling rate)"
   ]
  },
  {
   "cell_type": "code",
   "execution_count": null,
   "id": "836a882f-082f-432c-8d59-18da313d480c",
   "metadata": {},
   "outputs": [],
   "source": [
    "plt.plot(f, abs(y)) # abs(y) == magnitude == sqrt(re**2 + img**2)"
   ]
  },
  {
   "cell_type": "markdown",
   "id": "9fe2c8a7-6f87-4a75-9454-b361b0917809",
   "metadata": {},
   "source": [
    "Another Frequency With Noise"
   ]
  },
  {
   "cell_type": "code",
   "execution_count": null,
   "id": "62128b74-04ce-4287-a960-fd4e8e15b944",
   "metadata": {},
   "outputs": [],
   "source": [
    "xnoise = np.random.randn(len(y))\n",
    "x = x + xnoise\n",
    "plt.plot(t, x)"
   ]
  },
  {
   "cell_type": "code",
   "execution_count": null,
   "id": "c8925306-9c95-4948-92af-758f51d0a69a",
   "metadata": {},
   "outputs": [],
   "source": [
    "y_dirty = np.fft.fft(x)\n",
    "y_dirty_shift = np.fft.fftshift(y_dirty)\n",
    "fshift = np.arange(-len(x)/2, len(x)/2) * ((1/Ts) / len(x))\n",
    "plt.plot(fshift, abs(y_dirty_shift))"
   ]
  },
  {
   "cell_type": "code",
   "execution_count": null,
   "id": "9cbea25b-7fbc-4ba0-a53f-94ecbd3ce350",
   "metadata": {},
   "outputs": [],
   "source": [
    "y_clean = y_dirty.copy()\n",
    "y_clean[abs(y_clean) < 100] = 0\n",
    "x_clean = np.fft.ifft(y_clean)\n",
    "plt.plot(t, x_clean)"
   ]
  },
  {
   "cell_type": "markdown",
   "id": "76220042-d3dd-4e2c-95b3-8df3297eeed2",
   "metadata": {},
   "source": [
    "## Now what of an image"
   ]
  },
  {
   "cell_type": "markdown",
   "id": "b14bb0b8-ba95-4851-9947-5839a6b71300",
   "metadata": {},
   "source": [
    "We will first plot the magnitude of the sample image in a cartesian plot."
   ]
  },
  {
   "cell_type": "code",
   "execution_count": null,
   "id": "f4d11084-2f1c-425d-99bd-e17a3e78fbb3",
   "metadata": {},
   "outputs": [],
   "source": [
    "#read an image\n",
    "python = cv2.imread('images/python.bmp', cv2.IMREAD_GRAYSCALE)"
   ]
  },
  {
   "cell_type": "code",
   "execution_count": null,
   "id": "9dccbf03-534d-40ed-9086-7d36a3f1d92c",
   "metadata": {},
   "outputs": [],
   "source": [
    "python_fft = np.fft.fft2(python)"
   ]
  },
  {
   "cell_type": "markdown",
   "id": "694cde83-bcef-4b90-9d30-15a8c08a7871",
   "metadata": {},
   "source": [
    "`np.fft.fft2(python)` is equal to `np.fft.fft(np.fft.fft(python, axis=1), axis=0)`. A 2D fft is similar to a 1D fft along the column and another 1D fft on the result along the rows."
   ]
  },
  {
   "cell_type": "code",
   "execution_count": null,
   "id": "9f6142ab-c6d2-4a13-8268-558363e8f25e",
   "metadata": {},
   "outputs": [],
   "source": [
    "#let us plot the data\n",
    "python_fft_shift = np.fft.fftshift(python_fft)\n",
    "plt.imshow(np.log(abs(python_fft_shift) + 1), cmap='viridis')"
   ]
  },
  {
   "cell_type": "markdown",
   "id": "809a9a6b-b986-4d9e-9b96-d8863524d870",
   "metadata": {},
   "source": [
    "Now to plot the values in a grid"
   ]
  },
  {
   "cell_type": "code",
   "execution_count": null,
   "id": "a83f6e92-86a0-409f-b6ce-0759bd01e680",
   "metadata": {},
   "outputs": [],
   "source": [
    "# Create a new figure\n",
    "plt.figure()\n",
    "\n",
    "# Plot each complex number as an arrow\n",
    "for num in python_fft_shift.flat:\n",
    "    plt.arrow(0, 0, num.real, num.imag, head_width=0.1, head_length=0.2, fc='blue', ec='blue')\n",
    "\n",
    "# Set the limits of the plot\n",
    "plt.xlim(-4000, 4000)\n",
    "plt.ylim(-4300, 4300)\n",
    "\n",
    "# Add labels and a grid\n",
    "plt.xlabel('Real')\n",
    "plt.ylabel('Imaginary')\n",
    "plt.grid(True)\n",
    "\n",
    "# Show the plot\n",
    "plt.show()"
   ]
  },
  {
   "cell_type": "markdown",
   "id": "b17634dd-ea75-4439-92a2-21a6fba000fb",
   "metadata": {},
   "source": [
    "## Changing the magnitude and phase"
   ]
  },
  {
   "cell_type": "markdown",
   "id": "2f1d877f-ec92-4884-91fc-91f96e0e4f99",
   "metadata": {},
   "source": [
    "We are going to change the magnitude and phase of the image above and see what it does to the image. We will take an image, plot the polar plot like the one above. We will plot another polar plot with a random magnitude and another with random phase. We will then plot the images to see how they came out."
   ]
  },
  {
   "cell_type": "code",
   "execution_count": null,
   "id": "a0aceb67-42c7-4cb1-858d-006d3f02100a",
   "metadata": {},
   "outputs": [],
   "source": [
    "def plot_polar_image(image):\n",
    "    \"\"\"\n",
    "    Given any image, we will produce the Argand diagram\n",
    "    of the image.\n",
    "\n",
    "    This function expects that 'image' is of complex dtype\n",
    "    and is the result of a dft\n",
    "\n",
    "    We will also find the ifft and plot as an image.\n",
    "    \"\"\"\n",
    "\n",
    "    fig, (ax1, ax2) = plt.subplots(1, 2)\n",
    "    fig.set_size_inches(12, 4)\n",
    "\n",
    "    # Plot each complex number as an arrow\n",
    "    for num in image.flat:\n",
    "        ax1.arrow(0, 0, num.real, num.imag, head_width=0.1,\n",
    "                  head_length=0.2, fc='blue', ec='blue')\n",
    "\n",
    "    \n",
    "    # Set the limits of the plot\n",
    "    ax1.set_xlim(-5000, 5000);\n",
    "    ax1.set_ylim(-5000, 5000);\n",
    "    ax1.set_xlabel('Re');\n",
    "    ax1.set_ylabel('Im');\n",
    "    ax1.grid(True)\n",
    "\n",
    "    image_ifft = np.fft.ifft2(image)\n",
    "    \n",
    "    ax2.imshow(abs(image_ifft))"
   ]
  },
  {
   "cell_type": "markdown",
   "id": "9e67d79b-c692-47ad-8384-fa0297b31d5c",
   "metadata": {},
   "source": [
    "Let us try with the first image."
   ]
  },
  {
   "cell_type": "code",
   "execution_count": null,
   "id": "847f7f5c-6f45-49fa-a6d6-104ccc4bc04f",
   "metadata": {},
   "outputs": [],
   "source": [
    "plot_polar_image(python_fft)"
   ]
  },
  {
   "cell_type": "markdown",
   "id": "9a0ff5b7-c506-4786-a902-76b5df189009",
   "metadata": {},
   "source": [
    "Let us create a function changer for our image."
   ]
  },
  {
   "cell_type": "code",
   "execution_count": null,
   "id": "684dd773-3088-46e3-a522-ccbb38ec6a31",
   "metadata": {},
   "outputs": [],
   "source": [
    "def change_image(image, new_part, is_mag=0):\n",
    "    \"\"\"\n",
    "    This function takes an image, changes the image's\n",
    "    magnitude/phase and displays the image.\n",
    "\n",
    "    The shapes of image and new_part must be equal\n",
    "    Image must be a complex - result of an fft\n",
    "\n",
    "    image - a complex array, a result of fft\n",
    "    new_part - either new magnitude or phase with which\n",
    "        to change the image into\n",
    "    is_mag - if new_part is magnitude, set to 0,\n",
    "    else if new_part is phase, set to non-zero\n",
    "\n",
    "    Calls plot_polar_image on result\n",
    "    \"\"\"\n",
    "\n",
    "    #Split the current image into magnitude and phase\n",
    "    magnitude = abs(image)\n",
    "    phase = np.angle(image)\n",
    "\n",
    "    new_image = np.empty(image.shape, np.complex128)\n",
    "    if is_mag == 0:\n",
    "        #This means we are to swap magnitude\n",
    "        #Make a complex number Data[...,0] + 1j * Data[...,1]\n",
    "        new_image = (new_part * np.cos(phase)) + 1j * (new_part * np.sin(phase))\n",
    "    else:\n",
    "        #Swapping phase\n",
    "        new_image = (magnitude * np.cos(new_part)) + 1j * (magnitude * np.sin(new_part))\n",
    "\n",
    "    plot_polar_image(new_image)        "
   ]
  },
  {
   "cell_type": "code",
   "execution_count": null,
   "id": "6c011ddc-101f-4a2e-ba98-29737331f545",
   "metadata": {},
   "outputs": [],
   "source": [
    "magnitude = abs(python_fft_shift)\n",
    "magnitude_change = magnitude * 1.5 * np.random.rand(magnitude.shape[0], magnitude.shape[1])"
   ]
  },
  {
   "cell_type": "code",
   "execution_count": null,
   "id": "144b490b-3559-417c-8072-d3929dd28df9",
   "metadata": {},
   "outputs": [],
   "source": [
    "change_image(python_fft, magnitude_change)"
   ]
  },
  {
   "cell_type": "code",
   "execution_count": null,
   "id": "2874ed44-b2d2-421e-8f0a-a703b8f6c21d",
   "metadata": {},
   "outputs": [],
   "source": [
    "magnitude_change"
   ]
  },
  {
   "cell_type": "markdown",
   "id": "7faee2fd-cd94-4890-8855-3b408447a663",
   "metadata": {},
   "source": []
  }
 ],
 "metadata": {
  "kernelspec": {
   "display_name": "opencv-env",
   "language": "python",
   "name": "opencv-env"
  },
  "language_info": {
   "codemirror_mode": {
    "name": "ipython",
    "version": 3
   },
   "file_extension": ".py",
   "mimetype": "text/x-python",
   "name": "python",
   "nbconvert_exporter": "python",
   "pygments_lexer": "ipython3",
   "version": "3.12.2"
  }
 },
 "nbformat": 4,
 "nbformat_minor": 5
}
