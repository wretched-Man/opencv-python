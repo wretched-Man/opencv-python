{
 "cells": [
  {
   "cell_type": "markdown",
   "id": "009042f8-1873-4d80-a8df-8a74ed6c48c2",
   "metadata": {},
   "source": [
    "# Artistic Features"
   ]
  },
  {
   "cell_type": "code",
   "execution_count": null,
   "id": "ab7b1f91-e993-416e-98cc-5911b72a45f2",
   "metadata": {},
   "outputs": [],
   "source": [
    "import cv2\n",
    "import numpy as np\n",
    "import matplotlib.pyplot as plt"
   ]
  },
  {
   "cell_type": "code",
   "execution_count": null,
   "id": "17ccae41-de70-4e2b-b1d5-d745a75f645e",
   "metadata": {},
   "outputs": [],
   "source": [
    "#load sample images\n",
    "flower    = cv2.imread('images/flowers.jpg')\n",
    "house     = cv2.imread('images/house.jpg')\n",
    "new_york  = cv2.imread('images/newyork.jpg')"
   ]
  },
  {
   "cell_type": "code",
   "execution_count": null,
   "id": "c9c4257b-1d0b-487d-b51a-ade66a35351c",
   "metadata": {},
   "outputs": [],
   "source": [
    "def display(img, filter_img, filter=''):\n",
    "    \"\"\"\n",
    "        A convenience method to display out image.\n",
    "    \"\"\"\n",
    "    \n",
    "    plt.figure(figsize=[15, 7])\n",
    "    \n",
    "    plt.subplot(121)\n",
    "    plt.axis('off')\n",
    "    \n",
    "    if len(img.shape) == 2:\n",
    "        plt.imshow(img, cmap='gray')\n",
    "    else:\n",
    "        plt.imshow(img[:, :, ::-1])\n",
    "    \n",
    "    plt.title('Original Image');\n",
    "\n",
    "    plt.subplot(122)\n",
    "    plt.axis('off')\n",
    "    \n",
    "    if len(img.shape) == 2:\n",
    "        plt.imshow(filter_img, cmap='gray');\n",
    "    else:\n",
    "        plt.imshow(filter_img[:, :, ::-1]);\n",
    "\n",
    "    if filter == '':\n",
    "        plt.title('Filtered Image');\n",
    "    else:\n",
    "        plt.title(filter);"
   ]
  },
  {
   "cell_type": "markdown",
   "id": "4d12c1ea-810a-49b6-82eb-7d5ef3a0e5ec",
   "metadata": {},
   "source": [
    "## Vignette Effect"
   ]
  },
  {
   "cell_type": "markdown",
   "id": "0ce55dd8-bfd0-43d4-afb2-0fa755167f77",
   "metadata": {},
   "source": [
    "It is made by use of a Gaussian Kernel of the same shape as the image"
   ]
  },
  {
   "cell_type": "code",
   "execution_count": null,
   "id": "b06d97ff-3407-4c80-9717-d95b20cfacdc",
   "metadata": {},
   "outputs": [],
   "source": [
    "#creating the separable Gaussian\n",
    "def vignette(img, level = 2):\n",
    "    width, height = img.shape[:2]\n",
    "    x_kernel = cv2.getGaussianKernel(width, width/level)\n",
    "    y_kernel = cv2.getGaussianKernel(height, height/level)\n",
    "\n",
    "    #getting the outer product\n",
    "    gauss_kernel = x_kernel * y_kernel.T\n",
    "    #normalize\n",
    "    gauss_kernel = gauss_kernel /gauss_kernel.max()\n",
    "\n",
    "    img_vignette = img.copy()\n",
    "    \n",
    "    for i in range(3):\n",
    "        img_vignette[:, :, i] = img_vignette[:, :, i] * gauss_kernel\n",
    "        \n",
    "    return img_vignette"
   ]
  },
  {
   "cell_type": "code",
   "execution_count": null,
   "id": "41b421fd-fd04-4a79-b978-7411b49f4bc6",
   "metadata": {},
   "outputs": [],
   "source": [
    "vignette_res = vignette(flower, 2)\n",
    "display(flower, vignette_res, 'Vignette filter')"
   ]
  },
  {
   "cell_type": "markdown",
   "id": "368e6f81-4963-49b3-acc8-de96f2ceebe5",
   "metadata": {},
   "source": [
    "## Sepia"
   ]
  },
  {
   "cell_type": "code",
   "execution_count": null,
   "id": "80c565cb-942e-4e05-a3da-e9c9599699f9",
   "metadata": {},
   "outputs": [],
   "source": [
    "def sepia(img):\n",
    "    img_sepia = img.copy()\n",
    "    # Converting to RGB as sepia matrix below is for RGB.\n",
    "    img_sepia = cv2.cvtColor(img_sepia, cv2.COLOR_BGR2RGB) \n",
    "    img_sepia = np.array(img_sepia, dtype = np.float64)\n",
    "    img_sepia = cv2.transform(img_sepia, np.matrix([[0.393, 0.769, 0.189],\n",
    "                                                    [0.349, 0.686, 0.168],\n",
    "                                                    [0.272, 0.534, 0.131]]))\n",
    "    # Clip values to the range [0, 255].\n",
    "    sepia_copy = np.clip(img_sepia, 0, 255)\n",
    "    sepia_copy = np.array(sepia_copy, dtype = np.uint8)\n",
    "    sepia_copy = cv2.cvtColor(sepia_copy, cv2.COLOR_RGB2BGR)\n",
    "    return sepia_copy"
   ]
  },
  {
   "cell_type": "code",
   "execution_count": null,
   "id": "314cc313-73c5-4d4c-ae69-f1f44d9ae493",
   "metadata": {},
   "outputs": [],
   "source": [
    "ny_sepia = sepia(new_york)\n",
    "display(new_york, ny_sepia)"
   ]
  }
 ],
 "metadata": {
  "kernelspec": {
   "display_name": "opencv-env",
   "language": "python",
   "name": "opencv-env"
  },
  "language_info": {
   "codemirror_mode": {
    "name": "ipython",
    "version": 3
   },
   "file_extension": ".py",
   "mimetype": "text/x-python",
   "name": "python",
   "nbconvert_exporter": "python",
   "pygments_lexer": "ipython3",
   "version": "3.12.2"
  }
 },
 "nbformat": 4,
 "nbformat_minor": 5
}
