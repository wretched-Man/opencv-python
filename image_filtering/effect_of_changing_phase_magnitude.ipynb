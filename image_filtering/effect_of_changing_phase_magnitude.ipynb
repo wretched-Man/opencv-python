{
 "cells": [
  {
   "cell_type": "markdown",
   "id": "89c4802b-ff91-41d3-a4b6-a5d3a9cb8bbf",
   "metadata": {},
   "source": [
    "# Effect of changing phase and magnitude"
   ]
  },
  {
   "cell_type": "markdown",
   "id": "9a7f76d2-672c-4309-9452-d88ab03c0d70",
   "metadata": {},
   "source": [
    "We already know that the Fourier Transform gives us, for each frequency, the magnitude and phase in of a sinusoid in that frequency. We will now see between the phase and magnitude, which of the two has the most effect if altered."
   ]
  },
  {
   "cell_type": "markdown",
   "id": "de5ecffb-c968-4e20-a132-37401e8b517c",
   "metadata": {},
   "source": [
    "To do this, we will take 3 similar-sized images. We will then see how the images look:\n",
    "\n",
    "    * with original magnitude and original phase\n",
    "    * with average magnitude and original phase\n",
    "    * with original magnitude and average phase\n",
    "\n",
    "The averages will be computed from all the 3 images."
   ]
  },
  {
   "cell_type": "code",
   "execution_count": null,
   "id": "91cd3f9b-cdfe-4c51-83ec-879a0de962c9",
   "metadata": {},
   "outputs": [],
   "source": [
    "import cv2\n",
    "import glob\n",
    "import numpy as np\n",
    "import matplotlib.pyplot as plt\n",
    "\n",
    "plt.rcParams['image.cmap'] = 'gray'"
   ]
  },
  {
   "cell_type": "code",
   "execution_count": null,
   "id": "e9ad2f0e-7884-44ff-8522-63657b24d684",
   "metadata": {},
   "outputs": [],
   "source": [
    "#Read and display the images\n",
    "images = glob.glob('.\\\\images/pexels-*.jpg')\n",
    "read_images = []\n",
    "\n",
    "for image in images:\n",
    "    image = cv2.imread(image, cv2.IMREAD_GRAYSCALE)\n",
    "    read_images.append(cv2.resize(image, None, fx=0.06, fy=0.06, interpolation=cv2.INTER_AREA))"
   ]
  },
  {
   "cell_type": "markdown",
   "id": "07714c4e-837f-4db9-826b-8a9857b42bd9",
   "metadata": {},
   "source": [
    "We resize the images to <1 % of its original size for the sake of computation."
   ]
  },
  {
   "cell_type": "code",
   "execution_count": null,
   "id": "6187ece8-a1cb-4d55-8b91-3e69059a332f",
   "metadata": {},
   "outputs": [],
   "source": [
    "# display the images\n",
    "plt.figure(figsize=[5*3, 5])\n",
    "plt.subplot(131); plt.imshow(read_images[0], cmap='gray'); plt.xticks=[]; plt.yticks=[]; plt.axis('off')\n",
    "plt.subplot(132); plt.imshow(read_images[1], cmap='gray'); plt.xticks=[]; plt.yticks=[]; plt.axis('off')\n",
    "plt.subplot(133); plt.imshow(read_images[2], cmap='gray'); plt.xticks=[]; plt.yticks=[]; plt.axis('off')"
   ]
  },
  {
   "cell_type": "markdown",
   "id": "451128d3-d9f8-4c13-bb26-58895632cdc9",
   "metadata": {},
   "source": [
    "Image Sources:\n",
    "<br>\n",
    "* Pexels\\Maria Ilaria Piras;\n",
    "<br>\n",
    "* Pexels\\Markus Spaske;\n",
    "<br>\n",
    "* Pexels\\Pok Rie"
   ]
  },
  {
   "cell_type": "code",
   "execution_count": null,
   "id": "a6901025-1ba3-4202-ab0a-97e29ca4127b",
   "metadata": {},
   "outputs": [],
   "source": [
    "# We now compute their average magnitude and phase\n",
    "avg_magnitude = np.zeros(read_images[0].shape)\n",
    "avg_phase = np.zeros(read_images[0].shape)\n",
    "for copy_img in read_images:\n",
    "    copy_img = copy_img - np.mean(copy_img)\n",
    "    img_fft = np.fft.fft2(copy_img)\n",
    "    avg_magnitude = avg_magnitude + (abs(img_fft)/3)\n",
    "    avg_phase = avg_phase + (np.angle(img_fft)/3)"
   ]
  },
  {
   "cell_type": "markdown",
   "id": "c11951eb-a5e0-4345-816e-b7f32ae3deb1",
   "metadata": {},
   "source": [
    "We will now create a function to plot an image on the left and a polar plot of the magnitude pointing in the direction of the phase angle. We will do this for every image, both the original and with the magnitude and phase changed."
   ]
  },
  {
   "cell_type": "code",
   "execution_count": null,
   "id": "9f7d85ee-7bd1-4930-9ad4-d4dac179d7df",
   "metadata": {},
   "outputs": [],
   "source": [
    "#function to plot an image and its magnitude\n",
    "def plot_polar_image(image, title=''):\n",
    "    \"\"\"\n",
    "    Given any image, we will produce the Argand diagram\n",
    "    of the image.\n",
    "\n",
    "    This function expects that 'image' is of complex dtype\n",
    "    and is the result of a dft\n",
    "\n",
    "    We will also find the ifft and plot as an image.\n",
    "    \"\"\"\n",
    "\n",
    "    fig, (ax1, ax2) = plt.subplots(1, 2)\n",
    "    fig.set_size_inches(6 * 2, 4)\n",
    "    fig.suptitle(title)\n",
    "\n",
    "    image_ifft = np.fft.ifft2(image)\n",
    "    ax1.imshow(abs(image_ifft))\n",
    "\n",
    "    # Plot each complex number as an arrow\n",
    "    for num in image.flat:\n",
    "        #plot as a 1/4 of the original\n",
    "        ax2.arrow(0, 0, num.real/2, num.imag/2, head_width=0.1,\n",
    "                  head_length=0.2, fc='blue', ec='blue')\n",
    "\n",
    "    \n",
    "    # Set the limits of the plot\n",
    "    ax2.set_xlim(-5000, 5000);\n",
    "    ax2.set_ylim(-5000, 5000);\n",
    "    ax2.set_xlabel('Re');\n",
    "    ax2.set_ylabel('Im');\n",
    "    ax2.grid(True)"
   ]
  },
  {
   "cell_type": "code",
   "execution_count": null,
   "id": "368f5e6c-038e-4cad-8848-8d0f4d49034e",
   "metadata": {},
   "outputs": [],
   "source": [
    "# function to change either the magnitude or phase of\n",
    "# an image and plot the resulting image\n",
    "def change_image(image, new_part, is_mag=0, title=''):\n",
    "    \"\"\"\n",
    "    This function takes an image, changes the image's\n",
    "    magnitude/phase and displays the image.\n",
    "\n",
    "    The shapes of image and new_part must be equal\n",
    "    Image must be a complex - result of an fft\n",
    "\n",
    "    image - a complex array, a result of fft\n",
    "    new_part - either new magnitude or phase with which\n",
    "        to change the image into\n",
    "    is_mag - if new_part is magnitude, set to 0,\n",
    "    else if new_part is phase, set to non-zero\n",
    "\n",
    "    Calls plot_polar_image on result\n",
    "    \"\"\"\n",
    "\n",
    "    #Split the current image into magnitude and phase\n",
    "    magnitude = abs(image)\n",
    "    phase = np.angle(image)\n",
    "\n",
    "    new_image = np.empty(image.shape, np.complex128)\n",
    "    if is_mag == 0:\n",
    "        #This means we are to swap magnitude\n",
    "        #Make a complex number Data[...,0] + 1j * Data[...,1]\n",
    "        new_image = (new_part * np.cos(phase)) + 1j * (new_part * np.sin(phase))\n",
    "    else:\n",
    "        #Swapping phase\n",
    "        new_image = (magnitude * np.cos(new_part)) + 1j * (magnitude * np.sin(new_part))\n",
    "\n",
    "    plot_polar_image(new_image, title)"
   ]
  },
  {
   "cell_type": "code",
   "execution_count": null,
   "id": "5f42d0ac-11b3-446d-af95-d80f218892d8",
   "metadata": {},
   "outputs": [],
   "source": [
    "#the fft of all images\n",
    "images_fft = []\n",
    "for image in read_images:\n",
    "    img_fft_shift = np.fft.fft2(image)\n",
    "    images_fft.append(img_fft_shift)"
   ]
  },
  {
   "cell_type": "markdown",
   "id": "624d9387-363c-44c0-b340-af2c7ac70589",
   "metadata": {},
   "source": [
    "Let us first plot for the first image."
   ]
  },
  {
   "cell_type": "code",
   "execution_count": null,
   "id": "82c91f61-5e1f-4f8d-9c0b-b3ec1b5526e7",
   "metadata": {},
   "outputs": [],
   "source": [
    "#put it all in a convenience function to avoid repetition\n",
    "def plot_changes(pos):\n",
    "    plot_polar_image(images_fft[pos], 'Image ' + str(pos + 1) + ' - Original')\n",
    "    change_image(images_fft[pos], avg_magnitude, title= 'Image ' + str(pos + 1) + ' - Average Magnitude')\n",
    "    change_image(images_fft[pos], avg_phase, is_mag= 1, title= 'Image ' + str(pos + 1) + ' - Average Phase')"
   ]
  },
  {
   "cell_type": "markdown",
   "id": "d630e7b9-bc34-4715-8882-611a17a4abde",
   "metadata": {},
   "source": [
    "### Image 1"
   ]
  },
  {
   "cell_type": "code",
   "execution_count": null,
   "id": "e531bc21-ea73-42dc-8a1c-01700dbf1867",
   "metadata": {},
   "outputs": [],
   "source": [
    "plot_changes(0)"
   ]
  },
  {
   "cell_type": "markdown",
   "id": "d20ca149-088a-465f-bb8e-95c725c78be4",
   "metadata": {},
   "source": [
    "### Image 2"
   ]
  },
  {
   "cell_type": "code",
   "execution_count": null,
   "id": "cc89fc7f-3e70-494b-b83e-55e25f83385f",
   "metadata": {},
   "outputs": [],
   "source": [
    "plot_changes(1)"
   ]
  },
  {
   "cell_type": "markdown",
   "id": "07386d18-1209-4d51-9097-48b360854c10",
   "metadata": {},
   "source": [
    "### Image 3"
   ]
  },
  {
   "cell_type": "code",
   "execution_count": null,
   "id": "96256081-30ec-4cb1-8531-546f4480d85c",
   "metadata": {},
   "outputs": [],
   "source": [
    "plot_changes(2)"
   ]
  },
  {
   "cell_type": "markdown",
   "id": "a2f61c89-6c4c-4381-ab18-e00f8edd2290",
   "metadata": {},
   "source": [
    "## Results"
   ]
  },
  {
   "cell_type": "markdown",
   "id": "dab50507-93c9-40a4-962f-24db8485aab7",
   "metadata": {},
   "source": [
    "We can see from the results for all three images that using average magnitude, the content of the images are discernable whereas using average phase much of the resulting image is a dark smudge.\n",
    "<br><br>\n",
    "The plots on the right (the blue polar plots) show us why. The length of the blue line shows us the magnitude, and its direction the phase angle (since the complex conjugate is also present each blue arrow is reflected along the x-axis.). Looking at the polar plot, we can see that for the original plot\n",
    "and the average magnitude plot, the plots look almost similar (the second image is an exception). The orientation of the blue arrow is the same, only that the magnitude is different. For the phase, however, although the magnitude remains the same, the resultant plot is completely different. This is mostly visible with Image 2."
   ]
  }
 ],
 "metadata": {
  "kernelspec": {
   "display_name": "opencv-env",
   "language": "python",
   "name": "opencv-env"
  },
  "language_info": {
   "codemirror_mode": {
    "name": "ipython",
    "version": 3
   },
   "file_extension": ".py",
   "mimetype": "text/x-python",
   "name": "python",
   "nbconvert_exporter": "python",
   "pygments_lexer": "ipython3",
   "version": "3.12.2"
  }
 },
 "nbformat": 4,
 "nbformat_minor": 5
}
