{
 "cells": [
  {
   "cell_type": "markdown",
   "id": "9f5ffb4e-72e8-4e20-a44d-c9c27f29b4e1",
   "metadata": {},
   "source": [
    "# Affine Transformations"
   ]
  },
  {
   "cell_type": "markdown",
   "id": "c3f76759-7bef-4c4e-b6fc-b54e17b0a79f",
   "metadata": {},
   "source": [
    "In this article, we are going to look at affine transformations of images. To properly understand them, let us look at various image transformations that can be done."
   ]
  },
  {
   "cell_type": "markdown",
   "id": "e8a5fb08-7e6f-4a50-be14-02565f214cbc",
   "metadata": {},
   "source": [
    "## 2x2 Matrix Transformations"
   ]
  },
  {
   "attachments": {},
   "cell_type": "markdown",
   "id": "81ccc8d2-2c72-4f3b-9422-cb08a197f026",
   "metadata": {},
   "source": [
    "2x2 image transformations are those transformations that can be done using a 2x2 matrix. Examples of these include rotation, skew/shear, scale and flip. Their matrices are as follows:\n",
    "\n",
    "**Shear**\n",
    "$$\\begin{bmatrix} 1 & Sh_y \\\\ Sh_x & 1 \\end{bmatrix}$$ \n",
    "\n",
    "The $Sh_x$ and $Sh_y$ variables represent the shear factor in the **X** and **Y** coordinates respectively.\n",
    "\n",
    "**Scale**\n",
    "$$\\begin{bmatrix} S_x & 0 \\\\ 0 & S_y \\end{bmatrix}$$\n",
    "\n",
    "The $S_x$ and $S_y$ variables represent the scale factor in the **X** and **Y** coordinates respectively.\n",
    "\n",
    "**Rotation**\n",
    "$$\\begin{bmatrix} \\cos(\\theta) & -\\sin(\\theta) \\\\ \\sin(\\theta) & \\cos(\\theta) \\end{bmatrix}$$\n",
    "\n",
    "$\\theta$ defines the angle of rotation.\n",
    "\n",
    "These types of transformations are known as **linear transformations** and they can be represented by the equation $$Ap$$ where $A$ is the 2x2 transformation matrix and $p$ is the coordinate vector.\n",
    "<br>\n",
    "\n",
    "They have the following properties:\n",
    "* Origin maps to the origin\n",
    "* Lines map to lines\n",
    "* Parallel lines remain parallel"
   ]
  },
  {
   "cell_type": "markdown",
   "id": "fe0ac2c9-946a-414c-bf12-a03aaee6fe8b",
   "metadata": {},
   "source": [
    "## 3x3 Matrix Transformations"
   ]
  },
  {
   "cell_type": "markdown",
   "id": "7da32793-49dd-436a-a344-e3b9b64e6397",
   "metadata": {},
   "source": [
    "There are other image transformations that we cannot do using a 2x2 matrix. An example is translation. A translation shifts the whole image, changing the origin. It's equation can be written as:\n",
    "$$\\begin{bmatrix} x \\\\ y  \\end{bmatrix} + \\begin{bmatrix} b_x \\\\ b_y \\end{bmatrix}$$\n",
    "\n",
    "This means that unlike all the transformations above, this transformation requires an additional vector addition. If coupled with any other 2D transformation, then it would require a multiplication and an addition e.g. a scale and a translation would look like:\n",
    "$$\\begin{bmatrix} S_x & 0 \\\\ 0 & S_y \\end{bmatrix} * \\begin{bmatrix} x \\\\ y  \\end{bmatrix} + \\begin{bmatrix} b_x \\\\ b_y \\end{bmatrix}$$"
   ]
  },
  {
   "cell_type": "markdown",
   "id": "fbf83cf2-ed58-448b-8e2f-32bb810792c0",
   "metadata": {},
   "source": [
    "### Homogeneous Coordinates"
   ]
  },
  {
   "cell_type": "markdown",
   "id": "330fae57-dcd6-4dc2-bbb5-e967d9c5cc73",
   "metadata": {},
   "source": [
    "We have seen that in order to do any 2x2 transformation coupled with translation we require one matrix-vector multiplication and one vector-vector addition. It would be nice if we could combine these two operations into one, and we can!\n",
    "<br><br>\n",
    "To achieve this, we have to look at the coordinate system that we have been using up until now, the **cartesian coordinate system**, i.e. the coordinate vector $p$ signifies the pixel at location $(x, y)$ in the image. We can represent the coordinates of a pixel in another way, using **homogeneous coordinates**. To obtain a homogeneous coordinate from a cartesian coordinate, we simply add one extra dimension like so:\n",
    "<br>\n",
    "$\\begin{bmatrix} x \\\\ y  \\end{bmatrix}$ becomes $\\begin{bmatrix} x \\\\ y \\\\ 1 \\end{bmatrix}$. You can visualize this as taking the image plane and placing it in $z$ = 1 plane.\n",
    "\n",
    "<br>\n",
    "To obtain the cartesian coordinate from the homogeneous coordinate, we divide the first two coordinates by the last coordinate.\n",
    "<br>\n",
    "Hence, \n",
    "$\\begin{bmatrix} zx \\\\ zy \\\\ z \\end{bmatrix}$ becomes $\\begin{bmatrix} \\frac{zx}{z} \\\\ \\frac{zy}{z}  \\end{bmatrix}$.\n",
    "\n",
    "### Scale Invariant\n",
    "One thing to note is that homogeneous coordinates are scale invariant. That is to say that a homogeneous coordinate and its scaled version correspond to the same cartesian point. i.e:\n",
    "<br>\n",
    "$\\begin{bmatrix} zx \\\\ zy \\\\ z \\end{bmatrix}$ is similar to $\\begin{bmatrix} x \\\\ y \\\\ 1 \\end{bmatrix}$ for any $(x, y)$ when converted back to the  cartesian coordinate system. The points are just the same point but in different z-plane.\n",
    "\n",
    "<br>\n",
    "Armed with this knowledge, we can rewrite the translation transformation as one 3x3 matrix. Hence, the vector-vector addition $\\begin{bmatrix} x \\\\ y  \\end{bmatrix} + \\begin{bmatrix} b_x \\\\ b_y \\end{bmatrix}$ becomes:\n",
    "\n",
    "$$\\begin{bmatrix}1 & 0 & b_0\\\\0 & 1 & b_1\\\\ 0 & 0 & 1\\end{bmatrix} * \\begin{bmatrix} x \\\\ y \\\\ 1 \\end{bmatrix}$$\n",
    "\n",
    "our new translation matrix. The result of this multiplication is a homogeneous coordinate which we can convert to a cartesian. We can go further than that and represent all 2x2 matrices in this new 3x3 matrix. The example we did earlier of combining a scale and a translation can be represented as one matrix. Hence, $\\begin{bmatrix} S_x & 0 \\\\ 0 & S_y \\end{bmatrix} * \\begin{bmatrix} x \\\\ y  \\end{bmatrix} + \\begin{bmatrix} b_x \\\\ b_y \\end{bmatrix}$ becomes:\n",
    "\n",
    "$$\\begin{bmatrix}S_x & 0 & b_0\\\\0 & S_y & b_1\\\\ 0 & 0 & 1\\end{bmatrix} * \\begin{bmatrix} x \\\\ y \\\\ 1 \\end{bmatrix}$$\n",
    "\n",
    "In fact, all 2x2 transformations can be represented in this 3x3 matrix. We can write the matrix that encaspulates both 2x2 transformations and translation. The matrix below:\n",
    "$$\\begin{bmatrix}A_{00} & A_{01} & b_0\\\\A_{10} & A_{11} & b_1\\\\ 0 & 0 & 1\\end{bmatrix}$$\n",
    "\n",
    "where the 2x2 $A$ matrix allows us to do any 2x2 transformation and the $b$ vector, any translation. Any transformation done on an image that involves this matrix is called an **affine transformation**. In all cases of the affine transform, the last row remains $\\begin{bmatrix}0 & 0 & 1\\end{bmatrix}$."
   ]
  },
  {
   "cell_type": "markdown",
   "id": "b5b875f8-c599-459f-bae8-2d697f13c796",
   "metadata": {},
   "source": [
    "### Properties of Affine Transformations\n",
    "Affine transforms have properties almost similar to 2x2 matrix transformations. However, they differ in the fact that the origin does not necessarily map to the origin."
   ]
  },
  {
   "cell_type": "markdown",
   "id": "601b7fb2-1893-4f94-865f-0f99976d2c00",
   "metadata": {},
   "source": [
    "## Affine Transform using OpenCV"
   ]
  },
  {
   "cell_type": "markdown",
   "id": "be59a5f5-ad1b-4ea0-bfc4-4ba48a7baee6",
   "metadata": {},
   "source": [
    "Let us now illustrate how we can perform affine transforms in OpenCV. OpenCV provides us with a method for perfoming affine transforms, `cv2.warpAffine`. It also provides us a convenience function to get the affine transformation matrix given coordinate points, `cv2.getAffineTransform`. Let us use the two methods to illustrate an affine transform of an image."
   ]
  },
  {
   "cell_type": "code",
   "execution_count": 1,
   "id": "14a3d8eb-6665-4bc7-ac24-533c9f111510",
   "metadata": {},
   "outputs": [],
   "source": [
    "import cv2\n",
    "import numpy as np\n",
    "import matplotlib.pyplot as plt\n",
    "\n",
    "plt.rcParams['image.cmap'] = 'gray'"
   ]
  },
  {
   "cell_type": "code",
   "execution_count": 86,
   "id": "b364d0bb-9ca1-4a36-9c74-8163b3e00319",
   "metadata": {},
   "outputs": [
    {
     "data": {
      "text/plain": [
       "<matplotlib.image.AxesImage at 0x1ee4b14d550>"
      ]
     },
     "execution_count": 86,
     "metadata": {},
     "output_type": "execute_result"
    },
    {
     "data": {
      "image/png": "[encoded data removed]",
      "text/plain": [
       "<Figure size 640x480 with 1 Axes>"
      ]
     },
     "metadata": {},
     "output_type": "display_data"
    }
   ],
   "source": [
    "#creating an image\n",
    "square = np.zeros(apple.shape[:2], np.uint8)\n",
    "square[240: 440, 70:270] = 255\n",
    "plt.imshow(square)"
   ]
  },
  {
   "cell_type": "code",
   "execution_count": 95,
   "id": "c8c620b6-c8c4-4282-844b-1de907dc5417",
   "metadata": {},
   "outputs": [
    {
     "data": {
      "text/plain": [
       "array([[ 1.00000000e+00, -2.10000000e-01,  9.24000000e+01],\n",
       "       [-1.63161665e-16,  1.00000000e+00,  7.24753590e-14]])"
      ]
     },
     "execution_count": 95,
     "metadata": {},
     "output_type": "execute_result"
    }
   ],
   "source": [
    "sq_points1 = np.float32([[70, 240], [270, 240], [70, 440]])\n",
    "sq_points2 = np.float32([[112, 240], [312, 240], [70, 440]])\n",
    "shear_matrix = cv2.getAffineTransform(sq_points1, sq_points2)\n",
    "shear_matrix"
   ]
  },
  {
   "cell_type": "markdown",
   "id": "6d2941eb-5098-43b9-baaf-4802452590c4",
   "metadata": {},
   "source": [
    "The return value of the shear matrix may look surprising at first. However, when we remember how we wrote the affine transformation matrix above, it should not:\n",
    "$$\\begin{bmatrix}A_{00} & A_{01} & b_0\\\\A_{10} & A_{11} & b_1\\\\ 0 & 0 & 1\\end{bmatrix}$$\n",
    "Remember, in order to do this, we had to translate our cartesian coordinates to homogeneous coordinates by adding a 1 for the Z dimension to have $\\begin{bmatrix} x \\\\ y \\\\ 1 \\end{bmatrix}$. When we multiply the two matrices we can see that the bottom row of the matrix does not add much to the resultant coordinates and can be safely ignored. Hence, we can have:\n",
    "$$\\begin{bmatrix}A_{00} & A_{01} & b_0\\\\A_{10} & A_{11} & b_1\\end{bmatrix} * \\begin{bmatrix} x \\\\ y \\\\ 1 \\end{bmatrix}$$\n",
    "<br>\n",
    "The result of `getAffineTransform` is exactly this, a 2x3 matrix (Also, note that since we have 6 unknowns, we need 3 points to find the affine matrix - each point gives us two). We also notice that for this specific case $b_0$ which signifies a translation in the X-direction is non-zero. It may come as a surprise, since we were doing a shear and ended up with a translation. It helps to realize that, a shear in 2D is equivalent to a translation in 3D. In 2D, a shear is a translation of rows and columns, whereas in 3D a shear is a translation of the whole plane.\n",
    "<br><br>\n",
    "With this knowledge, we can now continue to pass the 2x3 shear matrix to the image and apply it to every coordinate and when we do that, we get a sheared image, as below."
   ]
  },
  {
   "cell_type": "code",
   "execution_count": 91,
   "id": "48eec57a-2b0b-4dd2-8089-0d470778a736",
   "metadata": {},
   "outputs": [
    {
     "data": {
      "text/plain": [
       "<matplotlib.image.AxesImage at 0x1ee4b14c440>"
      ]
     },
     "execution_count": 91,
     "metadata": {},
     "output_type": "execute_result"
    },
    {
     "data": {
      "image/png": "[encoded data removed]",
      "text/plain": [
       "<Figure size 640x480 with 1 Axes>"
      ]
     },
     "metadata": {},
     "output_type": "display_data"
    }
   ],
   "source": [
    "sheared_square = cv2.warpAffine(square, shear_matrix, (512, 512))\n",
    "plt.imshow(sheared_square)"
   ]
  },
  {
   "cell_type": "markdown",
   "id": "20a16119-9b00-4228-bd79-2070b637b713",
   "metadata": {},
   "source": [
    "# What Affine Transforms cannot do"
   ]
  },
  {
   "cell_type": "markdown",
   "id": "9c7369b2-0c6a-44fc-82ab-cb753d42c961",
   "metadata": {},
   "source": [
    "Looking at the properties of affine transformations, we notice that there are things they cannot do.\n",
    "Affine transformations:\n",
    "* keep parallel lines parallel\n",
    "* preserve lines and ratios of lines over each line\n",
    "* may not preserve lengths (scale) and angles(shear)\n",
    "\n",
    "The fact that parallel lines remain parallel in an affine transform and that ratios are preserved means that affine transformations cannot correct perspective distortions. An affine transformation can convert an image to a parallelogram, but not to any desired quadilateral as would be the case in perspective transformation.\n",
    "\n",
    "For example, if we try to shrink the left side of the square while the right side remains the same to show it in perspective, the image appears as below. We cannot do this since parallel lines must remain parallel."
   ]
  },
  {
   "cell_type": "code",
   "execution_count": 96,
   "id": "95a1374e-9989-4021-9a67-4064232c9d0b",
   "metadata": {},
   "outputs": [
    {
     "data": {
      "text/plain": [
       "<matplotlib.image.AxesImage at 0x1ee4b124dd0>"
      ]
     },
     "execution_count": 96,
     "metadata": {},
     "output_type": "execute_result"
    },
    {
     "data": {
      "image/png": "[encoded data removed]",
      "text/plain": [
       "<Figure size 640x480 with 1 Axes>"
      ]
     },
     "metadata": {},
     "output_type": "display_data"
    }
   ],
   "source": [
    "rand_points = np.float32([[70, 290], [312, 240], [70, 390]])\n",
    "morph_matrix = cv2.getAffineTransform(sq_points1, rand_points)\n",
    "morphed_square = cv2.warpAffine(square, morph_matrix, (512, 512))\n",
    "plt.imshow(morphed_square)"
   ]
  },
  {
   "cell_type": "markdown",
   "id": "cbe568b4-b355-43d5-b01e-c8d4e2179ac2",
   "metadata": {},
   "source": [
    "This is the result we obtain from this operation. Since parallel lines still remain parallel we cannot show  the square from a different perspective."
   ]
  },
  {
   "cell_type": "markdown",
   "id": "51931396-586e-49f4-aaba-d4542b9584bd",
   "metadata": {},
   "source": [
    "Next, we will look at how we can correct and introduce perspectives to 2D images."
   ]
  },
  {
   "cell_type": "markdown",
   "id": "815bda6d-a46b-4e40-97cd-541175471697",
   "metadata": {},
   "source": [
    "## Shear affine transform"
   ]
  },
  {
   "attachments": {},
   "cell_type": "markdown",
   "id": "e3d65f29-a4b3-4f24-a55d-5a6926f53ec7",
   "metadata": {},
   "source": [
    "We will briefly illustrate how a shear can be implemented. We start with a simple function to shear a coordinate given the coordinate matrix."
   ]
  },
  {
   "cell_type": "code",
   "execution_count": 3,
   "id": "3e3ae454-8ce2-4a6d-8b8e-98402d7e88d0",
   "metadata": {},
   "outputs": [],
   "source": [
    "def shear_coord(coord, matrix):\n",
    "    \"\"\"\n",
    "    Given a coordinate and a matrix, it returns the sheared coordinate.\n",
    "    \"\"\"\n",
    "\n",
    "    try:\n",
    "        return np.int32(np.ceil(matrix.dot(coord)))\n",
    "    except:\n",
    "        try:\n",
    "            return np.int32(np.ceil(coord.dot(matrix)))\n",
    "        except:\n",
    "            print(\"Incompatible types!\")"
   ]
  },
  {
   "cell_type": "markdown",
   "id": "e2b4bb18-c8d3-404c-838e-79bb72b17b91",
   "metadata": {},
   "source": [
    "We have separated the horizontal and vertical shears."
   ]
  },
  {
   "cell_type": "code",
   "execution_count": 4,
   "id": "f3af3fc5-d26c-4dc4-ba13-22695f72fe76",
   "metadata": {},
   "outputs": [],
   "source": [
    "def shear_horizontal(img, value):\n",
    "    \"\"\"\n",
    "    Shear an image horizontally.\n",
    "    The value given will be filled into the horizontal shear matrix.\n",
    "    \"\"\"\n",
    "    if value == 0:\n",
    "        return img\n",
    "\n",
    "    result = np.zeros_like(img)\n",
    "\n",
    "    if len(img.shape) == 3:\n",
    "        # Handle 3-channel img as 3 1-channel ones\n",
    "        result[:, :, 0] = shear_horizontal(img[:, :, 0], value)\n",
    "        result[:, :, 1] = shear_horizontal(img[:, :, 1], value)\n",
    "        result[:, :, 2] = shear_horizontal(img[:, :, 2], value)\n",
    "        \n",
    "        return result\n",
    "    else:\n",
    "        shear_matrix = np.array([[1, value],[0 , 1]])\n",
    "        row_choice = 0\n",
    "        for y in range(img.shape[0] - 1, -1, -1):\n",
    "            # count backwards to symbolize that\n",
    "            # origin is at bottom left corner\n",
    "            left = np.array([0, y], np.int32)\n",
    "            left_shear = shear_coord(left, shear_matrix)\n",
    "    \n",
    "            #splice into result\n",
    "            if left_shear[0] > 0:\n",
    "                take = img.shape[1] - left_shear[0]\n",
    "                if take > 0:\n",
    "                    result[row_choice, left_shear[0]:] = img[row_choice, :take]\n",
    "            else:\n",
    "                take = img.shape[1] + left_shear[0]\n",
    "                if take > 0:\n",
    "                    result[row_choice, :take] = img[row_choice, -take:]\n",
    "            \n",
    "            row_choice += 1 \n",
    "        return result"
   ]
  },
  {
   "cell_type": "code",
   "execution_count": 5,
   "id": "c27da639-b13e-43cb-b03c-8c75164898c2",
   "metadata": {},
   "outputs": [],
   "source": [
    "def shear_vertical(img, value):\n",
    "    \"\"\"\n",
    "    Shear an image, vertically.\n",
    "    The value given will be filled into the vertical shear matrix.\n",
    "    \"\"\"\n",
    "    if value == 0:\n",
    "        return img\n",
    "    \n",
    "    result = np.zeros_like(img)\n",
    "\n",
    "    if len(img.shape) == 3:\n",
    "        result[:, :, 0] = shear_vertical(img[:, :, 0], value)\n",
    "        result[:, :, 1] = shear_vertical(img[:, :, 1], value)\n",
    "        result[:, :, 2] = shear_vertical(img[:, :, 2], value)\n",
    "        \n",
    "        return result\n",
    "    else:\n",
    "        shear_matrix = np.array([[1, 0],[value , 1]])\n",
    "        col_choice = 0\n",
    "        for x in range(0, img.shape[0]):\n",
    "            up = np.array([x, img.shape[0]-1], np.int32) \n",
    "            up_shear = shear_coord(up, shear_matrix)\n",
    "            \n",
    "            #splice into result\n",
    "            if up_shear[1] > img.shape[0]:\n",
    "                remove = up_shear[1] - (img.shape[0] - 1)\n",
    "                take = img.shape[1] - remove\n",
    "                if take > 0:\n",
    "                    result[:take, col_choice] = img[remove:, col_choice]\n",
    "            else:\n",
    "                remove = img.shape[0] - up_shear[1]\n",
    "                take = img.shape[1] - remove\n",
    "                if take > 0:\n",
    "                    result[remove:, col_choice] = img[:take, col_choice]\n",
    "            \n",
    "            col_choice += 1\n",
    "        return result"
   ]
  },
  {
   "cell_type": "markdown",
   "id": "4dc8bcb4-4c44-457f-812a-83364a534742",
   "metadata": {},
   "source": [
    "The two methods above `shear_horizontal` and `shear_vertical` are not meant to be called directly but are called from within the `shear` function below. "
   ]
  },
  {
   "cell_type": "code",
   "execution_count": 6,
   "id": "f36dccec-4815-4c4a-be3e-4bd4c5cc1edf",
   "metadata": {},
   "outputs": [],
   "source": [
    "def shear(img, vertical = 0, horizontal = 0):\n",
    "    \"\"\"\n",
    "    Given an image and the vertical and horizontal shear,\n",
    "    return the sheared image.\n",
    "    The vertical and horizontal values can be float & -ve.\n",
    "    \"\"\"\n",
    "\n",
    "    if vertical == 0 and horizontal == 0:\n",
    "        return img\n",
    "\n",
    "    res = shear_vertical(shear_horizontal(img, horizontal), vertical)\n",
    "    return res    "
   ]
  },
  {
   "cell_type": "markdown",
   "id": "0e3e69e1-1c17-4aee-8bc1-254598562109",
   "metadata": {},
   "source": [
    "## An Illustration"
   ]
  },
  {
   "cell_type": "code",
   "execution_count": 80,
   "id": "f7ca48ba-7a9a-4c88-8ef8-d6ac916175ca",
   "metadata": {},
   "outputs": [
    {
     "data": {
      "text/plain": [
       "(-0.5, 511.5, 511.5, -0.5)"
      ]
     },
     "execution_count": 80,
     "metadata": {},
     "output_type": "execute_result"
    },
    {
     "data": {
      "image/png": "[encoded data removed]",
      "text/plain": [
       "<Figure size 1000x1000 with 2 Axes>"
      ]
     },
     "metadata": {},
     "output_type": "display_data"
    }
   ],
   "source": [
    "apple = cv2.imread('images/apple.png')\n",
    "sheared_apple = shear(apple, .1, .3)\n",
    "\n",
    "plt.figure(figsize=[10, 10])\n",
    "plt.subplot(121); plt.imshow(apple[:, :, ::-1]); plt.title('Original'); plt.axis('off')\n",
    "plt.subplot(122); plt.imshow(sheared_apple[:, :, ::-1]); plt.title('Sheared'); plt.axis('off')"
   ]
  },
  {
   "cell_type": "markdown",
   "id": "3afeeb22-30bc-4380-9220-d7fb833cf5dd",
   "metadata": {},
   "source": [
    "More information can be found in the links here: [**1**](https://stackoverflow.com/questions/45637472/opencv-transformationmatrix-affine-vs-perspective-warping), [**2**](https://www.mathworks.com/discovery/affine-transformation.html#:~:text=Affine%20transformation%20is%20a%20linear,with%20non%2Dideal%20camera%20angles.), [**3**](https://www.youtu.be/AheaTd_l5Is), [**4**](https://youtu.be/K2XLXlyPqCA)"
   ]
  }
 ],
 "metadata": {
  "kernelspec": {
   "display_name": "opencv-env",
   "language": "python",
   "name": "opencv-env"
  },
  "language_info": {
   "codemirror_mode": {
    "name": "ipython",
    "version": 3
   },
   "file_extension": ".py",
   "mimetype": "text/x-python",
   "name": "python",
   "nbconvert_exporter": "python",
   "pygments_lexer": "ipython3",
   "version": "3.12.2"
  }
 },
 "nbformat": 4,
 "nbformat_minor": 5
}
