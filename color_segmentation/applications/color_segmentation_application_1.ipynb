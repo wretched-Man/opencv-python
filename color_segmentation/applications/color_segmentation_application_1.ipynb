{
 "cells": [
  {
   "cell_type": "markdown",
   "id": "b414c481-2d91-4145-ab12-99883e635955",
   "metadata": {},
   "source": [
    "# Deforestation Analysis using Color Segmentation"
   ]
  },
  {
   "cell_type": "markdown",
   "id": "b2574795-941c-4696-a8ff-702bc4b67c6e",
   "metadata": {},
   "source": [
    "We have been looking at histograms, histogram equalization, color segmentation using HSV color space. We are now going to look at one application in the area of deforestation management."
   ]
  },
  {
   "cell_type": "markdown",
   "id": "d57b64f5-862a-451f-b60e-edde221659a3",
   "metadata": {},
   "source": [
    "We will also have a look at using histograms to determine the lower and upper bounds for segmentation using in-range function."
   ]
  },
  {
   "cell_type": "markdown",
   "id": "44e83268-5312-46be-9007-14d2c6d3b442",
   "metadata": {},
   "source": [
    "We will have a look at four images showing human settlement and deforestation. We will analyze them in HSV and BGR and map out the forest cover as a percentage of total land area."
   ]
  },
  {
   "cell_type": "code",
   "execution_count": null,
   "id": "13f7db69-5248-402c-a9ae-0c0210817456",
   "metadata": {},
   "outputs": [],
   "source": [
    "#loading the images\n",
    "import cv2\n",
    "import glob\n",
    "import matplotlib.pyplot as plt\n",
    "import numpy as np\n",
    "\n",
    "plt.rcParams['image.cmap'] = 'gray'"
   ]
  },
  {
   "cell_type": "markdown",
   "id": "8deecf9f-163f-4a1e-b10e-a0872810fb10",
   "metadata": {},
   "source": [
    "We will now load and display the 1985 and 2011 images."
   ]
  },
  {
   "cell_type": "code",
   "execution_count": null,
   "id": "e67a5408-fa01-49e3-a155-9ddc7bbd2b27",
   "metadata": {},
   "outputs": [],
   "source": [
    "image1985 = cv2.imread('images/1985.jpg')\n",
    "image2011 = cv2.imread('images/2011.jpg')"
   ]
  },
  {
   "cell_type": "code",
   "execution_count": null,
   "id": "5a255ca4-9c8b-488d-95b1-a83467a45415",
   "metadata": {},
   "outputs": [],
   "source": [
    "plt.figure(figsize=[10, 8])\n",
    "plt.subplot(121); plt.imshow(image1985[:, :, ::-1]); plt.title('1985')\n",
    "plt.subplot(122); plt.imshow(image2011[:, :, ::-1]); plt.title('2011')"
   ]
  },
  {
   "cell_type": "markdown",
   "id": "2cba32e2-162d-4c6c-a6fa-062e2119d551",
   "metadata": {},
   "source": [
    "We see a comparable difference between the two images. What we now want to do is to segment the images. We have previously done this in HSV but we can also segment according to RGB. We know that vegetation is green, hence we will want to segment according to the green channel. We will go ahead and plot the histograms for the channels for both images to find the correct threshold values."
   ]
  },
  {
   "cell_type": "markdown",
   "id": "0d82aa58-58e2-413f-81c2-2bff875f5969",
   "metadata": {},
   "source": [
    "## Color Segmentation in RGB"
   ]
  },
  {
   "cell_type": "code",
   "execution_count": null,
   "id": "134c9d92-4684-41fc-a385-391ef265c1b4",
   "metadata": {},
   "outputs": [],
   "source": [
    "#We create a utility function to plot the histograms\n",
    "#It takes a BGR image and plots the histograms for the\n",
    "#various channels\n",
    "def build_hist_rgb(img, title = '', yscale = 'linear'):\n",
    "    assert(img.shape[2] == 3) #has 3 channels\n",
    "\n",
    "    #Build the histograms\n",
    "    blue_hist=cv2.calcHist([img], [0], None, [256], [0, 255])\n",
    "    green_hist=cv2.calcHist([img], [1], None, [256], [0, 255])\n",
    "    red_hist=cv2.calcHist([img], [2], None, [256], [0, 255])\n",
    "    \n",
    "    fig = plt.figure(figsize=[20, 5])\n",
    "    fig.suptitle(title)\n",
    "    #Blue channel\n",
    "    ax = fig.add_subplot(1, 3, 1)\n",
    "    #Setting y scale\n",
    "    if(yscale == 'log'):\n",
    "        ax.set_yscale(yscale, base=2)\n",
    "    else:\n",
    "        ax.set_yscale(yscale)\n",
    "    ax.plot(blue_hist, color = 'b', label = 'Blue')\n",
    "    ax.grid()\n",
    "    ax.legend()\n",
    "    \n",
    "    #Green channel\n",
    "    ax = fig.add_subplot(1, 3, 2)\n",
    "    \n",
    "    #Setting y scale\n",
    "    if(yscale == 'log'):\n",
    "        ax.set_yscale(yscale, base=2)\n",
    "    else:\n",
    "        ax.set_yscale(yscale)\n",
    "    \n",
    "    ax.plot(green_hist, color = 'g', label = 'Green')\n",
    "    ax.grid()\n",
    "    ax.legend()\n",
    "\n",
    "    #Red channel\n",
    "    ax = fig.add_subplot(1, 3, 3)\n",
    "    \n",
    "    #Setting y scale\n",
    "    if(yscale == 'log'):\n",
    "        ax.set_yscale(yscale, base=2)\n",
    "    else:\n",
    "        ax.set_yscale(yscale)\n",
    "\n",
    "    ax.plot(red_hist, color = 'r', label = 'Red')\n",
    "    ax.grid()\n",
    "    ax.legend()\n",
    "\n",
    "build_hist_rgb(image1985, '1985 - Linear')\n",
    "build_hist_rgb(image2011, '2011 - Linear')"
   ]
  },
  {
   "cell_type": "markdown",
   "id": "687b2060-5f01-4680-b2a0-e33fa67a0492",
   "metadata": {},
   "source": [
    "Above, we have plotted the histograms for all the channels of the 1985 and 2011 image. We can note that the images are relatively dark as most pixels are within the range of less than 100 for all the channels (the histograms are skewed left). We also see that the peak is at between 50 -100. We can get a better look at the distribution by using a log y-scale to reduce skewness in the data."
   ]
  },
  {
   "cell_type": "code",
   "execution_count": null,
   "id": "ec000dc8-7be3-45be-812a-0ddddc179c28",
   "metadata": {},
   "outputs": [],
   "source": [
    "build_hist_rgb(image1985, '1985 - Log', 'log')\n",
    "build_hist_rgb(image2011, '2011 - Log', 'log')"
   ]
  },
  {
   "cell_type": "markdown",
   "id": "fe2083a0-ae66-4178-8207-a9c81403aee7",
   "metadata": {},
   "source": [
    "In the previous plot, the high peaks overshadowed the rest of the regions. Now, however we can properly see that there are other values beyond the peaks. We see two peaks, one between 70 - 100 and another bump starting from 150 and declining past 200 for the 2011 green histogram. For the 1985 green histogram, we see only one dominant peak and the bump is smaller. This could suggest the two dominant areas in the images, the vegetation being the high peak and the small but increasing bump being the human settlement. We can use these values to create an inRange function. We need only use the green portion and limit the values to between 50 and 100 and we will properly segment our image. In this example we have used two histograms to set the threshold value for all images, for more fine grained access, we could use each image's histogram."
   ]
  },
  {
   "cell_type": "code",
   "execution_count": null,
   "id": "460d3ad9-dd2b-41bc-b528-4c62d3267aef",
   "metadata": {},
   "outputs": [],
   "source": [
    "#Build utility function to produce image masks in rgb\n",
    "def build_masks(img, lower=[0, 50, 0], upper=[255, 100, 255]):\n",
    "    #For the blue and red channels, we put lower and upper as the utmost min\n",
    "    #and max values. For the green channel, we confine our value range to\n",
    "    #65 - 120\n",
    "\n",
    "    return cv2.inRange(img, np.array(lower), np.array(upper))"
   ]
  },
  {
   "cell_type": "code",
   "execution_count": null,
   "id": "0136a225-1f99-4460-9112-5591d4ec304a",
   "metadata": {},
   "outputs": [],
   "source": [
    "#We will calculate forest percentage\n",
    "def percent_forest(img):\n",
    "    total = img.shape[0] * img.shape[1]\n",
    "\n",
    "    cover = cv2.countNonZero(img)\n",
    "\n",
    "    return round((cover / total) * 100, 2)"
   ]
  },
  {
   "cell_type": "code",
   "execution_count": null,
   "id": "86dbb786-833f-4b28-89d0-bb0eeec80929",
   "metadata": {},
   "outputs": [],
   "source": [
    "#We will now display and build masks for all the images and display them side by side\n",
    "#We will also display the forest cover as a percentage of the whole mass\n",
    "#capture all images\n",
    "images = glob.glob('images/*.jpg')\n",
    "fig = plt.figure(figsize=[10, 15])\n",
    "count = 1\n",
    "\n",
    "for image in images:\n",
    "    #read the image\n",
    "    img_x = cv2.imread(image)\n",
    "\n",
    "    #build a mask\n",
    "    img_mask = build_masks(img_x)\n",
    "\n",
    "    #display image and mask\n",
    "    ax = fig.add_subplot(4, 2, count)\n",
    "    ax.imshow(img_x[:, :, ::-1])\n",
    "    ax.set_title('Original - ' + image[7:11])\n",
    "\n",
    "    ax = fig.add_subplot(4, 2, count+1)\n",
    "    ax.imshow(img_mask, vmin=0)\n",
    "    ax.set_title(image[7:11] + ' Forest Cover: ' + str(percent_forest(img_mask)) + '%')\n",
    "    \n",
    "    count += 2"
   ]
  },
  {
   "cell_type": "markdown",
   "id": "c350d40a-3faa-4651-a134-1b03925c704b",
   "metadata": {},
   "source": [
    "There we have it. The general cover of forest is decreasing with time. let us use the HSV color space to see if we will have better results."
   ]
  },
  {
   "cell_type": "markdown",
   "id": "ce67d392-e9c6-409a-a8b8-295b7f2a7dcf",
   "metadata": {},
   "source": [
    "## Color Segmentation in HSV"
   ]
  },
  {
   "cell_type": "markdown",
   "id": "316c50b0-3fb0-42fc-a2d8-58cc3dba14fb",
   "metadata": {},
   "source": [
    "We are now going to use the HSV color channel. We will be most interested in the green hue. HSV color space is nearer to how humans understand color."
   ]
  },
  {
   "cell_type": "code",
   "execution_count": null,
   "id": "3e09dca1-af28-4ae6-9118-0bc7e9cf4f56",
   "metadata": {},
   "outputs": [],
   "source": [
    "#Utility function to plot HSV histograms\n",
    "def build_hist_hsv(img, title = '', yscale = 'linear'):\n",
    "    assert(img.shape[2] == 3) #has 3 channels\n",
    "\n",
    "    #Build the histograms\n",
    "    hue_hist=cv2.calcHist([img], [0], None, [180], [0, 179])\n",
    "    sat_hist=cv2.calcHist([img], [1], None, [256], [0, 255])\n",
    "    val_hist=cv2.calcHist([img], [2], None, [256], [0, 255])\n",
    "    \n",
    "    fig = plt.figure(figsize=[20, 5])\n",
    "    fig.suptitle(title)\n",
    "    #Blue channel\n",
    "    ax = fig.add_subplot(1, 3, 1)\n",
    "    #Setting y scale\n",
    "    if(yscale == 'log'):\n",
    "        ax.set_yscale(yscale, base=2)\n",
    "    else:\n",
    "        ax.set_yscale(yscale)\n",
    "    ax.plot(hue_hist, color = 'b', label = 'Hue')\n",
    "    ax.grid()\n",
    "    ax.legend()\n",
    "    \n",
    "    #Green channel\n",
    "    ax = fig.add_subplot(1, 3, 2)\n",
    "    \n",
    "    #Setting y scale\n",
    "    if(yscale == 'log'):\n",
    "        ax.set_yscale(yscale, base=2)\n",
    "    else:\n",
    "        ax.set_yscale(yscale)\n",
    "    \n",
    "    ax.plot(sat_hist, color = 'g', label = 'Saturation')\n",
    "    ax.grid()\n",
    "    ax.legend()\n",
    "\n",
    "    #Red channel\n",
    "    ax = fig.add_subplot(1, 3, 3)\n",
    "    \n",
    "    #Setting y scale\n",
    "    if(yscale == 'log'):\n",
    "        ax.set_yscale(yscale, base=2)\n",
    "    else:\n",
    "        ax.set_yscale(yscale)\n",
    "\n",
    "    ax.plot(val_hist, color = 'r', label = 'Value')\n",
    "    ax.grid()\n",
    "    ax.legend()"
   ]
  },
  {
   "cell_type": "code",
   "execution_count": null,
   "id": "1b196f26-c46b-4fbe-a836-a013070004f5",
   "metadata": {},
   "outputs": [],
   "source": [
    "#convert 1985 & 2011 to HSV and plot\n",
    "image1985_hsv = cv2.cvtColor(image1985, cv2.COLOR_BGR2HSV)\n",
    "image2011_hsv = cv2.cvtColor(image2011, cv2.COLOR_BGR2HSV)\n",
    "\n",
    "#plotting their HSV values\n",
    "build_hist_hsv(image1985_hsv, '1985 - HSV - Linear')\n",
    "build_hist_hsv(image2011_hsv, '2011 - HSV - Linear')"
   ]
  },
  {
   "cell_type": "markdown",
   "id": "40d352f7-ed6a-41e2-bedc-1b8767f80978",
   "metadata": {},
   "source": [
    "Looking at the hue, the value picks highest at around 50. We see that the peak is greater in 1985 than in 2011, at over 200K against 80K. We also see a smaller bump before the major peak in 1985. The bump becomes larger in the 2011 plot at over 40K.\n",
    "\n",
    "Over at the value section, we note with interest that, for 2011, on top of the major peak at ~100, ther is a small bump rising from 150, with its highest at ~190. Let us plot the log plots to see."
   ]
  },
  {
   "cell_type": "code",
   "execution_count": null,
   "id": "2a8e5c0f-bcb6-4709-95aa-2b52ab4cf235",
   "metadata": {},
   "outputs": [],
   "source": [
    "#plotting their HSV values\n",
    "build_hist_hsv(image1985_hsv, '1985 - HSV - Linear', 'log')\n",
    "build_hist_hsv(image2011_hsv, '2011 - HSV - Linear', 'log')"
   ]
  },
  {
   "cell_type": "markdown",
   "id": "18a24b79-d21e-46dd-b7a0-e10fa8c4b689",
   "metadata": {},
   "source": [
    "We see that the second smaller bump in the Hue section is more significant than in the linear plot. We also see that the second bump in the Value channel is more pronounced in 2011 than in 1985.\n",
    "\n",
    "We will cap our Hue at the considerable dip between 50 and 75, around 65. We can also cap our value at where the high peak starts falling, around 105."
   ]
  },
  {
   "cell_type": "code",
   "execution_count": null,
   "id": "149388a7-e1eb-446b-862c-b79c14835e7f",
   "metadata": {},
   "outputs": [],
   "source": [
    "#Just like we did, we will also plot the images with their masks,\n",
    "#We will also display the forest cover as a percentage of the whole mass\n",
    "#We hope to comapre the ranges for RGB and HSV\n",
    "images = glob.glob('images/*.jpg')\n",
    "fig = plt.figure(figsize=[10, 15])\n",
    "count = 1\n",
    "\n",
    "for image in images:\n",
    "    #read the image\n",
    "    img_x = cv2.imread(image)\n",
    "\n",
    "    #convert to HSV\n",
    "    img_hsv = cv2.cvtColor(img_x, cv2.COLOR_BGR2HSV)\n",
    "\n",
    "    #build a mask\n",
    "    img_mask = build_masks(img_hsv, np.array([40, 0, 0]), np.array([65, 255, 105]))\n",
    "\n",
    "    #display image and mask\n",
    "    ax = fig.add_subplot(4, 2, count)\n",
    "    ax.imshow(img_x[:, :, ::-1])\n",
    "    ax.set_title('Original - ' + image[7:11])\n",
    "\n",
    "    ax = fig.add_subplot(4, 2, count+1)\n",
    "    ax.imshow(img_mask, vmin=0)\n",
    "    ax.set_title(image[7:11] + ' Forest Cover: ' + str(percent_forest(img_mask)) + '%')\n",
    "    \n",
    "    count += 2"
   ]
  },
  {
   "cell_type": "markdown",
   "id": "4f284b0a-6642-45a6-a283-0ae9ebd98c5d",
   "metadata": {},
   "source": [
    "The forest cover as we see here is smaller than in the BGR color space. However, the differences are minor and they all show a significant degree of change as the years progress."
   ]
  },
  {
   "cell_type": "markdown",
   "id": "81ed467a-e87a-4cdb-a34b-efcb3d1016c4",
   "metadata": {},
   "source": [
    "So, there we have it. Color segmentation with OpenCV."
   ]
  }
 ],
 "metadata": {
  "kernelspec": {
   "display_name": "opencv-env",
   "language": "python",
   "name": "opencv-env"
  },
  "language_info": {
   "codemirror_mode": {
    "name": "ipython",
    "version": 3
   },
   "file_extension": ".py",
   "mimetype": "text/x-python",
   "name": "python",
   "nbconvert_exporter": "python",
   "pygments_lexer": "ipython3",
   "version": "3.12.2"
  }
 },
 "nbformat": 4,
 "nbformat_minor": 5
}
