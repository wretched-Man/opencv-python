{
 "cells": [
  {
   "cell_type": "markdown",
   "id": "a8fb8646-5ae7-4c46-9961-82603acdd8ac",
   "metadata": {},
   "source": [
    "# Color Segmentation"
   ]
  },
  {
   "cell_type": "markdown",
   "id": "5e75fd43-3302-4cbb-95af-7e424251555e",
   "metadata": {},
   "source": [
    "In this notebook we will use the HSV color space to segment images based on color."
   ]
  },
  {
   "cell_type": "code",
   "execution_count": null,
   "id": "aa4537d8-3671-4f16-ac3e-b7e72b99548e",
   "metadata": {},
   "outputs": [],
   "source": [
    "import numpy as np\n",
    "import cv2\n",
    "import matplotlib.pyplot as plt\n",
    "plt.rcParams['image.cmap'] = 'gray'"
   ]
  },
  {
   "cell_type": "markdown",
   "id": "e168ec3e-8808-40af-a8d2-277c7c39783e",
   "metadata": {},
   "source": [
    "We will use a color dictionary that will enable us to choose the colors that we want"
   ]
  },
  {
   "cell_type": "code",
   "execution_count": null,
   "id": "bb375e10-0546-4d1b-8e8f-13fe74e7cffc",
   "metadata": {},
   "outputs": [],
   "source": [
    "color_dict_HSV = {'black': [[180, 255, 30], [0, 0, 0]],\n",
    "              'white': [[180, 18, 255], [0, 0, 231]],\n",
    "              'red1': [[180, 255, 255], [159, 50, 70]],\n",
    "              'red2': [[9, 255, 255], [0, 50, 70]],\n",
    "              'green': [[89, 255, 255], [36, 50, 70]],\n",
    "              'blue': [[128, 255, 255], [90, 50, 70]],\n",
    "              'yellow': [[35, 255, 255], [25, 50, 70]],\n",
    "              'purple': [[158, 255, 255], [129, 50, 70]],\n",
    "              'orange': [[24, 255, 255], [10, 50, 70]],\n",
    "              'gray': [[180, 18, 230], [0, 0, 40]]}"
   ]
  },
  {
   "cell_type": "markdown",
   "id": "df462b95-9256-479f-bd5d-d1b36217e3cb",
   "metadata": {},
   "source": [
    "Let us now take a look at examples of segmentation."
   ]
  },
  {
   "cell_type": "markdown",
   "id": "d57d77a7-cf7f-4ace-afa2-a6f45a60721a",
   "metadata": {},
   "source": [
    "## First Example"
   ]
  },
  {
   "cell_type": "code",
   "execution_count": null,
   "id": "c2fa0b35-c66e-4f4b-8939-ccc9d56837e4",
   "metadata": {},
   "outputs": [],
   "source": [
    "cat_alley = cv2.imread('images/cat_alley_segment.jpg', cv2.IMREAD_COLOR)\n",
    "\n",
    "plt.figure(figsize=[10,5])\n",
    "plt.imshow(cat_alley[:, :, ::-1])"
   ]
  },
  {
   "cell_type": "markdown",
   "id": "ab74180c-dd6a-410e-837b-49f1994546c5",
   "metadata": {},
   "source": [
    "We are going to segment the image above (most of it atleast). To do this, we will use cv2.inRange function with the HSV of this image. It returns a mask (values 0 & 255)."
   ]
  },
  {
   "cell_type": "markdown",
   "id": "418bc328-d0dd-44b9-bfcc-c0d26c09a31f",
   "metadata": {},
   "source": [
    "Just a note: Hue is about identifying the core color. It refers to the dominant color family of a specific color. It’s the underlying base color of the mixture you’re looking at"
   ]
  },
  {
   "cell_type": "code",
   "execution_count": null,
   "id": "cad0b4e0-1c53-4025-9d8f-f51e1758eb37",
   "metadata": {},
   "outputs": [],
   "source": [
    "#convert to hsv\n",
    "cat_hsv = cv2.cvtColor(cat_alley, cv2.COLOR_BGR2HSV)"
   ]
  },
  {
   "cell_type": "code",
   "execution_count": null,
   "id": "e3218025-af6e-43f7-8618-030327690d3d",
   "metadata": {},
   "outputs": [],
   "source": [
    "#returns a mask\n",
    "def mask_builder(hsv, hue):\n",
    "    lower = np.array(color_dict_HSV[hue][1])\n",
    "    upper = np.array(color_dict_HSV[hue][0])\n",
    "\n",
    "    return cv2.inRange(hsv, lower, upper) #mask"
   ]
  },
  {
   "cell_type": "markdown",
   "id": "ef4684e9-4280-488c-b0df-7e7115d70e40",
   "metadata": {},
   "source": [
    "The cat image contains many different hues so we will create various masks"
   ]
  },
  {
   "cell_type": "code",
   "execution_count": null,
   "id": "2ed669ff-017d-44b3-9418-91b75e40f056",
   "metadata": {},
   "outputs": [],
   "source": [
    "red1_mask = mask_builder(cat_hsv, 'red1')\n",
    "red2_mask = mask_builder(cat_hsv, 'red2')\n",
    "orange_mask = mask_builder(cat_hsv, 'orange')"
   ]
  },
  {
   "cell_type": "code",
   "execution_count": null,
   "id": "0dd73198-29bf-4be1-a73d-b35dc81097af",
   "metadata": {},
   "outputs": [],
   "source": [
    "#A combination of reds\n",
    "reds = cv2.bitwise_or(red1_mask, red2_mask)\n",
    "\n",
    "#A combination of reds and orange\n",
    "red_oranges = cv2.bitwise_or(orange_mask, reds)"
   ]
  },
  {
   "cell_type": "code",
   "execution_count": null,
   "id": "1b6d7af5-4ad0-49ee-97a8-9b1cce4d283a",
   "metadata": {},
   "outputs": [],
   "source": [
    "#This is what we have as our final mask\n",
    "plt.figure(figsize=[10, 5])\n",
    "plt.imshow(red_oranges)"
   ]
  },
  {
   "cell_type": "code",
   "execution_count": null,
   "id": "eab5318d-39e9-4a54-a35f-1b4644e6fa06",
   "metadata": {},
   "outputs": [],
   "source": [
    "#Now to build our image\n",
    "#We and the BGR image with itself and apply the inRange mask\n",
    "cat_segment = cv2.bitwise_and(cat_alley, cat_alley, mask=red_oranges)\n",
    "\n",
    "plt.figure(figsize=[10, 5])\n",
    "plt.imshow(cat_segment[:, :, ::-1])"
   ]
  },
  {
   "cell_type": "markdown",
   "id": "ada23436-292c-4e2e-a0af-376122288a6d",
   "metadata": {},
   "source": [
    "Wow! Our cat is missing 3 legs and an eye... Oh well! We can also do this by using the Hue channel."
   ]
  },
  {
   "cell_type": "code",
   "execution_count": null,
   "id": "f6b12e66-7f12-4484-8f30-5288e4b0ac56",
   "metadata": {},
   "outputs": [],
   "source": [
    "#We will take the hue channel and threshold it,\n",
    "#making it a mask\n",
    "_, hue_mask = cv2.threshold(cat_hsv[:, :, 0], 50, 255, cv2.THRESH_BINARY_INV)\n",
    "\n",
    "plt.figure(figsize=[10, 5])\n",
    "plt.subplot(121); plt.imshow(cat_hsv[:, :, 0]); plt.title('Hue Channel')\n",
    "plt.subplot(122); plt.imshow(hue_mask); plt.title('Hue Mask')"
   ]
  },
  {
   "cell_type": "markdown",
   "id": "773cf7e4-ee47-4854-9c8b-5baf7ef7002c",
   "metadata": {},
   "source": [
    "We see that the hue mask will give us a better image. We now use it."
   ]
  },
  {
   "cell_type": "code",
   "execution_count": null,
   "id": "17230d89-5e89-42d2-a97c-eb98eb4a87bd",
   "metadata": {},
   "outputs": [],
   "source": [
    "cat_hue_segment = cv2.bitwise_and(cat_alley, cat_alley, mask=hue_mask)\n",
    "\n",
    "plt.figure(figsize=[10, 5])\n",
    "plt.imshow(cat_hue_segment[:, :, ::-1])"
   ]
  },
  {
   "cell_type": "markdown",
   "id": "b21c9dd6-6950-4de3-b4a9-2943f9fdc6c1",
   "metadata": {},
   "source": [
    "We see we now have a better image."
   ]
  },
  {
   "cell_type": "markdown",
   "id": "8c05be29-f5c6-4a5f-9384-13b5f8ca6995",
   "metadata": {},
   "source": [
    "## Second Example"
   ]
  },
  {
   "cell_type": "code",
   "execution_count": null,
   "id": "c69db1d1-069e-4872-a46f-e1afd83daa22",
   "metadata": {},
   "outputs": [],
   "source": [
    "#We will now try a second example... a flower\n",
    "flower_plus = cv2.imread('images/red_hibiscus.jpg')\n",
    "\n",
    "plt.figure(figsize=[10, 5])\n",
    "plt.imshow(flower_plus[:, :, ::-1])"
   ]
  },
  {
   "cell_type": "markdown",
   "id": "94a9d3fe-9843-477e-be4e-c0a242a218ec",
   "metadata": {},
   "source": [
    "Our aim is to segment the flower portion only. For that we need to know the hues that make it up."
   ]
  },
  {
   "cell_type": "code",
   "execution_count": null,
   "id": "6a2f6ef3-0d57-47f4-816c-37e6e95dbe59",
   "metadata": {},
   "outputs": [],
   "source": [
    "#We convert to hsv\n",
    "flower_hsv = cv2.cvtColor(flower_plus, cv2.COLOR_BGR2HSV)"
   ]
  },
  {
   "cell_type": "code",
   "execution_count": null,
   "id": "c1082b99-f196-4cc7-9ad7-a03b3125a057",
   "metadata": {},
   "outputs": [],
   "source": [
    "#Here I only build the red1 and orange color masks\n",
    "#However, prevoiusly I had built multiple and displayed them\n",
    "#to see which primary colors exist in the image\n",
    "red1_mask = mask_builder(flower_hsv, 'red1')\n",
    "red2_mask = mask_builder(flower_hsv, 'red2')\n",
    "orange_mask = mask_builder(flower_hsv, 'orange')"
   ]
  },
  {
   "cell_type": "code",
   "execution_count": null,
   "id": "6e4a72d5-e0fb-4ab3-aa02-626b746c4083",
   "metadata": {},
   "outputs": [],
   "source": [
    "#Displaying the acceptable colors\n",
    "#The three colors here give us the most acceptable range,\n",
    "#and,combined, give us the mask we desire\n",
    "plt.figure(figsize=[12, 4])\n",
    "plt.subplot(131); plt.imshow(red1_mask); plt.title('Red1 Mask')\n",
    "plt.subplot(132); plt.imshow(red2_mask); plt.title('Red2 Mask')\n",
    "plt.subplot(133); plt.imshow(orange_mask); plt.title('Orange Mask')"
   ]
  },
  {
   "cell_type": "code",
   "execution_count": null,
   "id": "0f1c1edf-e8ac-4926-beac-b3f67f8285b6",
   "metadata": {},
   "outputs": [],
   "source": [
    "#Mixing the masks into a final mask\n",
    "reds = cv2.bitwise_or(red1_mask, red2_mask)\n",
    "reds_oranges = cv2.bitwise_or(reds, orange_mask)"
   ]
  },
  {
   "cell_type": "code",
   "execution_count": null,
   "id": "f7d45464-2f4d-4c60-b494-70c1711dabf2",
   "metadata": {},
   "outputs": [],
   "source": [
    "#Displaying our final mask\n",
    "plt.figure()\n",
    "plt.imshow(reds_oranges)"
   ]
  },
  {
   "cell_type": "code",
   "execution_count": null,
   "id": "a36cbbe4-0419-44e0-afe2-ebba9d85c524",
   "metadata": {},
   "outputs": [],
   "source": [
    "#We will now apply the mask to the image\n",
    "hibiscus = cv2.bitwise_and(flower_plus, flower_plus, mask=reds_oranges)\n",
    "\n",
    "#displaying the flower\n",
    "plt.figure()\n",
    "plt.imshow(hibiscus[:, :, ::-1])"
   ]
  },
  {
   "cell_type": "markdown",
   "id": "b35a79a6-0da8-46c5-b5d7-5f5ad3d49c7c",
   "metadata": {},
   "source": [
    "We now have our image. We can now save it."
   ]
  },
  {
   "cell_type": "code",
   "execution_count": null,
   "id": "961da116-47d7-4b5c-b5d4-e3e3a244497b",
   "metadata": {},
   "outputs": [],
   "source": [
    "cv2.imwrite('red_hibiscus_segmented.jpg', hibiscus)"
   ]
  }
 ],
 "metadata": {
  "kernelspec": {
   "display_name": "opencv-env",
   "language": "python",
   "name": "opencv-env"
  },
  "language_info": {
   "codemirror_mode": {
    "name": "ipython",
    "version": 3
   },
   "file_extension": ".py",
   "mimetype": "text/x-python",
   "name": "python",
   "nbconvert_exporter": "python",
   "pygments_lexer": "ipython3",
   "version": "3.12.2"
  }
 },
 "nbformat": 4,
 "nbformat_minor": 5
}
