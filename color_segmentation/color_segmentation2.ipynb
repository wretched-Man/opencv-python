{
 "cells": [
  {
   "cell_type": "markdown",
   "id": "c370c604-5366-42a6-b72c-36c64b6a687e",
   "metadata": {},
   "source": [
    "# Color Segmentation 2"
   ]
  },
  {
   "cell_type": "code",
   "execution_count": null,
   "id": "c5ae6a0e-a34c-4977-9691-8059bbd40759",
   "metadata": {},
   "outputs": [],
   "source": [
    "#We will now use a logo\n",
    "import cv2\n",
    "import numpy as np\n",
    "import matplotlib.pyplot as plt\n",
    "\n",
    "plt.rcParams['image.cmap'] = 'gray'"
   ]
  },
  {
   "cell_type": "code",
   "execution_count": null,
   "id": "d1205086-318d-4991-83e1-43ab3d3cbcb4",
   "metadata": {},
   "outputs": [],
   "source": [
    "#Our color dictionary for HSV ranges\n",
    "color_dict_HSV = {'black': [[180, 255, 30], [0, 0, 0]],\n",
    "              'white': [[180, 18, 255], [0, 0, 231]],\n",
    "              'red1': [[180, 255, 255], [159, 50, 70]],\n",
    "              'red2': [[9, 255, 255], [0, 50, 70]],\n",
    "              'green': [[89, 255, 255], [36, 50, 70]],\n",
    "              'blue': [[128, 255, 255], [90, 50, 70]],\n",
    "              'yellow': [[35, 255, 255], [25, 50, 70]],\n",
    "              'purple': [[158, 255, 255], [129, 50, 70]],\n",
    "              'orange': [[24, 255, 255], [10, 50, 70]],\n",
    "              'gray': [[180, 18, 230], [0, 0, 40]]}"
   ]
  },
  {
   "cell_type": "code",
   "execution_count": null,
   "id": "6485ad14-535c-4bfc-adb0-9b0e1dcb45f8",
   "metadata": {},
   "outputs": [],
   "source": [
    "#Create a mask\n",
    "def mask_builder(hsv, hue):\n",
    "    lower = np.array(color_dict_HSV[hue][1])\n",
    "    upper = np.array(color_dict_HSV[hue][0])\n",
    "\n",
    "    return cv2.inRange(hsv, lower, upper) #mask"
   ]
  },
  {
   "cell_type": "code",
   "execution_count": null,
   "id": "54e3895d-60ad-4d61-8800-662fdb78fa74",
   "metadata": {},
   "outputs": [],
   "source": [
    "#load the image\n",
    "logo = cv2.imread('images/google_G_segment.png', cv2.IMREAD_COLOR)\n",
    "\n",
    "plt.figure(figsize=[5, 5])\n",
    "plt.imshow(logo[:, :, ::-1])"
   ]
  },
  {
   "cell_type": "markdown",
   "id": "0366d0fd-4e1a-462c-a32e-d05043e27c0c",
   "metadata": {},
   "source": [
    "We are going to segment the various portions of the logo."
   ]
  },
  {
   "cell_type": "code",
   "execution_count": null,
   "id": "78d6b4b0-107c-4b01-a13a-52a0bb09f148",
   "metadata": {},
   "outputs": [],
   "source": [
    "#we first convert to HSV\n",
    "logo_hsv = cv2.cvtColor(logo, cv2.COLOR_BGR2HSV)"
   ]
  },
  {
   "cell_type": "code",
   "execution_count": null,
   "id": "22898528-05d6-41e9-b098-794e9a2a2cec",
   "metadata": {},
   "outputs": [],
   "source": [
    "#We now build masks for the various hues in the image\n",
    "green_mask = mask_builder(logo_hsv, 'green')\n",
    "red_mask = mask_builder(logo_hsv, 'red2')\n",
    "orange_mask = mask_builder(logo_hsv, 'orange')\n",
    "blue_mask = mask_builder(logo_hsv, 'blue')"
   ]
  },
  {
   "cell_type": "code",
   "execution_count": null,
   "id": "c50671b1-f412-4230-a0d5-3bf44e24ae1e",
   "metadata": {},
   "outputs": [],
   "source": [
    "#Display the masks\n",
    "plt.figure(figsize=[20, 4])\n",
    "plt.subplot(141); plt.imshow(red_mask); plt.title('Red Mask')\n",
    "plt.subplot(142); plt.imshow(orange_mask); plt.title('Orange Mask')\n",
    "plt.subplot(143); plt.imshow(green_mask); plt.title('Green Mask')\n",
    "plt.subplot(144); plt.imshow(blue_mask); plt.title('Blue Mask')"
   ]
  },
  {
   "cell_type": "markdown",
   "id": "5f5847ff-2be2-4c0a-a62e-6ddb95b0ca57",
   "metadata": {},
   "source": [
    "We will now overlay our mask on the original image."
   ]
  },
  {
   "cell_type": "code",
   "execution_count": null,
   "id": "e714f6d1-02d7-4b2c-a7d6-8bdd3203deac",
   "metadata": {},
   "outputs": [],
   "source": [
    "green = cv2.bitwise_and(logo, logo, mask=green_mask)\n",
    "red = cv2.bitwise_and(logo, logo, mask=red_mask)\n",
    "orange = cv2.bitwise_and(logo, logo, mask=orange_mask)\n",
    "blue = cv2.bitwise_and(logo, logo, mask=blue_mask)"
   ]
  },
  {
   "cell_type": "code",
   "execution_count": null,
   "id": "805bb73b-8063-4bdb-9a1e-8fab4e474cc9",
   "metadata": {},
   "outputs": [],
   "source": [
    "#Display the segmented portions\n",
    "plt.figure(figsize=[20, 4])\n",
    "plt.subplot(141); plt.imshow(red[:, :, ::-1]); plt.title('Red')\n",
    "plt.subplot(142); plt.imshow(orange[:, :, ::-1]); plt.title('Orange')\n",
    "plt.subplot(143); plt.imshow(green[:, :, ::-1]); plt.title('Green')\n",
    "plt.subplot(144); plt.imshow(blue[:, :, ::-1]); plt.title('Blue')"
   ]
  },
  {
   "cell_type": "markdown",
   "id": "0dad96bf-a62e-448b-9649-c9babadf26a2",
   "metadata": {},
   "source": [
    "And there we have it, our segmented image."
   ]
  }
 ],
 "metadata": {
  "kernelspec": {
   "display_name": "opencv-env",
   "language": "python",
   "name": "opencv-env"
  },
  "language_info": {
   "codemirror_mode": {
    "name": "ipython",
    "version": 3
   },
   "file_extension": ".py",
   "mimetype": "text/x-python",
   "name": "python",
   "nbconvert_exporter": "python",
   "pygments_lexer": "ipython3",
   "version": "3.12.2"
  }
 },
 "nbformat": 4,
 "nbformat_minor": 5
}
